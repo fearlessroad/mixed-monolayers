{
 "cells": [
  {
   "cell_type": "markdown",
   "metadata": {},
   "source": [
    "## import modules"
   ]
  },
  {
   "cell_type": "code",
   "execution_count": 2,
   "metadata": {},
   "outputs": [],
   "source": [
    "import numpy as np\n",
    "import mdtraj as md\n",
    "import matplotlib.pyplot as plt\n",
    "%matplotlib inline "
   ]
  },
  {
   "cell_type": "markdown",
   "metadata": {},
   "source": [
    "## import data"
   ]
  },
  {
   "cell_type": "code",
   "execution_count": 3,
   "metadata": {},
   "outputs": [
    {
     "name": "stdout",
     "output_type": "stream",
     "text": [
      "['/gpfs/amarolab/monolayers/MIX1_NaCl0.4_GMX/SA19.5_100ns/step9_1.trr', '/gpfs/amarolab/monolayers/MIX1_NaCl0.4_GMX/SA19.5_100ns/step9_2.trr', '/gpfs/amarolab/monolayers/MIX1_NaCl0.4_GMX/SA19.5_100ns/step9_3.trr', '/gpfs/amarolab/monolayers/MIX1_NaCl0.4_GMX/SA19.5_100ns/step9_4.trr', '/gpfs/amarolab/monolayers/MIX1_NaCl0.4_GMX/SA19.5_100ns/step9_5.trr']\n"
     ]
    }
   ],
   "source": [
    "surface_areas = ['19', '19.5']\n",
    "filedir_mix1_salt = '/gpfs/amarolab/monolayers/MIX1_NaCl0.4_GMX/'\n",
    "trr_files = ['step9_1.trr', 'step9_2.trr', 'step9_3.trr', 'step9_4.trr', 'step9_5.trr']\n",
    "trr = []\n",
    "for i in trr_files:\n",
    "    trr.append(filedir_mix1_salt+'SA'+surface_areas[1]+'_100ns/'+i)\n",
    "print(trr)\n",
    "traj195 = md.load(trr, top=filedir_mix1_salt+'SA'+surface_areas[1]+'_100ns/step9_1.gro')"
   ]
  },
  {
   "cell_type": "code",
   "execution_count": 4,
   "metadata": {},
   "outputs": [],
   "source": [
    "#step9_1\n",
    "thing = np.genfromtxt(filedir_mix1_salt+'SA'+surface_areas[1]+'_100ns/step9_1.xvg', skip_header=24)\n",
    "#step9_2\n",
    "thing2 = np.genfromtxt(filedir_mix1_salt+'SA'+surface_areas[1]+'_100ns/step9_2.xvg', skip_header=24)\n",
    "#step9_3\n",
    "thing3 = np.genfromtxt(filedir_mix1_salt+'SA'+surface_areas[1]+'_100ns/step9_3.xvg', skip_header=24)\n",
    "#step9_4\n",
    "thing4 = np.genfromtxt(filedir_mix1_salt+'SA'+surface_areas[1]+'_100ns/step9_4.xvg', skip_header=24)\n",
    "#step9_5\n",
    "thing5 = np.genfromtxt(filedir_mix1_salt+'SA'+surface_areas[1]+'_100ns/step9_5.xvg', skip_header=24)"
   ]
  },
  {
   "cell_type": "code",
   "execution_count": 5,
   "metadata": {},
   "outputs": [],
   "source": [
    "#print(thing)\n",
    "#print(thing[:,0])\n",
    "#step9_1\n",
    "x1_data = thing[:,0]\n",
    "y1_data1 = thing[:,1]\n",
    "#step9_2\n",
    "x2_data = thing2[:,0]\n",
    "y2_data1 = thing2[:,1]\n",
    "#step9_3\n",
    "x3_data = thing3[:,0]\n",
    "y3_data1 = thing3[:,1]\n",
    "#step9_4\n",
    "x4_data = thing4[:,0]\n",
    "y4_data1 = thing4[:,1]\n",
    "#step9_5\n",
    "x5_data = thing5[:,0]\n",
    "y5_data1 = thing5[:,1]"
   ]
  },
  {
   "cell_type": "code",
   "execution_count": 6,
   "metadata": {},
   "outputs": [
    {
     "name": "stdout",
     "output_type": "stream",
     "text": [
      "[0.0000e+00 2.0000e+00 4.0000e+00 ... 1.9996e+04 1.9998e+04 2.0000e+04]\n",
      "[ 249.7183594  -166.88251955  120.20427245 ...  246.2524414   383.3178467\n",
      " -297.45214845]\n",
      "[0.0000e+00 2.0000e+00 4.0000e+00 ... 1.9996e+04 1.9998e+04 2.0000e+04]\n",
      "[-293.5765381   200.6401001    95.6062927  ... -102.13843385 -157.6849365\n",
      " -262.1404297 ]\n",
      "[0.0000e+00 2.0000e+00 4.0000e+00 ... 1.9996e+04 1.9998e+04 2.0000e+04]\n",
      "[-293.5859131   149.8654785   -70.1187317  ...   76.38258665  228.5074219\n",
      "  309.81208495]\n",
      "[0.0000e+00 2.0000e+00 4.0000e+00 ... 1.9996e+04 1.9998e+04 2.0000e+04]\n",
      "[-293.5381592   -48.62083435  -11.2356621  ... -210.04367675 -166.79622805\n",
      "  -19.56872865]\n",
      "[0.0000e+00 2.0000e+00 4.0000e+00 ... 1.9996e+04 1.9998e+04 2.0000e+04]\n",
      "[-293.5532715    79.46240845 -207.00925295 ...  234.98291015 -126.6533081\n",
      " -127.9659912 ]\n"
     ]
    }
   ],
   "source": [
    "#step9_1\n",
    "print(x1_data)\n",
    "y1_data = y1_data1/20\n",
    "print(y1_data)\n",
    "#step9_2\n",
    "print(x2_data)\n",
    "y2_data = y2_data1/20\n",
    "print(y2_data)\n",
    "#step9_3\n",
    "print(x3_data)\n",
    "y3_data = y3_data1/20\n",
    "print(y3_data)\n",
    "#step9_4\n",
    "print(x4_data)\n",
    "y4_data = y4_data1/20\n",
    "print(y4_data)\n",
    "#step9_5\n",
    "print(x5_data)\n",
    "y5_data = y5_data1/20\n",
    "print(y5_data)"
   ]
  },
  {
   "cell_type": "code",
   "execution_count": 7,
   "metadata": {},
   "outputs": [
    {
     "name": "stdout",
     "output_type": "stream",
     "text": [
      "[0.0000e+00 2.0000e+00 4.0000e+00 ... 9.9996e+04 9.9998e+04 1.0000e+05]\n",
      "[ 249.7183594  -166.88251955  120.20427245 ...  234.98291015 -126.6533081\n",
      " -127.9659912 ]\n"
     ]
    }
   ],
   "source": [
    "#append example\n",
    "#ar1 = np.array([1, 2, 3, 4, 5])\n",
    "#ar2 = np.array([1, 2, 3, 4, 5])\n",
    "#new_thing = np.append(ar1, ar2+ar1[-1])\n",
    "#print(new_thing)\n",
    "\n",
    "#appending x values \n",
    "#append 2 to 1 (called 12)\n",
    "appended_12 = np.append(x1_data, x2_data+x1_data[-1])\n",
    "#print(appended_12)\n",
    "#append 3 to 12 (called 123)\n",
    "appended_123 = np.append(appended_12, x3_data+appended_12[-1])\n",
    "#print(appended_123)\n",
    "#append 4 to 123 (called 1234)\n",
    "appended_1234 = np.append(appended_123, x4_data+appended_123[-1])\n",
    "#print(appended_1234)\n",
    "#append 5 to 1234 (called xtotal_appended)\n",
    "xtotal_appended = np.append(appended_1234, x5_data+appended_1234[-1])\n",
    "print(xtotal_appended)\n",
    "\n",
    "#appending y values\n",
    "#append 2 to 1 (called 21)\n",
    "y21 = np.append(y1_data, y2_data)\n",
    "#append 3 to 21\n",
    "y321 = np.append(y21, y3_data)\n",
    "#append 4 to 321 (4321)\n",
    "y4321 = np.append(y321, y4_data)\n",
    "#append 5 to 4321 (ytotal_appended)\n",
    "ytotal_appended = np.append(y4321, y5_data)\n",
    "print(ytotal_appended)"
   ]
  },
  {
   "cell_type": "code",
   "execution_count": 8,
   "metadata": {},
   "outputs": [
    {
     "data": {
      "text/plain": [
       "<matplotlib.collections.PathCollection at 0x2b2b67808ad0>"
      ]
     },
     "execution_count": 8,
     "metadata": {},
     "output_type": "execute_result"
    },
    {
     "data": {
      "image/png": "[encoded data removed]",
      "text/plain": [
       "<Figure size 432x288 with 1 Axes>"
      ]
     },
     "metadata": {},
     "output_type": "display_data"
    }
   ],
   "source": [
    "plt.scatter(xtotal_appended, ytotal_appended)"
   ]
  },
  {
   "cell_type": "code",
   "execution_count": 16,
   "metadata": {},
   "outputs": [
    {
     "name": "stdout",
     "output_type": "stream",
     "text": [
      "[20.0, 39.998, 59.996, 79.994]\n",
      "[62.72913842794, 60.719465820335, 61.44242686222499, 60.543608496145]\n"
     ]
    },
    {
     "data": {
      "text/plain": [
       "Text(0,0.5,'Surface Pressure (mN/m)')"
      ]
     },
     "execution_count": 16,
     "metadata": {},
     "output_type": "execute_result"
    },
    {
     "data": {
      "image/png": "[encoded data removed]",
      "text/plain": [
       "<Figure size 432x288 with 1 Axes>"
      ]
     },
     "metadata": {},
     "output_type": "display_data"
    }
   ],
   "source": [
    "def getData(step, x, y):\n",
    "    newx = []\n",
    "    newy = []\n",
    "    yerr = []\n",
    "    #print length of new arrays\n",
    "    length = len(x)/step\n",
    "    L = 0\n",
    "    while L < length-1:\n",
    "        #print(length)\n",
    "        newx.append(x[(L+1)*step])\n",
    "        newy.append(np.mean(y[(L*step):(L+1)*step]))\n",
    "        yerr.append(np.std(y[(L*step):(L+1)*step]))\n",
    "        L+=1\n",
    "    return(newx, newy, yerr)\n",
    "P,Q,R = getData(10000, xtotal_appended/1000, 70.5-ytotal_appended)#70.5 minus surface tension = surface pressure with OPC4\n",
    "print(P)\n",
    "print(Q)\n",
    "w = 10\n",
    "ec = 'black'\n",
    "plt.bar(P[0], Q[0], width=w, color='mediumslateblue', alpha=0.5, edgecolor = ec, yerr=R[0])\n",
    "plt.bar(P[1], Q[1], width=w, color='lightskyblue', alpha=0.5, edgecolor = ec, yerr=R[1])\n",
    "plt.bar(P[2], Q[2], width=w, color='aquamarine', alpha=0.5, edgecolor = ec, yerr=R[2])\n",
    "plt.bar(P[3], Q[3], width=w, color='tomato', alpha=0.5, edgecolor = ec, yerr=R[3])\n",
    "plt.xlabel('Time (ns)')\n",
    "plt.ylabel('Surface Pressure (mN/m)')"
   ]
  },
  {
   "cell_type": "code",
   "execution_count": 18,
   "metadata": {},
   "outputs": [
    {
     "name": "stdout",
     "output_type": "stream",
     "text": [
      "[0.0000e+00 2.0000e-03 4.0000e-03 ... 1.9996e+01 1.9998e+01 2.0000e+01]\n",
      "[-179.2183594   237.38251955  -49.70427245 ... -175.7524414  -312.8178467\n",
      "  367.95214845]\n",
      "[4.0, 8.0, 12.0, 16.0]\n",
      "[57.631572799525, 61.767248706425, 66.702791663875, 63.81094923505]\n",
      "[185.48140156261286, 182.9365399478934, 186.47283885470387, 177.7319232761522]\n"
     ]
    }
   ],
   "source": [
    "#Just first 20 ns because we want to see if running for a short amount of time is sufficient or not!\n",
    "x20_data = (xtotal_appended/1000)[0:10001]\n",
    "print(x20_data)\n",
    "y20_data = (70.5-ytotal_appended)[0:10001]\n",
    "print(y20_data)\n",
    "def getData(step, x, y):\n",
    "    newx = []\n",
    "    newy = []\n",
    "    yerr = []\n",
    "    #print length of new arrays\n",
    "    length = len(x)/step\n",
    "    L = 0\n",
    "    while L < length-1:\n",
    "        #print(length)\n",
    "        newx.append(x[(L+1)*step])\n",
    "        newy.append(np.mean(y[(L*step):(L+1)*step]))\n",
    "        yerr.append(np.std(y[(L*step):(L+1)*step]))\n",
    "        L+=1\n",
    "    return(newx, newy, yerr)\n",
    "X,Y,Z = getData(2000, x20_data, y20_data)#70.5 minus surface tension = surface pressure with OPC4\n",
    "print(X)\n",
    "print(Y)\n",
    "print(Z)"
   ]
  },
  {
   "cell_type": "code",
   "execution_count": 23,
   "metadata": {},
   "outputs": [
    {
     "data": {
      "text/plain": [
       "Text(0.5,1,'Convergence for MIX1 SA19.5')"
      ]
     },
     "execution_count": 23,
     "metadata": {},
     "output_type": "execute_result"
    },
    {
     "data": {
      "image/png": "[encoded data removed]",
      "text/plain": [
       "<Figure size 432x288 with 1 Axes>"
      ]
     },
     "metadata": {},
     "output_type": "display_data"
    }
   ],
   "source": [
    "w=3\n",
    "a=0.5\n",
    "plt.bar(X[0], Y[0], width=w, color='mediumslateblue', alpha=a, label='1-5ns', edgecolor = ec, yerr=Z[0])\n",
    "plt.bar(X[1], Y[1], width=w, color='lightskyblue', alpha=a, label='6-10ns', edgecolor = ec, yerr=Z[1])\n",
    "plt.bar(X[2], Y[2], width=w, color='aquamarine', alpha=a, label='11-15ns', edgecolor = ec, yerr=Z[2])\n",
    "plt.bar(X[3], Y[3], width=w, color='tomato', alpha=a, label='16-20ns', edgecolor = ec, yerr=Z[3])\n",
    "plt.xlabel('Time (ns)')\n",
    "plt.ylabel('Surface Pressure (mN/m)')\n",
    "plt.legend(loc=3)\n",
    "plt.title('Convergence for MIX1 SA19.5')"
   ]
  },
  {
   "cell_type": "code",
   "execution_count": null,
   "metadata": {
    "collapsed": true
   },
   "outputs": [],
   "source": []
  }
 ],
 "metadata": {
  "kernelspec": {
   "display_name": "Python 2",
   "language": "python",
   "name": "python2"
  },
  "language_info": {
   "codemirror_mode": {
    "name": "ipython",
    "version": 2
   },
   "file_extension": ".py",
   "mimetype": "text/x-python",
   "name": "python",
   "nbconvert_exporter": "python",
   "pygments_lexer": "ipython2",
   "version": "2.7.15"
  }
 },
 "nbformat": 4,
 "nbformat_minor": 2
}
