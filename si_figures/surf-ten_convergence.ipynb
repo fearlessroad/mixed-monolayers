{
 "cells": [
  {
   "cell_type": "markdown",
   "metadata": {},
   "source": [
    "## import modules"
   ]
  },
  {
   "cell_type": "code",
   "execution_count": 113,
   "metadata": {
    "collapsed": true
   },
   "outputs": [],
   "source": [
    "import numpy as np\n",
    "import mdtraj as md\n",
    "import matplotlib.pyplot as plt\n",
    "%matplotlib inline \n",
    "#new stuff 7/9 for automating process\n",
    "import os\n",
    "import os.path\n",
    "from pathlib2 import Path\n",
    "import matplotlib.pylab as pylab\n",
    "params = {'legend.fontsize': 'large',\n",
    "          'figure.figsize': (15, 5),\n",
    "         'axes.labelsize': 'large',\n",
    "         'axes.titlesize':'large',\n",
    "         'xtick.labelsize':'large',\n",
    "         'ytick.labelsize':'large'}\n",
    "pylab.rcParams.update(params)"
   ]
  },
  {
   "cell_type": "markdown",
   "metadata": {},
   "source": [
    "## import data"
   ]
  },
  {
   "cell_type": "code",
   "execution_count": 103,
   "metadata": {},
   "outputs": [
    {
     "name": "stdout",
     "output_type": "stream",
     "text": [
      "59520\n",
      "59520\n"
     ]
    }
   ],
   "source": [
    "gmx_surface_areas = ['SA19-1_20ns', 'SA19-2_100ns', 'SA19-3_20ns',\n",
    "                 'SA19.5_100ns', 'SA19.5-2_20ns', 'SA19.5-3_20ns',\n",
    "                 'SA20_20ns', 'SA20-2_20ns', 'SA20-3_100ns',\n",
    "                 'SA21_100ns', 'SA21-2_20ns', 'SA21-3_20ns', \n",
    "                 'SA22_20ns', 'SA22-2_20ns', 'SA22-3_100ns', \n",
    "                 'SA24_20ns', 'SA24-2_20ns', 'SA24-3_100ns']\n",
    "namd_surface_areas = ['SA19','SA19-2', 'SA19-3', \n",
    "                   'SA19.5','SA19.5-2', 'SA19.5-3',\n",
    "                   'SA20','SA20-2', 'SA20-3',\n",
    "                   'SA20.5', 'SA20.5-2', 'SA20.5-3',\n",
    "                   'SA21','SA21-2', 'SA21-3',\n",
    "                   'SA22','SA22-2', 'SA22-3',\n",
    "                   'SA23','SA23-2', 'SA23-3',\n",
    "                   'SA24', 'SA24-2', 'SA24-3']\n",
    "namd_filenames = ['step7.1', 'step7.2', 'step7.21', 'step7.3', 'step7.31', 'step7.32', 'step7.33', 'step7.34',\n",
    "               'step7.35','step7.4', 'step7.41', 'step7.42', 'step7.43', 'step7.44', 'step7.45']\n",
    "gmx_filenames = []\n",
    "for g in range(1,21):\n",
    "    gmx_filenames.append('step9_'+str(g))\n",
    "filedir_g = '/gpfs/amarolab/monolayers/MIX1_NaCl0.4_GMX/'\n",
    "filedir_n = '/gpfs/amarolab/abbyflabby/MIX/MIX1234_NaCl0.4_NAMD/'\n",
    "logfiles_n = []\n",
    "logfiles_g = []\n",
    "trr_files = []\n",
    "dcd_files = []\n",
    "\n",
    "for area in namd_surface_areas:\n",
    "    logchunk = []\n",
    "    dcdchunk = []\n",
    "    for i in namd_filenames:\n",
    "        log = Path(filedir_n+area+'/charmm-gui/namd/'+i+'_production.log')\n",
    "        dcd = Path(filedir_n+area+'/charmm-gui/namd/'+i+'_production.dcd')\n",
    "        if log.exists():\n",
    "            logchunk.append(filedir_n+area+'/charmm-gui/namd/'+i+'_production.log')\n",
    "        if dcd.exists():\n",
    "            dcdchunk.append(filedir_n+area+'/charmm-gui/namd/'+i+'_production.dcd')\n",
    "    if len(logchunk)>0:\n",
    "        logfiles_n.append(logchunk)\n",
    "        dcd_files.append(dcdchunk)\n",
    "#xvgfiles = [] #list of xvg filenames\n",
    "pres = []\n",
    "times = []\n",
    "areas = []\n",
    "trr_files = []\n",
    "#for narea in n_surface_areas:\n",
    "#    logchunk = []\n",
    "    \n",
    "for area in gmx_surface_areas:\n",
    "    xvgchunk = []\n",
    "    trajchunk = []\n",
    "    for i in range(1, 21):\n",
    "        xvg = Path(filedir_g+area+'/step9_'+str(i)+'.xvg')\n",
    "        traj = Path(filedir_g+area+'/step9_'+str(i)+'.trr')\n",
    "        if xvg.exists():\n",
    "            xvgchunk.append(filedir_g+area+'/step9_'+str(i)+'.xvg')\n",
    "        if traj.exists():\n",
    "            trajchunk.append(filedir_g+area+'/step9_'+str(i)+'.trr')\n",
    "    #print(xvgchunk)\n",
    "    for p, x in enumerate(xvgchunk):\n",
    "        if p == 0:\n",
    "            #arr = np.array(timesteps)\n",
    "            #timesteps in nanoseconds\n",
    "            timesteps = np.genfromtxt(x, dtype='float', skip_header=24)[:,0]/1000\n",
    "            #np.append(timesteps, new_ts)\n",
    "            pressures = np.genfromtxt(x, dtype='float', skip_header=24)[:,1]/20\n",
    "            #np.append(pressures, new_pr)\n",
    "            #print(pressures)\n",
    "        else:\n",
    "            time = np.genfromtxt(x,dtype='float', skip_header=24)[:,0]/1000\n",
    "            #print(time)\n",
    "            timesteps = np.append(timesteps, time)\n",
    "      #      #print(time)\n",
    "      #      #t = time.tolist()\n",
    "      #      timesteps.append(time)\n",
    "      #      print(timesteps)\n",
    "            pr = np.genfromtxt(x, dtype='float', skip_header=24)[:,1]/20\n",
    "            pressures = np.append(pressures, pr)\n",
    "    if len(xvgchunk)>0:\n",
    "        pres.append(70.5-np.array(pressures))\n",
    "        times.append(timesteps)\n",
    "        areas.append(area)\n",
    "        logfiles_g.append(xvgchunk)\n",
    "        trr_files.append(trajchunk)\n",
    "#print(len(xvgfiles))\n",
    "#print(xvgfiles)\n",
    "print(len(times[1]))\n",
    "#print(times[1][-1])\n",
    "print(len(pres[1]))\n",
    "#print(len(times))\n",
    "#print(areas)"
   ]
  },
  {
   "cell_type": "code",
   "execution_count": null,
   "metadata": {},
   "outputs": [],
   "source": []
  },
  {
   "cell_type": "code",
   "execution_count": 107,
   "metadata": {
    "collapsed": true
   },
   "outputs": [],
   "source": [
    "def getIncrementedData(step, x, y):\n",
    "    newx = []\n",
    "    newy = []\n",
    "    yerr = []\n",
    "    #print length of new arrays\n",
    "    length = len(x)/step\n",
    "    #l2 = len(y)/step\n",
    "    #print(length)\n",
    "    #print(l2)\n",
    "    L = 0\n",
    "    while L < length-1:\n",
    "        #print(L)\n",
    "        #print(length-1)\n",
    "        #print(length)\n",
    "        newx.append(x[(L+1)*step])\n",
    "        #why = y[(L*step):(L+1)*step]\n",
    "        #print(len(x))\n",
    "        #print(x)\n",
    "        #print(L*step)\n",
    "        #print((L+1)*step)\n",
    "        newy.append(np.mean(y[(L*step):(L+1)*step]))\n",
    "        #print(newy)\n",
    "        yerr.append(np.std(y[(L*step):(L+1)*step]))\n",
    "        L+=1\n",
    "    return(newx, newy, yerr)"
   ]
  },
  {
   "cell_type": "code",
   "execution_count": 39,
   "metadata": {
    "collapsed": true
   },
   "outputs": [],
   "source": [
    "def getMeanData():\n",
    "    chunk = []\n",
    "    for p in pres:\n",
    "        chunk.append(np.mean(p))\n",
    "    return chunk\n",
    "L = getMeanData()"
   ]
  },
  {
   "cell_type": "markdown",
   "metadata": {},
   "source": [
    "### Convergence Analysis of 100ns"
   ]
  },
  {
   "cell_type": "code",
   "execution_count": null,
   "metadata": {},
   "outputs": [],
   "source": [
    "plt.figure(figsize=(8,6))\n",
    "plt.subplot(111)\n",
    "w = 20\n",
    "ec='k'\n",
    "a = 0.5\n",
    "#print(times[2][-1])\n",
    "#print(len(times[2]))\n",
    "plt.xticks([30, 130, 230, 330], ('19', '19.5', '20', '21'))\n",
    "A,B,C = getIncrementedData(1000, times[2]/100, pres[2])\n",
    "plt.title('Convergence Analysis')\n",
    "plt.ylabel('Surface Pressure (mN/m)')\n",
    "plt.xlabel('Area per lipid ($\\AA^2$/lipid)')\n",
    "\n",
    "plt.bar(A[0], B[0], width=w, color='mediumslateblue', alpha=a, label='1-25ns', edgecolor = ec)\n",
    "plt.bar(A[1]+20, B[1], width=w, color='lightskyblue', alpha=a, label='26-50ns', edgecolor = ec)\n",
    "plt.bar(A[2]+40, B[2], width=w, color='lightgreen', alpha=a, label='51-75ns', edgecolor = ec)\n",
    "plt.bar(A[3]+60, B[3], width=w, color='tomato', alpha=a, label='76-100ns', edgecolor = ec)\n",
    "\n",
    "D,E,F = getIncrementedData(1000, times[3]/100, pres[3])\n",
    "plt.bar(D[0]+100, E[0], width=w, color='mediumslateblue', alpha=a,  edgecolor = ec)\n",
    "plt.bar(D[1]+120, E[1], width=w, color='lightskyblue', alpha=a,  edgecolor = ec)\n",
    "plt.bar(D[2]+140, E[2], width=w, color='lightgreen', alpha=a,  edgecolor = ec)\n",
    "plt.bar(D[3]+160, E[3], width=w, color='tomato', alpha=a, edgecolor = ec)\n",
    "\n",
    "G,H,I = getIncrementedData(1000, times[6]/100, pres[6])\n",
    "plt.bar(G[0]+200, H[0], width=w, color='mediumslateblue', alpha=a,  edgecolor = ec)\n",
    "plt.bar(G[1]+220, H[1], width=w, color='lightskyblue', alpha=a,  edgecolor = ec)\n",
    "plt.bar(G[2]+240, H[2], width=w, color='lightgreen', alpha=a,  edgecolor = ec)\n",
    "plt.bar(G[3]+260, H[3], width=w, color='tomato', alpha=a, edgecolor = ec)\n",
    "\n",
    "J,K,L = getIncrementedData(1000, times[7]/100, pres[7])\n",
    "plt.bar(J[0]+300, K[0], width=w, color='mediumslateblue', alpha=a, edgecolor = ec)\n",
    "plt.bar(J[1]+320, K[1], width=w, color='lightskyblue', alpha=a, edgecolor = ec)\n",
    "plt.bar(J[2]+340, K[2], width=w, color='lightgreen', alpha=a, edgecolor = ec)\n",
    "plt.bar(J[3]+360, K[3], width=w, color='tomato', alpha=a, edgecolor = ec)\n",
    "\n",
    "#plt.plot([0, 75], [np.mean(pres[2]), np.mean(pres[2])], color='k', ls='dashed')\n",
    "#plt.plot([100, 200], [np.mean(pres[3]), np.mean(pres[3])], color='k', ls='dashed')\n",
    "#plt.plot([200, 300], [np.mean(pres[6]), np.mean(pres[6])], color='k', ls='dashed')\n",
    "#plt.plot([300, 400], [np.mean(pres[7]), np.mean(pres[7])], color='k', ls='dashed')\n",
    "plt.legend(loc=1)\n",
    "plt.ylim(0,100)\n",
    "\n",
    "plt.savefig('/home/adommer/Desktop/convergence.png', dpi=600)"
   ]
  },
  {
   "cell_type": "code",
   "execution_count": null,
   "metadata": {
    "collapsed": true
   },
   "outputs": [],
   "source": []
  },
  {
   "cell_type": "code",
   "execution_count": 115,
   "metadata": {},
   "outputs": [
    {
     "data": {
      "image/png": "[encoded data removed]",
      "text/plain": [
       "<matplotlib.figure.Figure at 0x2b7c860b49d0>"
      ]
     },
     "metadata": {},
     "output_type": "display_data"
    }
   ],
   "source": [
    "plt.figure(figsize=(8,6))\n",
    "plt.subplot(111)\n",
    "w = 20\n",
    "ec = 'k'\n",
    "a = 0.5\n",
    "M = getMeanData()\n",
    "plt.xticks([2, 6, 10, 14, 18, 22], ('19', '19.5', '20', '21', '22', '24'))\n",
    "plt.title('Convergence Analysis')\n",
    "plt.ylabel('Mean Surface Pressure (mN/m)')\n",
    "plt.xlabel('Area per lipid ($\\AA^2$/lipid)')\n",
    "#SA19\n",
    "plt.bar(1, M[0], color = 'lightpink', alpha = a, label='20ns', edgecolor = ec)#20ns\n",
    "plt.bar(1, M[0], color = 'none', edgecolor = ec)#20ns\n",
    "plt.bar(2, M[2], color = 'lightpink', label='20ns', edgecolor = ec)#20ns\n",
    "plt.bar(2, M[2], color = 'none', edgecolor = ec)#20ns\n",
    "plt.bar(3, M[1], color = 'dodgerblue', alpha = a, label='100ns', edgecolor = ec)#100ns\n",
    "plt.bar(3, M[1], color = 'none', edgecolor = ec)#20ns\n",
    "#SA19.5 \n",
    "plt.bar(5, M[4], color = 'lightpink', alpha = a, edgecolor = ec)#20ns\n",
    "plt.bar(5, M[4], color = 'none', edgecolor = ec)#20ns\n",
    "plt.bar(6, M[5], color = 'lightpink', edgecolor = ec)#20ns\n",
    "plt.bar(6, M[5], color = 'none', edgecolor = ec)#20ns\n",
    "plt.bar(7, M[3], color = 'dodgerblue', alpha = a, edgecolor = ec)#100ns\n",
    "plt.bar(7, M[3], color = 'none', edgecolor = ec)#100ns\n",
    "#SA20\n",
    "plt.bar(9, M[6], color = 'lightpink', alpha = a, edgecolor = ec)#20ns\n",
    "plt.bar(9, M[6], color = 'none', edgecolor = ec)#20ns\n",
    "plt.bar(10, M[7], color = 'lightpink', edgecolor = ec)#20ns\n",
    "plt.bar(11, M[8], color = 'dodgerblue', alpha = a, edgecolor = ec)#100ns\n",
    "plt.bar(11, M[8], color = 'none', edgecolor = ec)#100ns\n",
    "#SA21\n",
    "plt.bar(13, M[10], color = 'lightpink', alpha = a, edgecolor = ec)#20ns\n",
    "plt.bar(13, M[10], color = 'none', edgecolor = ec)#20ns\n",
    "plt.bar(14, M[11], color = 'lightpink', edgecolor = ec)#20ns\n",
    "plt.bar(15, M[9], color = 'dodgerblue', alpha = a, edgecolor = ec)#100ns\n",
    "plt.bar(15, M[9], color = 'none', edgecolor = ec)#100ns\n",
    "#SA22\n",
    "plt.bar(17, M[12], color = 'lightpink', alpha = a, edgecolor = ec)#20ns\n",
    "plt.bar(17, M[12], color = 'none', edgecolor = ec)#20ns\n",
    "plt.bar(18, M[13], color = 'lightpink', edgecolor = ec)#20ns\n",
    "#SA24\n",
    "plt.bar(21, M[14], color = 'lightpink', alpha = a, edgecolor = ec)#20ns\n",
    "plt.bar(21, M[14], color = 'none', edgecolor = ec)\n",
    "plt.bar(22, M[15], color = 'lightpink', edgecolor = ec)\n",
    "\n",
    "plt.legend(loc=1)\n",
    "plt.savefig('/home/adommer/Desktop/mean_convergence.png', dpi=600)"
   ]
  },
  {
   "cell_type": "code",
   "execution_count": 7,
   "metadata": {
    "collapsed": true
   },
   "outputs": [],
   "source": [
    "#SA19 Scatter Plot\n"
   ]
  },
  {
   "cell_type": "code",
   "execution_count": 114,
   "metadata": {},
   "outputs": [
    {
     "data": {
      "text/plain": [
       "<matplotlib.legend.Legend at 0x2b7c86040290>"
      ]
     },
     "execution_count": 114,
     "metadata": {},
     "output_type": "execute_result"
    },
    {
     "data": {
      "image/png": "[encoded data removed]",
      "text/plain": [
       "<matplotlib.figure.Figure at 0x2b7c85df8f90>"
      ]
     },
     "metadata": {},
     "output_type": "display_data"
    }
   ],
   "source": [
    "plt.xlabel('Time (ns)')\n",
    "plt.ylabel('Surface Pressure (mN/m)')\n",
    "N,O,P = getIncrementedData(500, times[0], pres[0])\n",
    "plt.errorbar(N,O, color='navy', yerr=P, ecolor='navy', ls='none', marker='^', elinewidth=1, label='SA19')\n",
    "nn,rr,ss = getIncrementedData(500, times[1], pres[1])\n",
    "#print(rr[0])\n",
    "#print(len(rr))\n",
    "plt.errorbar(nn,rr, color='crimson', yerr=ss, ecolor='crimson', ls='none', marker='^', elinewidth=1, label='SA19.5')\n",
    "T,U,V = getIncrementedData(500, times[8], pres[8])\n",
    "plt.errorbar(T,U, color='lime', yerr=V, ecolor='lime', ls='none', marker='^', elinewidth=1, label='SA20', alpha=0.5)\n",
    "W,X,Y = getIncrementedData(500, times[9], pres[9])\n",
    "plt.legend(loc=1)"
   ]
  },
  {
   "cell_type": "code",
   "execution_count": null,
   "metadata": {
    "collapsed": true
   },
   "outputs": [],
   "source": []
  }
 ],
 "metadata": {
  "kernelspec": {
   "display_name": "Python 2",
   "language": "python",
   "name": "python2"
  },
  "language_info": {
   "codemirror_mode": {
    "name": "ipython",
    "version": 2
   },
   "file_extension": ".py",
   "mimetype": "text/x-python",
   "name": "python",
   "nbconvert_exporter": "python",
   "pygments_lexer": "ipython2",
   "version": "2.7.14"
  }
 },
 "nbformat": 4,
 "nbformat_minor": 2
}
