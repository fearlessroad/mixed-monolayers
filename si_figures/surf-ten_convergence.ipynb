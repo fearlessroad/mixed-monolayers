{
 "cells": [
  {
   "cell_type": "markdown",
   "metadata": {},
   "source": [
    "## import modules"
   ]
  },
  {
   "cell_type": "code",
   "execution_count": 2,
   "metadata": {
    "collapsed": true
   },
   "outputs": [],
   "source": [
    "import numpy as np\n",
    "import mdtraj as md\n",
    "import matplotlib.pyplot as plt\n",
    "%matplotlib inline "
   ]
  },
  {
   "cell_type": "markdown",
   "metadata": {},
   "source": [
    "## import data"
   ]
  },
  {
   "cell_type": "code",
   "execution_count": 3,
   "metadata": {},
   "outputs": [
    {
     "name": "stdout",
     "output_type": "stream",
     "text": [
      "['/gpfs/amarolab/monolayers/MIX1_NaCl0.4_GMX/SA19.5_100ns/step9_1.trr', '/gpfs/amarolab/monolayers/MIX1_NaCl0.4_GMX/SA19.5_100ns/step9_2.trr', '/gpfs/amarolab/monolayers/MIX1_NaCl0.4_GMX/SA19.5_100ns/step9_3.trr', '/gpfs/amarolab/monolayers/MIX1_NaCl0.4_GMX/SA19.5_100ns/step9_4.trr', '/gpfs/amarolab/monolayers/MIX1_NaCl0.4_GMX/SA19.5_100ns/step9_5.trr']\n"
     ]
    }
   ],
   "source": [
    "surface_areas = ['19', '19.5']\n",
    "filedir_mix1_salt = '/gpfs/amarolab/monolayers/MIX1_NaCl0.4_GMX/'\n",
    "trr_files = ['step9_1.trr', 'step9_2.trr', 'step9_3.trr', 'step9_4.trr', 'step9_5.trr']\n",
    "trr = []\n",
    "for i in trr_files:\n",
    "    trr.append(filedir_mix1_salt+'SA'+surface_areas[1]+'_100ns/'+i)\n",
    "print(trr)\n",
    "traj195 = md.load(trr, top=filedir_mix1_salt+'SA'+surface_areas[1]+'_100ns/step9_1.gro')"
   ]
  },
  {
   "cell_type": "code",
   "execution_count": 4,
   "metadata": {
    "collapsed": true
   },
   "outputs": [],
   "source": [
    "#step9_1\n",
    "thing = np.genfromtxt(filedir_mix1_salt+'SA'+surface_areas[1]+'_100ns/step9_1.xvg', skip_header=24)\n",
    "#step9_2\n",
    "thing2 = np.genfromtxt(filedir_mix1_salt+'SA'+surface_areas[1]+'_100ns/step9_2.xvg', skip_header=24)\n",
    "#step9_3\n",
    "thing3 = np.genfromtxt(filedir_mix1_salt+'SA'+surface_areas[1]+'_100ns/step9_3.xvg', skip_header=24)\n",
    "#step9_4\n",
    "thing4 = np.genfromtxt(filedir_mix1_salt+'SA'+surface_areas[1]+'_100ns/step9_4.xvg', skip_header=24)\n",
    "#step9_5\n",
    "thing5 = np.genfromtxt(filedir_mix1_salt+'SA'+surface_areas[1]+'_100ns/step9_5.xvg', skip_header=24)"
   ]
  },
  {
   "cell_type": "code",
   "execution_count": 5,
   "metadata": {
    "collapsed": true
   },
   "outputs": [],
   "source": [
    "#print(thing)\n",
    "#print(thing[:,0])\n",
    "#step9_1\n",
    "x1_data = thing[:,0]\n",
    "y1_data1 = thing[:,1]\n",
    "#step9_2\n",
    "x2_data = thing2[:,0]\n",
    "y2_data1 = thing2[:,1]\n",
    "#step9_3\n",
    "x3_data = thing3[:,0]\n",
    "y3_data1 = thing3[:,1]\n",
    "#step9_4\n",
    "x4_data = thing4[:,0]\n",
    "y4_data1 = thing4[:,1]\n",
    "#step9_5\n",
    "x5_data = thing5[:,0]\n",
    "y5_data1 = thing5[:,1]"
   ]
  },
  {
   "cell_type": "code",
   "execution_count": 9,
   "metadata": {},
   "outputs": [
    {
     "name": "stdout",
     "output_type": "stream",
     "text": [
      "[  0.00000000e+00   2.00000000e+00   4.00000000e+00 ...,   1.99960000e+04\n",
      "   1.99980000e+04   2.00000000e+04]\n",
      "[ 249.7183594  -166.88251955  120.20427245 ...,  246.2524414   383.3178467\n",
      " -297.45214845]\n",
      "[  0.00000000e+00   2.00000000e+00   4.00000000e+00 ...,   1.99960000e+04\n",
      "   1.99980000e+04   2.00000000e+04]\n",
      "[-293.5765381   200.6401001    95.6062927  ..., -102.13843385 -157.6849365\n",
      " -262.1404297 ]\n",
      "[  0.00000000e+00   2.00000000e+00   4.00000000e+00 ...,   1.99960000e+04\n",
      "   1.99980000e+04   2.00000000e+04]\n",
      "[-293.5859131   149.8654785   -70.1187317  ...,   76.38258665  228.5074219\n",
      "  309.81208495]\n",
      "[  0.00000000e+00   2.00000000e+00   4.00000000e+00 ...,   1.99960000e+04\n",
      "   1.99980000e+04   2.00000000e+04]\n",
      "[-293.5381592   -48.62083435  -11.2356621  ..., -210.04367675 -166.79622805\n",
      "  -19.56872865]\n",
      "[  0.00000000e+00   2.00000000e+00   4.00000000e+00 ...,   1.99960000e+04\n",
      "   1.99980000e+04   2.00000000e+04]\n",
      "[-293.5532715    79.46240845 -207.00925295 ...,  234.98291015 -126.6533081\n",
      " -127.9659912 ]\n"
     ]
    }
   ],
   "source": [
    "#step9_1\n",
    "print(x1_data)\n",
    "y1_data = y1_data1/20\n",
    "print(y1_data)\n",
    "#step9_2\n",
    "print(x2_data)\n",
    "y2_data = y2_data1/20\n",
    "print(y2_data)\n",
    "#step9_3\n",
    "print(x3_data)\n",
    "y3_data = y3_data1/20\n",
    "print(y3_data)\n",
    "#step9_4\n",
    "print(x4_data)\n",
    "y4_data = y4_data1/20\n",
    "print(y4_data)\n",
    "#step9_5\n",
    "print(x5_data)\n",
    "y5_data = y5_data1/20\n",
    "print(y5_data)"
   ]
  },
  {
   "cell_type": "code",
   "execution_count": 11,
   "metadata": {},
   "outputs": [
    {
     "name": "stdout",
     "output_type": "stream",
     "text": [
      "[  0.00000000e+00   2.00000000e+00   4.00000000e+00 ...,   9.99960000e+04\n",
      "   9.99980000e+04   1.00000000e+05]\n",
      "[ 249.7183594  -166.88251955  120.20427245 ...,  234.98291015 -126.6533081\n",
      " -127.9659912 ]\n"
     ]
    }
   ],
   "source": [
    "#append example\n",
    "#ar1 = np.array([1, 2, 3, 4, 5])\n",
    "#ar2 = np.array([1, 2, 3, 4, 5])\n",
    "#new_thing = np.append(ar1, ar2+ar1[-1])\n",
    "#print(new_thing)\n",
    "\n",
    "#appending x values \n",
    "#append 2 to 1 (called 12)\n",
    "appended_12 = np.append(x1_data, x2_data+x1_data[-1])\n",
    "#print(appended_12)\n",
    "#append 3 to 12 (called 123)\n",
    "appended_123 = np.append(appended_12, x3_data+appended_12[-1])\n",
    "#print(appended_123)\n",
    "#append 4 to 123 (called 1234)\n",
    "appended_1234 = np.append(appended_123, x4_data+appended_123[-1])\n",
    "#print(appended_1234)\n",
    "#append 5 to 1234 (called xtotal_appended)\n",
    "xtotal_appended = np.append(appended_1234, x5_data+appended_1234[-1])\n",
    "print(xtotal_appended)\n",
    "\n",
    "#appending y values\n",
    "#append 2 to 1 (called 21)\n",
    "y21 = np.append(y1_data, y2_data)\n",
    "#append 3 to 21\n",
    "y321 = np.append(y21, y3_data)\n",
    "#append 4 to 321 (4321)\n",
    "y4321 = np.append(y321, y4_data)\n",
    "#append 5 to 4321 (ytotal_appended)\n",
    "ytotal_appended = np.append(y4321, y5_data)\n",
    "print(ytotal_appended)"
   ]
  },
  {
   "cell_type": "code",
   "execution_count": 12,
   "metadata": {},
   "outputs": [
    {
     "data": {
      "text/plain": [
       "<matplotlib.collections.PathCollection at 0x2af8645c1590>"
      ]
     },
     "execution_count": 12,
     "metadata": {},
     "output_type": "execute_result"
    },
    {
     "data": {
      "image/png": "[encoded data removed]",
      "text/plain": [
       "<matplotlib.figure.Figure at 0x2af86483c550>"
      ]
     },
     "metadata": {},
     "output_type": "display_data"
    }
   ],
   "source": [
    "plt.scatter(xtotal_appended, ytotal_appended)"
   ]
  },
  {
   "cell_type": "code",
   "execution_count": 54,
   "metadata": {},
   "outputs": [
    {
     "name": "stdout",
     "output_type": "stream",
     "text": [
      "[20.0, 39.997999999999998, 59.996000000000002, 79.994]\n",
      "[62.729138427940001, 60.719465820335003, 61.442426862224991, 60.543608496144998]\n"
     ]
    },
    {
     "data": {
      "text/plain": [
       "Text(0,0.5,u'Surface Pressure (mN/m)')"
      ]
     },
     "execution_count": 54,
     "metadata": {},
     "output_type": "execute_result"
    },
    {
     "data": {
      "image/png": "[encoded data removed]",
      "text/plain": [
       "<matplotlib.figure.Figure at 0x2af86786ca10>"
      ]
     },
     "metadata": {},
     "output_type": "display_data"
    }
   ],
   "source": [
    "def getData(step, x, y):\n",
    "    newx = []\n",
    "    newy = []\n",
    "    #print length of new arrays\n",
    "    length = len(x)/step\n",
    "    L = 0\n",
    "    while L < length-1:\n",
    "        #print(length)\n",
    "        newx.append(x[(L+1)*step])\n",
    "        newy.append(np.mean(y[(L*step):(L+1)*step]))\n",
    "        L+=1\n",
    "    return(newx, newy)\n",
    "P,Q = getData(10000, xtotal_appended/1000, 70.5-ytotal_appended)#70.5 minus surface tension = surface pressure with OPC4\n",
    "print(P)\n",
    "print(Q)\n",
    "w = 10\n",
    "plt.bar(P[0], Q[0], width=w, color='mediumslateblue', alpha=0.5)\n",
    "plt.bar(P[1], Q[1], width=w, color='lightskyblue', alpha=0.5)\n",
    "plt.bar(P[2], Q[2], width=w, color='aquamarine', alpha=0.5)\n",
    "plt.bar(P[3], Q[3], width=w, color='tomato', alpha=0.5)\n",
    "plt.xlabel('Time (ns)')\n",
    "plt.ylabel('Surface Pressure (mN/m)')"
   ]
  },
  {
   "cell_type": "code",
   "execution_count": 88,
   "metadata": {},
   "outputs": [
    {
     "name": "stdout",
     "output_type": "stream",
     "text": [
      "[  0.00000000e+00   2.00000000e-03   4.00000000e-03 ...,   1.99960000e+01\n",
      "   1.99980000e+01   2.00000000e+01]\n",
      "[-179.2183594   237.38251955  -49.70427245 ..., -175.7524414  -312.8178467\n",
      "  367.95214845]\n",
      "[4.0, 8.0, 12.0, 16.0]\n",
      "[57.631572799525003, 61.767248706425001, 66.702791663875004, 63.810949235050003]\n"
     ]
    }
   ],
   "source": [
    "#Just first 20 ns because we want to see if running for a short amount of time is sufficient or not!\n",
    "x20_data = (xtotal_appended/1000)[0:10001]\n",
    "print(x20_data)\n",
    "y20_data = (70.5-ytotal_appended)[0:10001]\n",
    "print(y20_data)\n",
    "def getData(step, x, y):\n",
    "    newx = []\n",
    "    newy = []\n",
    "    #print length of new arrays\n",
    "    length = len(x)/step\n",
    "    L = 0\n",
    "    while L < length-1:\n",
    "        #print(length)\n",
    "        newx.append(x[(L+1)*step])\n",
    "        newy.append(np.mean(y[(L*step):(L+1)*step]))\n",
    "        L+=1\n",
    "    return(newx, newy)\n",
    "R,S = getData(2000, x20_data, y20_data)#70.5 minus surface tension = surface pressure with OPC4\n",
    "print(R)\n",
    "print(S)"
   ]
  },
  {
   "cell_type": "code",
   "execution_count": 94,
   "metadata": {},
   "outputs": [
    {
     "data": {
      "text/plain": [
       "Text(0.5,1,u'Convergence for MIX1 SA19.5')"
      ]
     },
     "execution_count": 94,
     "metadata": {},
     "output_type": "execute_result"
    },
    {
     "data": {
      "image/png": "[encoded data removed]",
      "text/plain": [
       "<matplotlib.figure.Figure at 0x2af8637a2950>"
      ]
     },
     "metadata": {},
     "output_type": "display_data"
    }
   ],
   "source": [
    "w=3\n",
    "a=0.5\n",
    "plt.bar(R[0], S[0], width=w, color='mediumslateblue', alpha=a, label='1-5ns')\n",
    "plt.bar(R[1], S[1], width=w, color='lightskyblue', alpha=a, label='6-10ns')\n",
    "plt.bar(R[2], S[2], width=w, color='aquamarine', alpha=a, label='11-15ns')\n",
    "plt.bar(R[3], S[3], width=w, color='tomato', alpha=a, label='16-20ns')\n",
    "plt.xlabel('Time (ns)')\n",
    "plt.ylabel('Surface Pressure (mN/m)')\n",
    "plt.legend(loc=3)\n",
    "plt.title('Convergence for MIX1 SA19.5')"
   ]
  },
  {
   "cell_type": "code",
   "execution_count": null,
   "metadata": {
    "collapsed": true
   },
   "outputs": [],
   "source": []
  }
 ],
 "metadata": {
  "kernelspec": {
   "display_name": "Python 2",
   "language": "python",
   "name": "python2"
  },
  "language_info": {
   "codemirror_mode": {
    "name": "ipython",
    "version": 2
   },
   "file_extension": ".py",
   "mimetype": "text/x-python",
   "name": "python",
   "nbconvert_exporter": "python",
   "pygments_lexer": "ipython2",
   "version": "2.7.14"
  }
 },
 "nbformat": 4,
 "nbformat_minor": 2
}
