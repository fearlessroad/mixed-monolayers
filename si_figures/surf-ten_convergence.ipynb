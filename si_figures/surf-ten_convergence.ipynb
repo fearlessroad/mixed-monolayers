{
 "cells": [
  {
   "cell_type": "markdown",
   "metadata": {},
   "source": [
    "## import modules"
   ]
  },
  {
   "cell_type": "code",
   "execution_count": 1,
   "metadata": {},
   "outputs": [],
   "source": [
    "import numpy as np\n",
    "import mdtraj as md\n",
    "import matplotlib.pyplot as plt\n",
    "%matplotlib inline \n",
    "#new stuff 7/9 for automating process\n",
    "import os\n",
    "import os.path\n",
    "from pathlib2 import Path"
   ]
  },
  {
   "cell_type": "markdown",
   "metadata": {},
   "source": [
    "## import data"
   ]
  },
  {
   "cell_type": "code",
   "execution_count": 2,
   "metadata": {},
   "outputs": [
    {
     "name": "stdout",
     "output_type": "stream",
     "text": [
      "[['/gpfs/amarolab/monolayers/MIX1_NaCl0.4_GMX/SA19-1_20ns/step9_1.xvg'], ['/gpfs/amarolab/monolayers/MIX1_NaCl0.4_GMX/SA19-2_100ns/step9_1.xvg', '/gpfs/amarolab/monolayers/MIX1_NaCl0.4_GMX/SA19-2_100ns/step9_2.xvg', '/gpfs/amarolab/monolayers/MIX1_NaCl0.4_GMX/SA19-2_100ns/step9_3.xvg', '/gpfs/amarolab/monolayers/MIX1_NaCl0.4_GMX/SA19-2_100ns/step9_4.xvg', '/gpfs/amarolab/monolayers/MIX1_NaCl0.4_GMX/SA19-2_100ns/step9_5.xvg', '/gpfs/amarolab/monolayers/MIX1_NaCl0.4_GMX/SA19-2_100ns/step9_6.xvg', '/gpfs/amarolab/monolayers/MIX1_NaCl0.4_GMX/SA19-2_100ns/step9_7.xvg', '/gpfs/amarolab/monolayers/MIX1_NaCl0.4_GMX/SA19-2_100ns/step9_8.xvg', '/gpfs/amarolab/monolayers/MIX1_NaCl0.4_GMX/SA19-2_100ns/step9_9.xvg', '/gpfs/amarolab/monolayers/MIX1_NaCl0.4_GMX/SA19-2_100ns/step9_10.xvg', '/gpfs/amarolab/monolayers/MIX1_NaCl0.4_GMX/SA19-2_100ns/step9_11.xvg', '/gpfs/amarolab/monolayers/MIX1_NaCl0.4_GMX/SA19-2_100ns/step9_12.xvg', '/gpfs/amarolab/monolayers/MIX1_NaCl0.4_GMX/SA19-2_100ns/step9_13.xvg', '/gpfs/amarolab/monolayers/MIX1_NaCl0.4_GMX/SA19-2_100ns/step9_14.xvg', '/gpfs/amarolab/monolayers/MIX1_NaCl0.4_GMX/SA19-2_100ns/step9_15.xvg', '/gpfs/amarolab/monolayers/MIX1_NaCl0.4_GMX/SA19-2_100ns/step9_16.xvg', '/gpfs/amarolab/monolayers/MIX1_NaCl0.4_GMX/SA19-2_100ns/step9_17.xvg', '/gpfs/amarolab/monolayers/MIX1_NaCl0.4_GMX/SA19-2_100ns/step9_18.xvg', '/gpfs/amarolab/monolayers/MIX1_NaCl0.4_GMX/SA19-2_100ns/step9_19.xvg', '/gpfs/amarolab/monolayers/MIX1_NaCl0.4_GMX/SA19-2_100ns/step9_20.xvg'], ['/gpfs/amarolab/monolayers/MIX1_NaCl0.4_GMX/SA19-3_20ns/step9_1.xvg'], ['/gpfs/amarolab/monolayers/MIX1_NaCl0.4_GMX/SA19.5_100ns/step9_1.xvg', '/gpfs/amarolab/monolayers/MIX1_NaCl0.4_GMX/SA19.5_100ns/step9_2.xvg', '/gpfs/amarolab/monolayers/MIX1_NaCl0.4_GMX/SA19.5_100ns/step9_3.xvg', '/gpfs/amarolab/monolayers/MIX1_NaCl0.4_GMX/SA19.5_100ns/step9_4.xvg', '/gpfs/amarolab/monolayers/MIX1_NaCl0.4_GMX/SA19.5_100ns/step9_5.xvg']]\n",
      "[array([0.000e+00, 2.000e+00, 4.000e+00, ..., 9.996e+03, 9.998e+03,\n",
      "       1.000e+04]), array([0.000e+00, 2.000e+00, 4.000e+00, ..., 9.996e+03, 9.998e+03,\n",
      "       1.000e+04]), array([0.000e+00, 2.000e+00, 4.000e+00, ..., 9.996e+03, 9.998e+03,\n",
      "       1.000e+04]), array([0.0000e+00, 2.0000e+00, 4.0000e+00, ..., 1.9996e+04, 1.9998e+04,\n",
      "       2.0000e+04])]\n",
      "[array([-251.93395995,    5.094751  ,   63.6291748 , ...,  483.18217775,\n",
      "         -5.11637575,  103.34761965]), array([331.64189455, 215.1593384 , 114.36462095, ..., 180.0532715 ,\n",
      "       281.27978515, -39.27286375]), array([-251.93395995,  213.52790525,  361.6626953 , ..., -203.8863281 ,\n",
      "        113.71812745,  385.72192385]), array([-179.2183594 ,  237.38251955,  -49.70427245, ..., -175.7524414 ,\n",
      "       -312.8178467 ,  367.95214845])]\n",
      "['SA19-1_20ns', 'SA19-2_100ns', 'SA19-3_20ns', 'SA19.5_100ns']\n"
     ]
    }
   ],
   "source": [
    "#surface_areas = ['19', '19.5']\n",
    "#filedir_mix1_salt = '/gpfs/amarolab/monolayers/MIX1_NaCl0.4_GMX/'\n",
    "#trr_files = ['step9_1.trr', 'step9_2.trr', 'step9_3.trr', 'step9_4.trr', 'step9_5.trr']\n",
    "#trr = []\n",
    "#for i in trr_files:\n",
    "    #trr.append(filedir_mix1_salt+'SA'+surface_areas[1]+'_100ns/'+i)\n",
    "#print(trr)\n",
    "#traj195 = md.load(trr, top=filedir_mix1_salt+'SA'+surface_areas[1]+'_100ns/step9_1.gro')\n",
    "#new code\n",
    "surface_areas = ['SA19-1_20ns', 'SA19-2_100ns', 'SA19-3_20ns',\n",
    "                 'SA19.5_100ns', 'SA19.5-2_20ns', 'SA19.5-3_20ns']\n",
    "                # 'SA20_20ns', 'SA20-2_20ns', 'SA20-3_100ns', \n",
    "                # 'SA21_100ns', 'SA21-2_20ns', 'SA21-3_20ns', \n",
    "                # 'SA22_20ns', 'SA22-2_20ns', 'SA22-3_100ns', \n",
    "                # 'SA24_20ns', 'SA24-2_20ns', 'SA24-3_100ns']\n",
    "filedir = '/gpfs/amarolab/monolayers/MIX1_NaCl0.4_GMX/'\n",
    "xvgfiles = [] #list of xvg filenames\n",
    "pres = []\n",
    "times = []\n",
    "areas = []\n",
    "for area in surface_areas:\n",
    "    xvgchunk = []\n",
    "    timesteps=np.array([0])\n",
    "    pressures=np.array([0])\n",
    "    for i in range(1, 21):\n",
    "        xvg = Path(filedir+area+'/step9_'+str(i)+'.xvg')\n",
    "        if xvg.exists():\n",
    "            xvgchunk.append(filedir+area+'/step9_'+str(i)+'.xvg')\n",
    "    for p, x in enumerate(xvgchunk):\n",
    "        #print(p)\n",
    "        if p == 0:\n",
    "            timesteps = np.genfromtxt(x, dtype='float', skip_header=24)[:,0]\n",
    "            #print(timesteps)\n",
    "            pressures = np.genfromtxt(x, dtype='float', skip_header=24)[:,1]/20\n",
    "            #print(pressures)\n",
    "        else:\n",
    "            np.append(timesteps, timesteps[-1]+np.genfromtxt(x,dtype='float', skip_header=24)[:,0])\n",
    "            np.append(pressures, (np.genfromtxt(x, dtype='float', skip_header=24)/20)[:,1])\n",
    "            #print(pressures)\n",
    "    #print(np.mean(70.5-pressures))\n",
    "    if len(xvgchunk)>0:\n",
    "        areas.append(area)\n",
    "        pres.append(70.5-pressures)\n",
    "        times.append(timesteps)\n",
    "        xvgfiles.append(xvgchunk)\n",
    "#print(len(xvgfiles))\n",
    "print(xvgfiles)\n",
    "#print(len(times))\n",
    "print(times)\n",
    "#print(len(pres))\n",
    "print(pres)\n",
    "print(areas)"
   ]
  },
  {
   "cell_type": "code",
   "execution_count": null,
   "metadata": {},
   "outputs": [],
   "source": [
    "#step9_1\n",
    "thing = np.genfromtxt(filedir_mix1_salt+'SA'+surface_areas[1]+'_100ns/step9_1.xvg', skip_header=24)\n",
    "#step9_2\n",
    "thing2 = np.genfromtxt(filedir_mix1_salt+'SA'+surface_areas[1]+'_100ns/step9_2.xvg', skip_header=24)\n",
    "#step9_3\n",
    "thing3 = np.genfromtxt(filedir_mix1_salt+'SA'+surface_areas[1]+'_100ns/step9_3.xvg', skip_header=24)\n",
    "#step9_4\n",
    "thing4 = np.genfromtxt(filedir_mix1_salt+'SA'+surface_areas[1]+'_100ns/step9_4.xvg', skip_header=24)\n",
    "#step9_5\n",
    "thing5 = np.genfromtxt(filedir_mix1_salt+'SA'+surface_areas[1]+'_100ns/step9_5.xvg', skip_header=24)"
   ]
  },
  {
   "cell_type": "code",
   "execution_count": null,
   "metadata": {},
   "outputs": [],
   "source": [
    "#print(thing)\n",
    "#print(thing[:,0])\n",
    "#step9_1\n",
    "x1_data = thing[:,0]\n",
    "y1_data1 = thing[:,1]\n",
    "#step9_2\n",
    "x2_data = thing2[:,0]\n",
    "y2_data1 = thing2[:,1]\n",
    "#step9_3\n",
    "x3_data = thing3[:,0]\n",
    "y3_data1 = thing3[:,1]\n",
    "#step9_4\n",
    "x4_data = thing4[:,0]\n",
    "y4_data1 = thing4[:,1]\n",
    "#step9_5\n",
    "x5_data = thing5[:,0]\n",
    "y5_data1 = thing5[:,1]"
   ]
  },
  {
   "cell_type": "code",
   "execution_count": null,
   "metadata": {},
   "outputs": [],
   "source": [
    "#step9_1\n",
    "print(x1_data)\n",
    "y1_data = y1_data1/20\n",
    "print(y1_data)\n",
    "#step9_2\n",
    "print(x2_data)\n",
    "y2_data = y2_data1/20\n",
    "print(y2_data)\n",
    "#step9_3\n",
    "print(x3_data)\n",
    "y3_data = y3_data1/20\n",
    "print(y3_data)\n",
    "#step9_4\n",
    "print(x4_data)\n",
    "y4_data = y4_data1/20\n",
    "print(y4_data)\n",
    "#step9_5\n",
    "print(x5_data)\n",
    "y5_data = y5_data1/20\n",
    "print(y5_data)"
   ]
  },
  {
   "cell_type": "code",
   "execution_count": null,
   "metadata": {},
   "outputs": [],
   "source": [
    "#append example\n",
    "#ar1 = np.array([1, 2, 3, 4, 5])\n",
    "#ar2 = np.array([1, 2, 3, 4, 5])\n",
    "#new_thing = np.append(ar1, ar2+ar1[-1])\n",
    "#print(new_thing)\n",
    "\n",
    "#appending x values \n",
    "#append 2 to 1 (called 12)\n",
    "appended_12 = np.append(x1_data, x2_data+x1_data[-1])\n",
    "#print(appended_12)\n",
    "#append 3 to 12 (called 123)\n",
    "appended_123 = np.append(appended_12, x3_data+appended_12[-1])\n",
    "#print(appended_123)\n",
    "#append 4 to 123 (called 1234)\n",
    "appended_1234 = np.append(appended_123, x4_data+appended_123[-1])\n",
    "#print(appended_1234)\n",
    "#append 5 to 1234 (called xtotal_appended)\n",
    "xtotal_appended = np.append(appended_1234, x5_data+appended_1234[-1])\n",
    "print(xtotal_appended)\n",
    "\n",
    "#appending y values\n",
    "#append 2 to 1 (called 21)\n",
    "y21 = np.append(y1_data, y2_data)\n",
    "#append 3 to 21\n",
    "y321 = np.append(y21, y3_data)\n",
    "#append 4 to 321 (4321)\n",
    "y4321 = np.append(y321, y4_data)\n",
    "#append 5 to 4321 (ytotal_appended)\n",
    "ytotal_appended = np.append(y4321, y5_data)\n",
    "print(ytotal_appended)"
   ]
  },
  {
   "cell_type": "code",
   "execution_count": null,
   "metadata": {},
   "outputs": [],
   "source": [
    "plt.scatter(xtotal_appended, ytotal_appended)"
   ]
  },
  {
   "cell_type": "code",
   "execution_count": null,
   "metadata": {},
   "outputs": [],
   "source": [
    "#Setting arrays with x and y data and y error\n",
    "def getData(step, x, y):\n",
    "    newx = []\n",
    "    newy = []\n",
    "    yerr = []\n",
    "    #print length of new arrays\n",
    "    length = len(x)/step\n",
    "    L = 0\n",
    "    while L < length-1:\n",
    "        #print(length)\n",
    "        newx.append(x[(L+1)*step])\n",
    "        newy.append(np.mean(y[(L*step):(L+1)*step]))\n",
    "        yerr.append(np.std(y[(L*step):(L+1)*step]))\n",
    "        L+=1\n",
    "    return(newx, newy, yerr)\n",
    "#Creation of bar graph\n",
    "P,Q,R = getData(10000, xtotal_appended/1000, 70.5-ytotal_appended)#70.5 minus surface tension = surface pressure with OPC4\n",
    "print(P)\n",
    "print(Q)\n",
    "w = 10\n",
    "ec = 'black'\n",
    "plt.bar(P[0], Q[0], width=w, color='mediumslateblue', alpha=0.5, edgecolor = ec, yerr=R[0])\n",
    "plt.bar(P[1], Q[1], width=w, color='lightskyblue', alpha=0.5, edgecolor = ec, yerr=R[1])\n",
    "plt.bar(P[2], Q[2], width=w, color='aquamarine', alpha=0.5, edgecolor = ec, yerr=R[2])\n",
    "plt.bar(P[3], Q[3], width=w, color='tomato', alpha=0.5, edgecolor = ec, yerr=R[3])\n",
    "plt.xlabel('Time (ns)')\n",
    "plt.ylabel('Surface Pressure (mN/m)')"
   ]
  },
  {
   "cell_type": "code",
   "execution_count": 5,
   "metadata": {},
   "outputs": [
    {
     "ename": "NameError",
     "evalue": "name 'xtotal_appended' is not defined",
     "output_type": "error",
     "traceback": [
      "\u001b[0;31m---------------------------------------------------------------------------\u001b[0m",
      "\u001b[0;31mNameError\u001b[0m                                 Traceback (most recent call last)",
      "\u001b[0;32m<ipython-input-5-5f47fbd38295>\u001b[0m in \u001b[0;36m<module>\u001b[0;34m()\u001b[0m\n\u001b[1;32m     16\u001b[0m     \u001b[0;32mreturn\u001b[0m\u001b[0;34m(\u001b[0m\u001b[0mnewx\u001b[0m\u001b[0;34m,\u001b[0m \u001b[0mnewy\u001b[0m\u001b[0;34m,\u001b[0m \u001b[0myerr\u001b[0m\u001b[0;34m)\u001b[0m\u001b[0;34m\u001b[0m\u001b[0m\n\u001b[1;32m     17\u001b[0m \u001b[0;34m\u001b[0m\u001b[0m\n\u001b[0;32m---> 18\u001b[0;31m \u001b[0mP\u001b[0m\u001b[0;34m,\u001b[0m\u001b[0mQ\u001b[0m\u001b[0;34m,\u001b[0m\u001b[0mR\u001b[0m \u001b[0;34m=\u001b[0m \u001b[0mgetData\u001b[0m\u001b[0;34m(\u001b[0m\u001b[0;36m10000\u001b[0m\u001b[0;34m,\u001b[0m \u001b[0mxtotal_appended\u001b[0m\u001b[0;34m/\u001b[0m\u001b[0;36m1000\u001b[0m\u001b[0;34m,\u001b[0m \u001b[0;36m70.5\u001b[0m\u001b[0;34m-\u001b[0m\u001b[0mytotal_appended\u001b[0m\u001b[0;34m)\u001b[0m\u001b[0;31m#70.5 minus surface tension = surface pressure with OPC4\u001b[0m\u001b[0;34m\u001b[0m\u001b[0m\n\u001b[0m\u001b[1;32m     19\u001b[0m \u001b[0;34m\u001b[0m\u001b[0m\n\u001b[1;32m     20\u001b[0m \u001b[0mX\u001b[0m \u001b[0;34m=\u001b[0m \u001b[0mnp\u001b[0m\u001b[0;34m.\u001b[0m\u001b[0marange\u001b[0m\u001b[0;34m(\u001b[0m\u001b[0;36m4\u001b[0m\u001b[0;34m)\u001b[0m\u001b[0;34m\u001b[0m\u001b[0m\n",
      "\u001b[0;31mNameError\u001b[0m: name 'xtotal_appended' is not defined"
     ]
    }
   ],
   "source": [
    "#Trying to push like SAs together \n",
    "#Setting arrays with x and y data and y error\n",
    "def getData(step, x, y):\n",
    "    newx = []\n",
    "    newy = []\n",
    "    yerr = []\n",
    "    #print length of new arrays\n",
    "    length = len(x)/step\n",
    "    L = 0\n",
    "    while L < length-1:\n",
    "        #print(length)\n",
    "        newx.append(x[(L+1)*step])\n",
    "        newy.append(np.mean(y[(L*step):(L+1)*step]))\n",
    "        yerr.append(np.std(y[(L*step):(L+1)*step]))\n",
    "        L+=1\n",
    "    return(newx, newy, yerr)\n",
    "\n",
    "P,Q,R = getData(10000, xtotal_appended/1000, 70.5-ytotal_appended)#70.5 minus surface tension = surface pressure with OPC4\n",
    "\n",
    "X = np.arange(4)\n",
    "plt.bar(P[0], Q[0], color = 'mediumslateblue', alpha=0.5, width = 10, edgecolor = ec, tick_label = Q[0])\n",
    "plt.bar(P[1], Q[1], color = 'lightskyblue', alpha=0.5, width = 10, edgecolor = ec)#, tick_label = Q[1])\n",
    "plt.bar(P[2], Q[2], color = 'aquamarine', alpha=0.5, width = 10, edgecolor = ec)#, tick_label = Q[2])\n",
    "plt.bar(P[3], Q[3], color = 'tomato', alpha=0.5, width = 10, edgecolor = ec)#, tick_label = Q[3])\n",
    "\n",
    "\n",
    "\n",
    "#P,Q,R = getData(10000, xtotal_appended/1000, 70.5-ytotal_appended)#70.5 minus surface tension = surface pressure with OPC4\n",
    "#print(P)\n",
    "#print(Q)\n",
    "#w = 10\n",
    "#ec = 'black'\n",
    "#plt.bar(P[0], Q[0], width=w, color='mediumslateblue', alpha=0.5, edgecolor = ec, yerr=R[0])\n",
    "#plt.bar(P[1], Q[1], width=w, color='lightskyblue', alpha=0.5, edgecolor = ec, yerr=R[1])\n",
    "#plt.bar(P[2], Q[2], width=w, color='aquamarine', alpha=0.5, edgecolor = ec, yerr=R[2])\n",
    "#plt.bar(P[3], Q[3], width=w, color='tomato', alpha=0.5, edgecolor = ec, yerr=R[3])\n",
    "#plt.xlabel('Time (ns)')\n",
    "#plt.ylabel('Surface Pressure (mN/m)')"
   ]
  },
  {
   "cell_type": "code",
   "execution_count": null,
   "metadata": {},
   "outputs": [],
   "source": []
  },
  {
   "cell_type": "code",
   "execution_count": 4,
   "metadata": {},
   "outputs": [
    {
     "ename": "NameError",
     "evalue": "name 'xtotal_appended' is not defined",
     "output_type": "error",
     "traceback": [
      "\u001b[0;31m---------------------------------------------------------------------------\u001b[0m",
      "\u001b[0;31mNameError\u001b[0m                                 Traceback (most recent call last)",
      "\u001b[0;32m<ipython-input-4-5477ea413136>\u001b[0m in \u001b[0;36m<module>\u001b[0;34m()\u001b[0m\n\u001b[1;32m      1\u001b[0m \u001b[0;31m#Just first 20 ns because we want to see if running for a short amount of time is sufficient or not!\u001b[0m\u001b[0;34m\u001b[0m\u001b[0;34m\u001b[0m\u001b[0m\n\u001b[0;32m----> 2\u001b[0;31m \u001b[0mx20_data\u001b[0m \u001b[0;34m=\u001b[0m \u001b[0;34m(\u001b[0m\u001b[0mxtotal_appended\u001b[0m\u001b[0;34m/\u001b[0m\u001b[0;36m1000\u001b[0m\u001b[0;34m)\u001b[0m\u001b[0;34m[\u001b[0m\u001b[0;36m0\u001b[0m\u001b[0;34m:\u001b[0m\u001b[0;36m10001\u001b[0m\u001b[0;34m]\u001b[0m\u001b[0;34m\u001b[0m\u001b[0m\n\u001b[0m\u001b[1;32m      3\u001b[0m \u001b[0;32mprint\u001b[0m\u001b[0;34m(\u001b[0m\u001b[0mx20_data\u001b[0m\u001b[0;34m)\u001b[0m\u001b[0;34m\u001b[0m\u001b[0m\n\u001b[1;32m      4\u001b[0m \u001b[0my20_data\u001b[0m \u001b[0;34m=\u001b[0m \u001b[0;34m(\u001b[0m\u001b[0;36m70.5\u001b[0m\u001b[0;34m-\u001b[0m\u001b[0mytotal_appended\u001b[0m\u001b[0;34m)\u001b[0m\u001b[0;34m[\u001b[0m\u001b[0;36m0\u001b[0m\u001b[0;34m:\u001b[0m\u001b[0;36m10001\u001b[0m\u001b[0;34m]\u001b[0m\u001b[0;34m\u001b[0m\u001b[0m\n\u001b[1;32m      5\u001b[0m \u001b[0;32mprint\u001b[0m\u001b[0;34m(\u001b[0m\u001b[0my20_data\u001b[0m\u001b[0;34m)\u001b[0m\u001b[0;34m\u001b[0m\u001b[0m\n",
      "\u001b[0;31mNameError\u001b[0m: name 'xtotal_appended' is not defined"
     ]
    }
   ],
   "source": [
    "#Just first 20 ns because we want to see if running for a short amount of time is sufficient or not!\n",
    "x20_data = (xtotal_appended/1000)[0:10001]\n",
    "print(x20_data)\n",
    "y20_data = (70.5-ytotal_appended)[0:10001]\n",
    "print(y20_data)\n",
    "def getData(step, x, y):\n",
    "    newx = []\n",
    "    newy = []\n",
    "    yerr = []\n",
    "    #print length of new arrays\n",
    "    length = len(x)/step\n",
    "    L = 0\n",
    "    while L < length-1:\n",
    "        #print(length)\n",
    "        newx.append(x[(L+1)*step])\n",
    "        newy.append(np.mean(y[(L*step):(L+1)*step]))\n",
    "        yerr.append(np.std(y[(L*step):(L+1)*step]))\n",
    "        L+=1\n",
    "    return(newx, newy, yerr)\n",
    "X,Y,Z = getData(2000, x20_data, y20_data)#70.5 minus surface tension = surface pressure with OPC4\n",
    "print(X)\n",
    "print(Y)\n",
    "print(Z)"
   ]
  },
  {
   "cell_type": "code",
   "execution_count": null,
   "metadata": {},
   "outputs": [],
   "source": [
    "w=3\n",
    "a=0.5\n",
    "plt.bar(X[0], Y[0], width=w, color='mediumslateblue', alpha=a, label='1-5ns', edgecolor = ec, yerr=Z[0])\n",
    "plt.bar(X[1], Y[1], width=w, color='lightskyblue', alpha=a, label='6-10ns', edgecolor = ec, yerr=Z[1])\n",
    "plt.bar(X[2], Y[2], width=w, color='aquamarine', alpha=a, label='11-15ns', edgecolor = ec, yerr=Z[2])\n",
    "plt.bar(X[3], Y[3], width=w, color='tomato', alpha=a, label='16-20ns', edgecolor = ec, yerr=Z[3])\n",
    "plt.xlabel('Time (ns)')\n",
    "plt.ylabel('Surface Pressure (mN/m)')\n",
    "plt.legend(loc=3)\n",
    "plt.title('Convergence for MIX1 SA19.5')"
   ]
  },
  {
   "cell_type": "code",
   "execution_count": 11,
   "metadata": {},
   "outputs": [
    {
     "data": {
      "image/png": "[encoded data removed]",
      "text/plain": [
       "<Figure size 432x288 with 1 Axes>"
      ]
     },
     "metadata": {},
     "output_type": "display_data"
    }
   ],
   "source": [
    "plt.subplot(111)\n",
    "w = 0.01\n",
    "ec='k'\n",
    "a = 0.5\n",
    "A,B,C = getData(10, times[0]/100, pres[0])\n",
    "plt.title('SA19-1_20ns')\n",
    "plt.bar(A[0], B[0], width=w, color='mediumslateblue', alpha=a, label='1-5ns', edgecolor = ec, yerr=C[0])\n",
    "plt.bar(A[1], B[1], width=w, color='lightskyblue', alpha=a, label='6-10ns', edgecolor = ec, yerr=C[1])\n",
    "plt.bar(A[2], B[2], width=w, color='aquamarine', alpha=a, label='11-15ns', edgecolor = ec, yerr=C[2])\n",
    "plt.bar(A[3], B[3], width=w, color='tomato', alpha=a, label='16-20ns', edgecolor = ec, yerr=C[3])\n",
    "plt.legend(loc=2)\n",
    "plt.show()"
   ]
  },
  {
   "cell_type": "code",
   "execution_count": null,
   "metadata": {},
   "outputs": [],
   "source": []
  },
  {
   "cell_type": "code",
   "execution_count": null,
   "metadata": {},
   "outputs": [],
   "source": []
  },
  {
   "cell_type": "code",
   "execution_count": null,
   "metadata": {},
   "outputs": [],
   "source": []
  },
  {
   "cell_type": "code",
   "execution_count": null,
   "metadata": {},
   "outputs": [],
   "source": []
  }
 ],
 "metadata": {
  "kernelspec": {
   "display_name": "Python 2",
   "language": "python",
   "name": "python2"
  },
  "language_info": {
   "codemirror_mode": {
    "name": "ipython",
    "version": 2
   },
   "file_extension": ".py",
   "mimetype": "text/x-python",
   "name": "python",
   "nbconvert_exporter": "python",
   "pygments_lexer": "ipython2",
   "version": "2.7.15"
  }
 },
 "nbformat": 4,
 "nbformat_minor": 2
}
