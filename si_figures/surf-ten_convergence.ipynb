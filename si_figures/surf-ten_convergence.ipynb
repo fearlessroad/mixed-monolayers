{
 "cells": [
  {
   "cell_type": "markdown",
   "metadata": {},
   "source": [
    "## import modules"
   ]
  },
  {
   "cell_type": "code",
   "execution_count": 2,
   "metadata": {
    "collapsed": true
   },
   "outputs": [],
   "source": [
    "import numpy as np\n",
    "import mdtraj as md\n",
    "import matplotlib.pyplot as plt\n",
    "%matplotlib inline \n",
    "#new stuff 7/9 for automating process\n",
    "import os\n",
    "import os.path\n",
    "from pathlib2 import Path"
   ]
  },
  {
   "cell_type": "markdown",
   "metadata": {},
   "source": [
    "## import data"
   ]
  },
  {
   "cell_type": "code",
   "execution_count": 3,
   "metadata": {},
   "outputs": [
    {
     "name": "stdout",
     "output_type": "stream",
     "text": [
      "['SA19-1_20ns', 'SA19-2_100ns', 'SA19-3_20ns', 'SA19.5_100ns', 'SA20_20ns', 'SA20-2_20ns', 'SA20-3_100ns', 'SA21_100ns', 'SA21-2_20ns', 'SA21-3_20ns', 'SA22_20ns', 'SA22-2_20ns', 'SA24_20ns', 'SA24-2_20ns']\n"
     ]
    }
   ],
   "source": [
    "surface_areas = ['SA19-1_20ns', 'SA19-2_100ns', 'SA19-3_20ns',\n",
    "                 'SA19.5_100ns', 'SA19.5-2_20ns', 'SA19.5-3_20ns',\n",
    "                 'SA20_20ns', 'SA20-2_20ns', 'SA20-3_100ns',\n",
    "                 'SA21_100ns', 'SA21-2_20ns', 'SA21-3_20ns', \n",
    "                 'SA22_20ns', 'SA22-2_20ns', 'SA22-3_100ns', \n",
    "                 'SA24_20ns', 'SA24-2_20ns', 'SA24-3_100ns']\n",
    "#n_surface_areas = ['SA19', 'SA19.5', 'SA20', 'SA20.5','SA21','SA22','SA23','SA24']\n",
    "filedir = '/gpfs/amarolab/monolayers/MIX1_NaCl0.4_GMX/'\n",
    "#filedir1 = '/gpfs/amarolab/abbyflabby/MIX/MIX1234_NaCl0.4_NAMD/'\n",
    "#logfiles = []\n",
    "xvgfiles = [] #list of xvg filenames\n",
    "pres = []\n",
    "times = []\n",
    "areas = []\n",
    "#for narea in n_surface_areas:\n",
    "#    logchunk = []\n",
    "    \n",
    "for area in surface_areas:\n",
    "    xvgchunk = []\n",
    "    timesteps=np.array([0])\n",
    "    pressures=np.array([0])\n",
    "    for i in range(1, 21):\n",
    "        xvg = Path(filedir+area+'/step9_'+str(i)+'.xvg')\n",
    "        if xvg.exists():\n",
    "            xvgchunk.append(filedir+area+'/step9_'+str(i)+'.xvg')\n",
    "    for p, x in enumerate(xvgchunk):\n",
    "        #print(p)\n",
    "        if p == 0:\n",
    "            timesteps = np.genfromtxt(x, dtype='float', skip_header=24)[:,0]\n",
    "            #print(timesteps)\n",
    "            pressures = np.genfromtxt(x, dtype='float', skip_header=24)[:,1]/20\n",
    "            #print(pressures)\n",
    "        else:\n",
    "            np.append(timesteps, timesteps[-1]+np.genfromtxt(x,dtype='float', skip_header=24)[:,0])\n",
    "            np.append(pressures, (np.genfromtxt(x, dtype='float', skip_header=24)/20)[:,1])\n",
    "            #print(pressures)\n",
    "    #print(np.mean(70.5-pressures))\n",
    "    if len(xvgchunk)>0:\n",
    "        pres.append(70.5-pressures)\n",
    "        times.append(timesteps)\n",
    "        areas.append(area)\n",
    "        xvgfiles.append(xvgchunk)\n",
    "#print(len(xvgfiles))\n",
    "#print(xvgfiles)\n",
    "#print(len(times))\n",
    "#print(times)\n",
    "#print(len(pres))\n",
    "#print(pres)\n",
    "print(areas)"
   ]
  },
  {
   "cell_type": "code",
   "execution_count": null,
   "metadata": {
    "collapsed": true
   },
   "outputs": [],
   "source": [
    "#step9_1\n",
    "thing = np.genfromtxt(filedir_mix1_salt+'SA'+surface_areas[1]+'_100ns/step9_1.xvg', skip_header=24)\n",
    "#step9_2\n",
    "thing2 = np.genfromtxt(filedir_mix1_salt+'SA'+surface_areas[1]+'_100ns/step9_2.xvg', skip_header=24)\n",
    "#step9_3\n",
    "thing3 = np.genfromtxt(filedir_mix1_salt+'SA'+surface_areas[1]+'_100ns/step9_3.xvg', skip_header=24)\n",
    "#step9_4\n",
    "thing4 = np.genfromtxt(filedir_mix1_salt+'SA'+surface_areas[1]+'_100ns/step9_4.xvg', skip_header=24)\n",
    "#step9_5\n",
    "thing5 = np.genfromtxt(filedir_mix1_salt+'SA'+surface_areas[1]+'_100ns/step9_5.xvg', skip_header=24)"
   ]
  },
  {
   "cell_type": "code",
   "execution_count": null,
   "metadata": {
    "collapsed": true
   },
   "outputs": [],
   "source": [
    "#print(thing)\n",
    "#print(thing[:,0])\n",
    "#step9_1\n",
    "x1_data = thing[:,0]\n",
    "y1_data1 = thing[:,1]\n",
    "#step9_2\n",
    "x2_data = thing2[:,0]\n",
    "y2_data1 = thing2[:,1]\n",
    "#step9_3\n",
    "x3_data = thing3[:,0]\n",
    "y3_data1 = thing3[:,1]\n",
    "#step9_4\n",
    "x4_data = thing4[:,0]\n",
    "y4_data1 = thing4[:,1]\n",
    "#step9_5\n",
    "x5_data = thing5[:,0]\n",
    "y5_data1 = thing5[:,1]"
   ]
  },
  {
   "cell_type": "code",
   "execution_count": null,
   "metadata": {
    "collapsed": true
   },
   "outputs": [],
   "source": [
    "#step9_1\n",
    "print(x1_data)\n",
    "y1_data = y1_data1/20\n",
    "print(y1_data)\n",
    "#step9_2\n",
    "print(x2_data)\n",
    "y2_data = y2_data1/20\n",
    "print(y2_data)\n",
    "#step9_3\n",
    "print(x3_data)\n",
    "y3_data = y3_data1/20\n",
    "print(y3_data)\n",
    "#step9_4\n",
    "print(x4_data)\n",
    "y4_data = y4_data1/20\n",
    "print(y4_data)\n",
    "#step9_5\n",
    "print(x5_data)\n",
    "y5_data = y5_data1/20\n",
    "print(y5_data)"
   ]
  },
  {
   "cell_type": "code",
   "execution_count": null,
   "metadata": {
    "collapsed": true
   },
   "outputs": [],
   "source": [
    "#append example\n",
    "#ar1 = np.array([1, 2, 3, 4, 5])\n",
    "#ar2 = np.array([1, 2, 3, 4, 5])\n",
    "#new_thing = np.append(ar1, ar2+ar1[-1])\n",
    "#print(new_thing)\n",
    "\n",
    "#appending x values \n",
    "#append 2 to 1 (called 12)\n",
    "appended_12 = np.append(x1_data, x2_data+x1_data[-1])\n",
    "#print(appended_12)\n",
    "#append 3 to 12 (called 123)\n",
    "appended_123 = np.append(appended_12, x3_data+appended_12[-1])\n",
    "#print(appended_123)\n",
    "#append 4 to 123 (called 1234)\n",
    "appended_1234 = np.append(appended_123, x4_data+appended_123[-1])\n",
    "#print(appended_1234)\n",
    "#append 5 to 1234 (called xtotal_appended)\n",
    "xtotal_appended = np.append(appended_1234, x5_data+appended_1234[-1])\n",
    "print(xtotal_appended)\n",
    "\n",
    "#appending y values\n",
    "#append 2 to 1 (called 21)\n",
    "y21 = np.append(y1_data, y2_data)\n",
    "#append 3 to 21\n",
    "y321 = np.append(y21, y3_data)\n",
    "#append 4 to 321 (4321)\n",
    "y4321 = np.append(y321, y4_data)\n",
    "#append 5 to 4321 (ytotal_appended)\n",
    "ytotal_appended = np.append(y4321, y5_data)\n",
    "print(ytotal_appended)"
   ]
  },
  {
   "cell_type": "code",
   "execution_count": null,
   "metadata": {
    "collapsed": true
   },
   "outputs": [],
   "source": [
    "plt.scatter(xtotal_appended, ytotal_appended)"
   ]
  },
  {
   "cell_type": "code",
   "execution_count": null,
   "metadata": {
    "collapsed": true
   },
   "outputs": [],
   "source": [
    "#Setting arrays with x and y data and y error\n",
    "def getData(step, x, y):\n",
    "    newx = []\n",
    "    newy = []\n",
    "    yerr = []\n",
    "    #print length of new arrays\n",
    "    length = len(x)/step\n",
    "    L = 0\n",
    "    while L < length-1:\n",
    "        #print(length)\n",
    "        newx.append(x[(L+1)*step])\n",
    "        newy.append(np.mean(y[(L*step):(L+1)*step]))\n",
    "        yerr.append(np.std(y[(L*step):(L+1)*step]))\n",
    "        L+=1\n",
    "    return(newx, newy, yerr)\n",
    "#Creation of bar graph\n",
    "P,Q,R = getData(10000, xtotal_appended/1000, 70.5-ytotal_appended)#70.5 minus surface tension = surface pressure with OPC4\n",
    "print(P)\n",
    "print(Q)\n",
    "w = 10\n",
    "ec = 'black'\n",
    "plt.bar(P[0], Q[0], width=w, color='mediumslateblue', alpha=0.5, edgecolor = ec, yerr=R[0])\n",
    "plt.bar(P[1], Q[1], width=w, color='lightskyblue', alpha=0.5, edgecolor = ec, yerr=R[1])\n",
    "plt.bar(P[2], Q[2], width=w, color='aquamarine', alpha=0.5, edgecolor = ec, yerr=R[2])\n",
    "plt.bar(P[3], Q[3], width=w, color='tomato', alpha=0.5, edgecolor = ec, yerr=R[3])\n",
    "plt.xlabel('Time (ns)')\n",
    "plt.ylabel('Surface Pressure (mN/m)')"
   ]
  },
  {
   "cell_type": "code",
   "execution_count": null,
   "metadata": {},
   "outputs": [],
   "source": [
    "#Trying to push like SAs together \n",
    "#Setting arrays with x and y data and y error\n",
    "def getData(step, x, y):\n",
    "    newx = []\n",
    "    newy = []\n",
    "    yerr = []\n",
    "    #print length of new arrays\n",
    "    length = len(x)/step\n",
    "    L = 0\n",
    "    while L < length-1:\n",
    "        #print(length)\n",
    "        newx.append(x[(L+1)*step])\n",
    "        newy.append(np.mean(y[(L*step):(L+1)*step]))\n",
    "        yerr.append(np.std(y[(L*step):(L+1)*step]))\n",
    "        L+=1\n",
    "    return(newx, newy, yerr)\n",
    "\n",
    "P,Q,R = getData(10000, xtotal_appended/1000, 70.5-ytotal_appended)#70.5 minus surface tension = surface pressure with OPC4\n",
    "\n",
    "X = np.arange(4)\n",
    "plt.bar(P[0], Q[0], color = 'mediumslateblue', alpha=0.5, width = 10, edgecolor = ec, tick_label = Q[0])\n",
    "plt.bar(P[1], Q[1], color = 'lightskyblue', alpha=0.5, width = 10, edgecolor = ec)#, tick_label = Q[1])\n",
    "plt.bar(P[2], Q[2], color = 'aquamarine', alpha=0.5, width = 10, edgecolor = ec)#, tick_label = Q[2])\n",
    "plt.bar(P[3], Q[3], color = 'tomato', alpha=0.5, width = 10, edgecolor = ec)#, tick_label = Q[3])\n",
    "\n",
    "\n",
    "\n",
    "#P,Q,R = getData(10000, xtotal_appended/1000, 70.5-ytotal_appended)#70.5 minus surface tension = surface pressure with OPC4\n",
    "#print(P)\n",
    "#print(Q)\n",
    "#w = 10\n",
    "#ec = 'black'\n",
    "#plt.bar(P[0], Q[0], width=w, color='mediumslateblue', alpha=0.5, edgecolor = ec, yerr=R[0])\n",
    "#plt.bar(P[1], Q[1], width=w, color='lightskyblue', alpha=0.5, edgecolor = ec, yerr=R[1])\n",
    "#plt.bar(P[2], Q[2], width=w, color='aquamarine', alpha=0.5, edgecolor = ec, yerr=R[2])\n",
    "#plt.bar(P[3], Q[3], width=w, color='tomato', alpha=0.5, edgecolor = ec, yerr=R[3])\n",
    "#plt.xlabel('Time (ns)')\n",
    "#plt.ylabel('Surface Pressure (mN/m)')"
   ]
  },
  {
   "cell_type": "code",
   "execution_count": null,
   "metadata": {
    "collapsed": true
   },
   "outputs": [],
   "source": []
  },
  {
   "cell_type": "code",
   "execution_count": 6,
   "metadata": {},
   "outputs": [],
   "source": [
    "#Just first 20 ns because we want to see if running for a short amount of time is sufficient or not!\n",
    "#x20_data = (xtotal_appended/1000)[0:10001]\n",
    "#print(x20_data)\n",
    "#y20_data = (70.5-ytotal_appended)[0:10001]\n",
    "#print(y20_data)\n",
    "def getData(step, x, y):\n",
    "    newx = []\n",
    "    newy = []\n",
    "    yerr = []\n",
    "    #print length of new arrays\n",
    "    length = len(x)/step\n",
    "    L = 0\n",
    "    while L < length-1:\n",
    "        #print(length)\n",
    "        newx.append(x[(L+1)*step])\n",
    "        newy.append(np.mean(y[(L*step):(L+1)*step]))\n",
    "        yerr.append(np.std(y[(L*step):(L+1)*step]))\n",
    "        L+=1\n",
    "    return(newx, newy, yerr)\n",
    "#X,Y,Z = getData(2000, x20_data, y20_data)#70.5 minus surface tension = surface pressure with OPC4\n",
    "#print(X)\n",
    "#print(Y)\n",
    "#print(Z)"
   ]
  },
  {
   "cell_type": "code",
   "execution_count": null,
   "metadata": {
    "collapsed": true
   },
   "outputs": [],
   "source": [
    "w=3\n",
    "a=0.5\n",
    "plt.bar(X[0], Y[0], width=w, color='mediumslateblue', alpha=a, label='1-5ns', edgecolor = ec, yerr=Z[0])\n",
    "plt.bar(X[1], Y[1], width=w, color='lightskyblue', alpha=a, label='6-10ns', edgecolor = ec, yerr=Z[1])\n",
    "plt.bar(X[2], Y[2], width=w, color='aquamarine', alpha=a, label='11-15ns', edgecolor = ec, yerr=Z[2])\n",
    "plt.bar(X[3], Y[3], width=w, color='tomato', alpha=a, label='16-20ns', edgecolor = ec, yerr=Z[3])\n",
    "plt.xlabel('Time (ns)')\n",
    "plt.ylabel('Surface Pressure (mN/m)')\n",
    "plt.legend(loc=3)\n",
    "plt.title('Convergence for MIX1 SA19.5')"
   ]
  },
  {
   "cell_type": "code",
   "execution_count": 50,
   "metadata": {},
   "outputs": [
    {
     "data": {
      "image/png": "[encoded data removed]",
      "text/plain": [
       "<matplotlib.figure.Figure at 0x2b71b95e8c50>"
      ]
     },
     "metadata": {},
     "output_type": "display_data"
    }
   ],
   "source": [
    "plt.subplot(111)\n",
    "w = 20\n",
    "ec='k'\n",
    "a = 0.5\n",
    "#print(times[2][-1])\n",
    "#print(len(times[2]))\n",
    "A,B,C = getData(1000, times[2]/100, pres[2])\n",
    "plt.title('Convergence Analysis')\n",
    "plt.ylabel('Surface Pressure (mN/m)')\n",
    "plt.bar(A[0], B[0], width=w, color='mediumslateblue', alpha=a, label='1-25ns', edgecolor = ec)\n",
    "plt.bar(A[1], B[1], width=w, color='lightskyblue', alpha=a, label='26-50ns', edgecolor = ec)\n",
    "plt.bar(A[2], B[2], width=w, color='lightgreen', alpha=a, label='51-75ns', edgecolor = ec)\n",
    "plt.bar(A[3], B[3], width=w, color='tomato', alpha=a, label='76-100ns', edgecolor = ec)\n",
    "\n",
    "D,E,F = getData(1000, times[3]/100, pres[3])\n",
    "plt.bar(D[0]+100, E[0], width=w, color='mediumslateblue', alpha=a,  edgecolor = ec)\n",
    "plt.bar(D[1]+100, E[1], width=w, color='lightskyblue', alpha=a,  edgecolor = ec)\n",
    "plt.bar(D[2]+100, E[2], width=w, color='lightgreen', alpha=a,  edgecolor = ec)\n",
    "plt.bar(D[3]+100, E[3], width=w, color='tomato', alpha=a, edgecolor = ec)\n",
    "\n",
    "G,H,I = getData(1000, times[6]/100, pres[6])\n",
    "plt.bar(G[0]+200, H[0], width=w, color='mediumslateblue', alpha=a,  edgecolor = ec)\n",
    "plt.bar(G[1]+200, H[1], width=w, color='lightskyblue', alpha=a,  edgecolor = ec)\n",
    "plt.bar(G[2]+200, H[2], width=w, color='lightgreen', alpha=a,  edgecolor = ec)\n",
    "plt.bar(G[3]+200, H[3], width=w, color='tomato', alpha=a, edgecolor = ec)\n",
    "\n",
    "plt.plot([0, 100], [np.mean(pres[2]), np.mean(pres[2])], color='k', ls='dashed')\n",
    "plt.plot([100, 200], [np.mean(pres[3]), np.mean(pres[3])], color='k', ls='dashed')\n",
    "plt.plot([200, 300], [np.mean(pres[6]), np.mean(pres[6])], color='k', ls='dashed')\n",
    "plt.legend(loc=3)\n",
    "plt.show()"
   ]
  },
  {
   "cell_type": "code",
   "execution_count": null,
   "metadata": {},
   "outputs": [],
   "source": []
  },
  {
   "cell_type": "code",
   "execution_count": null,
   "metadata": {
    "collapsed": true
   },
   "outputs": [],
   "source": []
  },
  {
   "cell_type": "code",
   "execution_count": null,
   "metadata": {
    "collapsed": true
   },
   "outputs": [],
   "source": []
  },
  {
   "cell_type": "code",
   "execution_count": null,
   "metadata": {
    "collapsed": true
   },
   "outputs": [],
   "source": []
  }
 ],
 "metadata": {
  "kernelspec": {
   "display_name": "Python 2",
   "language": "python",
   "name": "python2"
  },
  "language_info": {
   "codemirror_mode": {
    "name": "ipython",
    "version": 2
   },
   "file_extension": ".py",
   "mimetype": "text/x-python",
   "name": "python",
   "nbconvert_exporter": "python",
   "pygments_lexer": "ipython2",
   "version": "2.7.14"
  }
 },
 "nbformat": 4,
 "nbformat_minor": 2
}
