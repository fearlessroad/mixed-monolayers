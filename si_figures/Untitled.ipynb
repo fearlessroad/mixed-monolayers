{
 "cells": [
  {
   "cell_type": "code",
   "execution_count": 6,
   "metadata": {},
   "outputs": [],
   "source": [
    "import numpy as np\n",
    "import mdtraj as md\n",
    "import matplotlib.pyplot as plt\n",
    "%matplotlib inline \n",
    "#new stuff 7/9 for automating process\n",
    "import os\n",
    "import os.path\n",
    "from pathlib2 import Path\n",
    "import MDAnalysis as mda\n",
    "from MDAnalysis.analysis import align\n",
    "\n",
    "from MDAnalysis.tests.datafiles import TPR, XTC\n",
    "import matplotlib.pylab as pylab\n",
    "params = {'legend.fontsize': 'x-large',\n",
    "          'figure.figsize': (15, 5),\n",
    "         'axes.labelsize': 'x-large',\n",
    "         'axes.titlesize':'x-large',\n",
    "         'xtick.labelsize':'x-large',\n",
    "         'ytick.labelsize':'x-large',\n",
    "         'font.weight':'medium', \n",
    "         'xtick.major.size':8,\n",
    "         'ytick.major.size':8}\n",
    "pylab.rcParams.update(params)\n",
    "black = '#000000'\n",
    "yellow = '#F0F442'\n",
    "orange = '#ec7f31'\n",
    "#gold = '#E69F00'\n",
    "gold = '#f0bd24'\n",
    "green = '#009E73'\n",
    "dblue = '#0072B2'\n",
    "lblue = '#56B4E9'\n",
    "pink = '#F6BBCA'\n",
    "red = '#FF3442'\n",
    "purple = '#4f0069'\n",
    "lgreen = '#00ff99'\n",
    "c = [purple, red, orange, gold, yellow, green, lgreen, dblue, lblue, pink]\n",
    "bl = '#0000ff'\n",
    "pu = '#8c1aff'\n",
    "bg = '#00cc66'\n",
    "cy = '#00ccff'\n",
    "pi = '#ff66ff'\n",
    "re = '#990033'\n",
    "ora = '#ff704d'\n",
    "ye = '#ffff66'\n",
    "gr = '#99ff99'\n",
    "pal = [bl, pu, bg, cy, pi, re, ora, ye, gr]"
   ]
  },
  {
   "cell_type": "code",
   "execution_count": 7,
   "metadata": {},
   "outputs": [],
   "source": [
    "u = mda.Universe('/gpfs/amarolab/monolayers/LAUP_NaCl0.4_GMX/SA20_100ns/step9_1.tpr', '/gpfs/amarolab/monolayers/LAUP_NaCl0.4_GMX/SA20_100ns/step9_1.xtc', in_memory=True)"
   ]
  },
  {
   "cell_type": "code",
   "execution_count": 17,
   "metadata": {},
   "outputs": [],
   "source": [
    "u_mix1 = mda.Universe('/gpfs/amarolab/monolayers/MIX1_NaCl0.4_GMX/SA20-3_100ns/step9_1.tpr', '/gpfs/amarolab/monolayers/MIX1_NaCl0.4_GMX/SA20-3_100ns/concat.xtc')"
   ]
  },
  {
   "cell_type": "code",
   "execution_count": 18,
   "metadata": {},
   "outputs": [
    {
     "name": "stdout",
     "output_type": "stream",
     "text": [
      "<AtomGroup [<Atom 13249: H1 of type HOL of resname LAUP, resid 252 and segid seg_2_LAUP>, <Atom 13250: O1 of type OHL of resname LAUP, resid 252 and segid seg_2_LAUP>, <Atom 13251: O2 of type OBL of resname LAUP, resid 252 and segid seg_2_LAUP>, ..., <Atom 14614: H12S of type HAL3 of resname LAUP, resid 287 and segid seg_2_LAUP>, <Atom 14615: H12R of type HAL3 of resname LAUP, resid 287 and segid seg_2_LAUP>, <Atom 14616: H12T of type HAL3 of resname LAUP, resid 287 and segid seg_2_LAUP>]>\n"
     ]
    },
    {
     "name": "stderr",
     "output_type": "stream",
     "text": [
      "Exception ignored in: <object repr() failed>\n",
      "Traceback (most recent call last):\n",
      "  File \"/home/adommer/anaconda3/lib/python3.6/site-packages/MDAnalysis/coordinates/base.py\", line 1817, in __del__\n",
      "    self.close()\n",
      "  File \"/home/adommer/anaconda3/lib/python3.6/site-packages/MDAnalysis/coordinates/XDR.py\", line 172, in close\n",
      "    self._xdr.close()\n",
      "AttributeError: 'XTCReader' object has no attribute '_xdr'\n"
     ]
    },
    {
     "name": "stdout",
     "output_type": "stream",
     "text": [
      "<AtomGroup [<Atom 1: H1 of type HOL of resname PALP, resid 0 and segid seg_0_PALP>, <Atom 2: O1 of type OHL of resname PALP, resid 0 and segid seg_0_PALP>, <Atom 3: O2 of type OBL of resname PALP, resid 0 and segid seg_0_PALP>, ..., <Atom 17782: H14R of type HAL3 of resname MYRP, resid 359 and segid seg_3_MYRP>, <Atom 17783: H14S of type HAL3 of resname MYRP, resid 359 and segid seg_3_MYRP>, <Atom 17784: H14T of type HAL3 of resname MYRP, resid 359 and segid seg_3_MYRP>]>\n",
      "<AtomGroup [<Atom 1: H1 of type HOL of resname LAUP, resid 0 and segid seg_0_LAUP>, <Atom 2: O1 of type OHL of resname LAUP, resid 0 and segid seg_0_LAUP>, <Atom 3: O2 of type OBL of resname LAUP, resid 0 and segid seg_0_LAUP>, ..., <Atom 13678: H12S of type HAL3 of resname LAUP, resid 359 and segid seg_0_LAUP>, <Atom 13679: H12R of type HAL3 of resname LAUP, resid 359 and segid seg_0_LAUP>, <Atom 13680: H12T of type HAL3 of resname LAUP, resid 359 and segid seg_0_LAUP>]>\n"
     ]
    }
   ],
   "source": [
    "laurics = u_mix1.select_atoms('resname LAUP')\n",
    "monolayer = u_mix1.select_atoms('not resname SOL and not resname SOD and not resname CLA')\n",
    "LAUP = u.select_atoms('resname LAUP')\n",
    "print(laurics)\n",
    "print(monolayer)\n",
    "print(LAUP)\n",
    "\n",
    "####\n",
    "#prealigner_laup = align.AlignTraj(u, select=\"name C1\", in_memory=True).run()\n",
    "#prealigner_mix1 = align.AlignTraj(u_mix1, select=\"name C1\", in_memory=True).run()"
   ]
  },
  {
   "cell_type": "code",
   "execution_count": 20,
   "metadata": {},
   "outputs": [],
   "source": [
    "#prealigner_laup = align.AlignTraj(u, select=\"name C1\", in_memory=True).run()\n",
    "#prealigner_mix1 = align.AlignTraj(u_mix1, select=\"name C1\", in_memory=True).run()\n",
    "from MDAnalysis.coordinates.memory import MemoryReader\n",
    "from MDAnalysis.analysis.base import AnalysisFromFunction"
   ]
  },
  {
   "cell_type": "code",
   "execution_count": 29,
   "metadata": {},
   "outputs": [],
   "source": [
    "ref_coords_lau = AnalysisFromFunction(lambda ag: ag.positions.copy(),LAUP).run().results\n",
    "#ref_coords_mix1 = u_mix1.trajectory.timeseries(asel=monolayer).mean(axis=1)\n",
    "#ref_coords_laurics = u_mix1.trajectory.timeseries(asel=laurics).mean(axis=1)"
   ]
  },
  {
   "cell_type": "code",
   "execution_count": null,
   "metadata": {},
   "outputs": [],
   "source": [
    "ref_coords_laurics = AnalysisFromFunction(lambda ag: ag.positions.copy(), laurics).run().results\n",
    "ref_coords_mix1 = AnalysisFromFunction(lambda ag: ag.positions.copy(), monolayer).run().results\n",
    "\n",
    "\n",
    "#ref_lau = mda.Merge(lau)\n",
    "#ref_mix1 = \n",
    "#ref_laurics = "
   ]
  },
  {
   "cell_type": "code",
   "execution_count": null,
   "metadata": {},
   "outputs": [],
   "source": [
    "ref_laurics = mda.Merge(laurics).load_new(ref_coords_laurics[:, None, :], order=\"afc\")"
   ]
  },
  {
   "cell_type": "code",
   "execution_count": null,
   "metadata": {},
   "outputs": [],
   "source": [
    "ref_LAUP = mda.Merge(LAUP).load_new(ref_coords_lau[:])"
   ]
  }
 ],
 "metadata": {
  "kernelspec": {
   "display_name": "Python 3",
   "language": "python",
   "name": "python3"
  },
  "language_info": {
   "codemirror_mode": {
    "name": "ipython",
    "version": 3
   },
   "file_extension": ".py",
   "mimetype": "text/x-python",
   "name": "python",
   "nbconvert_exporter": "python",
   "pygments_lexer": "ipython3",
   "version": "3.6.1"
  }
 },
 "nbformat": 4,
 "nbformat_minor": 2
}
