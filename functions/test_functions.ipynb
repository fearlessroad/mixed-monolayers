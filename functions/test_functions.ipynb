{
 "cells": [
  {
   "cell_type": "code",
   "execution_count": null,
   "metadata": {},
   "outputs": [],
   "source": [
    "import mdtraj as md\n",
    "import numpy as np\n",
    "import matplotlib.pyplot as plt\n",
    "import csv\n",
    "import xlrd\n",
    "import os\n",
    "import os.path\n",
    "from pathlib2 import Path\n",
    "from decimal import *\n",
    "%matplotlib inline\n",
    "import matplotlib.pylab as pylab\n",
    "params = {'legend.fontsize': 'x-large',\n",
    "          'figure.figsize': (15, 5),\n",
    "         'axes.labelsize': 'x-large',\n",
    "         'axes.titlesize':'x-large',\n",
    "         'xtick.labelsize':'x-large',\n",
    "         'ytick.labelsize':'x-large',\n",
    "         'font.weight':'medium', \n",
    "         'xtick.major.size':8,\n",
    "         'ytick.major.size':8}\n",
    "pylab.rcParams.update(params)"
   ]
  },
  {
   "cell_type": "code",
   "execution_count": null,
   "metadata": {},
   "outputs": [],
   "source": [
    "filedir = '/gpfs/amarolab/monolayers/'"
   ]
  },
  {
   "cell_type": "code",
   "execution_count": 3,
   "metadata": {},
   "outputs": [
    {
     "name": "stdout",
     "output_type": "stream",
     "text": [
      "<mdtraj.Trajectory with 10001 frames, 42576 atoms, 7674 residues, and unitcells>\n",
      "<mdtraj.Trajectory with 5000 frames, 36223 atoms, 7721 residues, and unitcells>\n"
     ]
    }
   ],
   "source": [
    "#laup_test_20 = md.load(filedir+'LAUP_NaCl0.4_GMX/SA20-1_100ns/step9_1.trr', top=filedir+'LAUP_NaCl0.4_GMX/SA20-1_100ns/step9_1.gro')\n",
    "#laup_test_19 = md.load('/gpfs/amarolab/abbyflabby/LAU/LAUP_NaCl0.4/SA19/charmm-gui/namd/step7.1_production.dcd', top='/gpfs/amarolab/abbyflabby/LAU/LAUP_NaCl0.4/SA19/charmm-gui/step5_assembly.xplor_ext.psf')\n",
    "#print(laup_test_20)\n",
    "#print(laup_test_19)"
   ]
  },
  {
   "cell_type": "code",
   "execution_count": 4,
   "metadata": {},
   "outputs": [
    {
     "name": "stdout",
     "output_type": "stream",
     "text": [
      "<mdtraj.Trajectory with 8001 frames, 46538 atoms, 7625 residues, and unitcells>\n",
      "<mdtraj.Trajectory with 11901 frames, 47628 atoms, 7669 residues, and unitcells>\n"
     ]
    }
   ],
   "source": [
    "#mix1_test_20 = md.load(filedir+'MIX1_NaCl0.4_GMX/SA20-3_100ns/concat.trr', top=filedir+'MIX1_NaCl0.4_GMX/SA20-3_100ns/step9_1.gro')\n",
    "#mix1_test_19 = md.load(filedir+'MIX1_NaCl0.4_GMX/SA19-2_100ns/newtraj.trr', top=filedir+'MIX1_NaCl0.4_GMX/SA19-2_100ns/step9_1.gro')\n",
    "#print(mix1_test_20)\n",
    "print(mix1_test_19)"
   ]
  },
  {
   "cell_type": "code",
   "execution_count": null,
   "metadata": {},
   "outputs": [],
   "source": [
    "#laup_test_20_s10 = md.load(filedir+'LAUP_NaCl0.4_GMX/SA20-1_100ns/step9_1.trr', top=filedir+'LAUP_NaCl0.4_GMX/SA20-1_100ns/step9_1.gro', stride=10)\n",
    "#laup_test_19_s10 = md.load('/gpfs/amarolab/abbyflabby/LAU/LAUP_NaCl0.4/SA19/charmm-gui/namd/step7.1_production.dcd', top='/gpfs/amarolab/abbyflabby/LAU/LAUP_NaCl0.4/SA19/charmm-gui/step5_assembly.xplor_ext.psf', stride=10)\n",
    "#mix1_test_20_s10 = md.load(filedir+'MIX1_NaCl0.4_GMX/SA20-3_100ns/concat.trr', top=filedir+'MIX1_NaCl0.4_GMX/SA20-3_100ns/step9_1.gro', stride=10)\n",
    "mix1_test_19_s10 = md.load(filedir+'MIX1_NaCl0.4_GMX/SA19-2_100ns/newtraj.trr', top=filedir+'MIX1_NaCl0.4_GMX/SA19-2_100ns/step9_1.gro', stride=10)"
   ]
  },
  {
   "cell_type": "code",
   "execution_count": null,
   "metadata": {},
   "outputs": [],
   "source": [
    "laup_test_20_s10_sel = laup_test_20_s10.top.select('resname LAUP')\n",
    "laup_test_19_s10_sel = laup_test_19_s10.top.select('resname LAUP')\n",
    "mix1_test_20_s10_sel = mix1_test_20_s10.top.select('resname LAUP or resname PALP or resname MYRP or resname STEP')\n",
    "mix1_test_19_s10_sel = mix1_test_19_s10.top.select('resname LAUP or resname PALP or resname MYRP or resname STEP')"
   ]
  },
  {
   "cell_type": "code",
   "execution_count": null,
   "metadata": {},
   "outputs": [],
   "source": []
  },
  {
   "cell_type": "code",
   "execution_count": null,
   "metadata": {},
   "outputs": [],
   "source": []
  },
  {
   "cell_type": "code",
   "execution_count": null,
   "metadata": {},
   "outputs": [],
   "source": []
  },
  {
   "cell_type": "code",
   "execution_count": null,
   "metadata": {},
   "outputs": [],
   "source": []
  },
  {
   "cell_type": "code",
   "execution_count": 7,
   "metadata": {},
   "outputs": [],
   "source": [
    "#compute contacts\n",
    "laup20_res_select = laup_test_20.top.select('resname LAUP')\n",
    "laup20 = laup_test_20.atom_slice(laup20_res_select)"
   ]
  },
  {
   "cell_type": "code",
   "execution_count": 8,
   "metadata": {},
   "outputs": [],
   "source": [
    "laup19_res_select = laup_test_19.top.select('resname LAUP')\n",
    "laup19 = laup_test_19.atom_slice(laup19_res_select)"
   ]
  },
  {
   "cell_type": "code",
   "execution_count": 9,
   "metadata": {},
   "outputs": [],
   "source": [
    "mix120_res_select = mix1_test_20.top.select('resname LAUP or resname PALP or resname MYRP or resname STEP')\n",
    "mix120 = mix1_test_20.atom_slice(mix120_res_select)\n",
    "mix119_res_select = mix1_test_19.top.select('resname LAUP or resname PALP or resname MYRP or resname STEP')\n",
    "mix119 = mix1_test_19.atom_slice(mix119_res_select)\n",
    "\n",
    "\n"
   ]
  },
  {
   "cell_type": "code",
   "execution_count": 20,
   "metadata": {},
   "outputs": [
    {
     "name": "stdout",
     "output_type": "stream",
     "text": [
      "[[0.20612238 0.19849272 0.2047376  ... 1.3624002  0.63857824 1.3601884 ]]\n"
     ]
    }
   ],
   "source": [
    "L19 = md.compute_contacts(laup19[-1], scheme='closest', ignore_nonprotein=False)\n"
   ]
  },
  {
   "cell_type": "code",
   "execution_count": 21,
   "metadata": {},
   "outputs": [
    {
     "name": "stdout",
     "output_type": "stream",
     "text": [
      "1\n"
     ]
    }
   ],
   "source": [
    "print(len(L19[0]))"
   ]
  },
  {
   "cell_type": "code",
   "execution_count": 17,
   "metadata": {},
   "outputs": [],
   "source": [
    "#C = md.geometry.squareform(L19[0], L19[1])"
   ]
  },
  {
   "cell_type": "code",
   "execution_count": 19,
   "metadata": {},
   "outputs": [
    {
     "name": "stdout",
     "output_type": "stream",
     "text": [
      "[[0.        0.        0.        ... 6.7742786 6.410633  6.2427063]\n",
      " [0.        0.        0.        ... 7.2723813 6.884861  6.6323304]\n",
      " [0.        0.        0.        ... 6.4546833 6.181533  5.7807345]\n",
      " ...\n",
      " [6.7742786 7.2723813 6.4546833 ... 0.        0.        0.       ]\n",
      " [6.410633  6.884861  6.181533  ... 0.        0.        0.       ]\n",
      " [6.2427063 6.6323304 5.7807345 ... 0.        0.        0.       ]]\n"
     ]
    }
   ],
   "source": [
    "#print(C[0])"
   ]
  },
  {
   "cell_type": "code",
   "execution_count": null,
   "metadata": {},
   "outputs": [],
   "source": []
  }
 ],
 "metadata": {
  "kernelspec": {
   "display_name": "Python 3",
   "language": "python",
   "name": "python3"
  },
  "language_info": {
   "codemirror_mode": {
    "name": "ipython",
    "version": 3
   },
   "file_extension": ".py",
   "mimetype": "text/x-python",
   "name": "python",
   "nbconvert_exporter": "python",
   "pygments_lexer": "ipython3",
   "version": "3.6.1"
  }
 },
 "nbformat": 4,
 "nbformat_minor": 2
}
