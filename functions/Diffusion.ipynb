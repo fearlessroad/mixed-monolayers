{
 "cells": [
  {
   "cell_type": "code",
   "execution_count": 3,
   "metadata": {
    "collapsed": true
   },
   "outputs": [],
   "source": [
    "import mdtraj as md\n",
    "import matplotlib.pyplot as plt\n",
    "import numpy as np\n",
    "import os.path\n",
    "from pathlib2 import Path\n",
    "%matplotlib inline"
   ]
  },
  {
   "cell_type": "code",
   "execution_count": 2,
   "metadata": {},
   "outputs": [
    {
     "name": "stdout",
     "output_type": "stream",
     "text": [
      "['step9_1', 'step9_2', 'step9_3', 'step9_4', 'step9_5', 'step9_6', 'step9_7', 'step9_8', 'step9_9', 'step9_10', 'step9_11', 'step9_12', 'step9_13', 'step9_14', 'step9_15', 'step9_16', 'step9_17', 'step9_18', 'step9_19', 'step9_20']\n"
     ]
    }
   ],
   "source": [
    "filedir = '/gpfs/amarolab/monolayers/MIX1_NaCl0.4_GMX/'\n",
    "filedir195_1 = filedir + 'SA19.5_100ns/'\n",
    "filedir19_2 = filedir + 'SA19-2_100ns/'\n",
    "filedir20_1 = filedir + 'SA20_20ns/'\n",
    "#filedir20_2 = filedir + 'SA20-2_20ns/'\n",
    "filenames = []\n",
    "files = []\n",
    "for i in range(1, 21):\n",
    "    filenames.append('step9_'+str(i))\n",
    "#print(steps"
   ]
  },
  {
   "cell_type": "code",
   "execution_count": null,
   "metadata": {
    "collapsed": true
   },
   "outputs": [],
   "source": []
  }
 ],
 "metadata": {
  "kernelspec": {
   "display_name": "Python 2",
   "language": "python",
   "name": "python2"
  },
  "language_info": {
   "codemirror_mode": {
    "name": "ipython",
    "version": 2
   },
   "file_extension": ".py",
   "mimetype": "text/x-python",
   "name": "python",
   "nbconvert_exporter": "python",
   "pygments_lexer": "ipython2",
   "version": "2.7.14"
  }
 },
 "nbformat": 4,
 "nbformat_minor": 2
}
