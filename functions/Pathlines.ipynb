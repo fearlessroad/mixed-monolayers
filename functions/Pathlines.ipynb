{
 "cells": [
  {
   "cell_type": "code",
   "execution_count": 4,
   "metadata": {},
   "outputs": [],
   "source": [
    "import numpy as np\n",
    "import mdtraj as md\n",
    "import matplotlib.pyplot as plt\n",
    "%matplotlib inline \n",
    "#new stuff 7/9 for automating process\n",
    "import os\n",
    "import os.path\n",
    "from pathlib2 import Path\n",
    "import matplotlib.pylab as pylab\n",
    "params = {'legend.fontsize': 'xx-large',\n",
    "          'figure.figsize': (15, 5),\n",
    "         'axes.labelsize': 'xx-large',\n",
    "         'axes.titlesize':'xx-large',\n",
    "         'xtick.labelsize':'xx-large',\n",
    "         'ytick.labelsize':'xx-large',\n",
    "         'font.weight':'medium', \n",
    "         'xtick.major.size':8,\n",
    "         'ytick.major.size':8}\n",
    "pylab.rcParams.update(params)"
   ]
  },
  {
   "cell_type": "markdown",
   "metadata": {},
   "source": [
    "## APL 20, pH2, NaCl0.4, MIX1"
   ]
  },
  {
   "cell_type": "code",
   "execution_count": null,
   "metadata": {},
   "outputs": [],
   "source": [
    "traj = md.load('/gpfs/amarolab/monolayers/MIX1_NaCl0.4_GMX/SA20-3_100ns/concat.trr', top='/gpfs/amarolab/monolayers/MIX1_NaCl0.4_GMX/SA20-3_100ns/step9_1.gro')\n",
    "print(traj)"
   ]
  },
  {
   "cell_type": "code",
   "execution_count": null,
   "metadata": {},
   "outputs": [],
   "source": [
    "bl = '#0000ff'\n",
    "pu = '#8c1aff'\n",
    "bg = '#00cc66'\n",
    "cy = '#00ccff'\n",
    "pi = '#ff66ff'\n",
    "re = '#990033'\n",
    "ora = '#ff704d'\n",
    "ye = '#ffff66'\n",
    "gr = '#99ff99'\n",
    "red = '#ff3442'\n",
    "pal = [bl, pu, bg, cy, pi, re, ora, ye, gr]"
   ]
  },
  {
   "cell_type": "code",
   "execution_count": null,
   "metadata": {},
   "outputs": [],
   "source": [
    "def get_pathline_coordinates(rand='none'):####### get coordinates of lipids\n",
    "    indices_of_atoms_in_PALP = traj.top.select('resname PALP or resname STEP or resname MYRP or resname LAUP')\n",
    "    if rand == 'none':\n",
    "        random_index = np.random.randint(0,len(indices_of_atoms_in_PALP))#exclusive at high value\n",
    "    else:\n",
    "        random_index = rand\n",
    "    print(random_index)\n",
    "    #print(indices_of_atoms_in_PALP)\n",
    "    #print(len(indices_of_atoms_in_PALP))\n",
    "    #print(indices_of_atoms_in_PALP)\n",
    "    #print(indices_of_atoms_in_PALP[random_index])\n",
    "    selection = indices_of_atoms_in_PALP[random_index]\n",
    "    atom = traj.top.select('index '+str(selection))\n",
    "    new_atom_trajectory = traj.atom_slice(atom)\n",
    "    #print(new_atom_trajectory)\n",
    "    xyz_coordinates = np.array(new_atom_trajectory.xyz)\n",
    "    xc = []\n",
    "    yc = []\n",
    "    zc = []\n",
    "    for coords in xyz_coordinates:\n",
    "        #print(coords[0])\n",
    "        xc.append(coords[0][0]*10)\n",
    "        yc.append(coords[0][1]*10)\n",
    "        zc.append(coords[0][2]*10)\n",
    "    return([xc, yc, zc])\n",
    "#print(xc)"
   ]
  },
  {
   "cell_type": "code",
   "execution_count": null,
   "metadata": {
    "scrolled": true
   },
   "outputs": [],
   "source": [
    "a, b, c = get_pathline_coordinates(2583)\n",
    "plt.plot(a[-801:-601], b[-801:-601])\n",
    "plt.plot(a[-601:-401], b[-601:-401])\n",
    "plt.plot(a[-401:-201], b[-401:-201])\n",
    "plt.plot(a[-201:-1], b[-201:-1])"
   ]
  },
  {
   "cell_type": "code",
   "execution_count": null,
   "metadata": {},
   "outputs": [],
   "source": [
    "plt.figure(figsize=(14,14))\n",
    "#plots of last 8 ns of simulation for atom 2583\n",
    "#setting up grid for four plots\n",
    "#2ns\n",
    "grid = plt.GridSpec(2,2)\n",
    "a, b, c = get_pathline_coordinates(2583)\n",
    "plt.subplot(grid[0,0])\n",
    "#plt.title('0-2 ns')\n",
    "plt.plot(a[-801:-601], b[-801:-601], color=pu)\n",
    "plt.ylabel('y-coordinate (' r'$\\AA$)')\n",
    "#plt.xlabel('x-coordinate (' r'$\\AA$)')\n",
    "plt.xlim(0,60)\n",
    "plt.ylim(0, 60)\n",
    "\n",
    "#4ns\n",
    "plt.subplot(grid[0,1])\n",
    "plt.plot(a[-801:-401], b[-801:-401], color=pu)\n",
    "#plt.title('0-4 ns')\n",
    "#plt.ylabel('y-coordinate (' r'$\\AA$)')\n",
    "#plt.xlabel('x-coordinate (' r'$\\AA$)')\n",
    "plt.xlim(0,60)\n",
    "plt.ylim(0, 60)\n",
    "\n",
    "#6ns\n",
    "plt.subplot(grid[1,0])\n",
    "plt.plot(a[-801:-201], b[-801:-201], color=pu)\n",
    "#plt.title('0-6 ns')\n",
    "plt.ylabel('y-coordinate (' r'$\\AA$)')\n",
    "plt.xlabel('x-coordinate (' r'$\\AA$)')\n",
    "plt.xlim(0,60)\n",
    "plt.ylim(0, 60)\n",
    "\n",
    "#8ns\n",
    "plt.subplot(grid[1,1])\n",
    "plt.plot(a[-801:-1], b[-801:-1], color=pu)\n",
    "#plt.title('0-8 ns')\n",
    "#plt.ylabel('y-coordinate (' r'$\\AA$)')\n",
    "plt.xlabel('x-coordinate (' r'$\\AA$)')\n",
    "plt.xlim(0,60)\n",
    "plt.ylim(0, 60)\n",
    "\n",
    "#plt.savefig('/home/drez/Desktop/lipid_pathlines_figure.png', dpi=300)"
   ]
  },
  {
   "cell_type": "code",
   "execution_count": null,
   "metadata": {},
   "outputs": [],
   "source": [
    "a, b, c = get_pathline_coordinates(13543)\n",
    "plt.plot(a[0:801], b[0:801])"
   ]
  },
  {
   "cell_type": "code",
   "execution_count": null,
   "metadata": {},
   "outputs": [],
   "source": [
    "plt.figure(figsize=(14,14))\n",
    "#plots of first 8 ns of simulation for atom 13543\n",
    "#setting up grid for four plots\n",
    "#2ns\n",
    "grid = plt.GridSpec(2,2)\n",
    "a, b, c = get_pathline_coordinates(13543)\n",
    "plt.subplot(grid[0,0])\n",
    "#plt.title('0-2 ns')\n",
    "plt.plot(a[0:201], b[0:201], color=red)\n",
    "plt.ylabel('y-coordinate (' r'$\\AA$)')\n",
    "#plt.xlabel('x-coordinate (' r'$\\AA$)')\n",
    "plt.xlim(0,60)\n",
    "plt.ylim(0, 60)\n",
    "\n",
    "#4ns\n",
    "plt.subplot(grid[0,1])\n",
    "plt.plot(a[0:401], b[0:401], color=red)\n",
    "#plt.title('0-4 ns')\n",
    "#plt.ylabel('y-coordinate (' r'$\\AA$)')\n",
    "#plt.xlabel('x-coordinate (' r'$\\AA$)')\n",
    "plt.xlim(0,60)\n",
    "plt.ylim(0, 60)\n",
    "\n",
    "#6ns\n",
    "plt.subplot(grid[1,0])\n",
    "plt.plot(a[0:601], b[0:601], color=red)\n",
    "#plt.title('0-6 ns')\n",
    "plt.ylabel('y-coordinate (' r'$\\AA$)')\n",
    "plt.xlabel('x-coordinate (' r'$\\AA$)')\n",
    "plt.xlim(0,60)\n",
    "plt.ylim(0, 60)\n",
    "\n",
    "#8ns\n",
    "plt.subplot(grid[1,1])\n",
    "plt.plot(a[0:801], b[0:801], color=red)\n",
    "#plt.title('0-8 ns')\n",
    "#plt.ylabel('y-coordinate (' r'$\\AA$)')\n",
    "plt.xlabel('x-coordinate (' r'$\\AA$)')\n",
    "plt.xlim(0,60)\n",
    "plt.ylim(0, 60)\n",
    "\n",
    "plt.savefig('/home/adommer/Desktop/lipid_pathlines_figure2.png', dpi=300)"
   ]
  },
  {
   "cell_type": "code",
   "execution_count": null,
   "metadata": {},
   "outputs": [],
   "source": []
  }
 ],
 "metadata": {
  "kernelspec": {
   "display_name": "Python 2",
   "language": "python",
   "name": "python2"
  },
  "language_info": {
   "codemirror_mode": {
    "name": "ipython",
    "version": 2
   },
   "file_extension": ".py",
   "mimetype": "text/x-python",
   "name": "python",
   "nbconvert_exporter": "python",
   "pygments_lexer": "ipython2",
   "version": "2.7.15"
  }
 },
 "nbformat": 4,
 "nbformat_minor": 2
}
