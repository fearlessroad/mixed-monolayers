{
 "cells": [
  {
   "cell_type": "markdown",
   "metadata": {},
   "source": [
    "# Isotherm data import and analysis"
   ]
  },
  {
   "cell_type": "code",
   "execution_count": 1,
   "metadata": {
    "collapsed": true
   },
   "outputs": [],
   "source": [
    "import mdtraj as md\n",
    "import numpy as np\n",
    "import matplotlib.pyplot as plt\n",
    "import csv\n",
    "import xlrd\n",
    "import os\n",
    "import os.path\n",
    "from pathlib2 import Path\n",
    "%matplotlib inline"
   ]
  },
  {
   "cell_type": "markdown",
   "metadata": {},
   "source": [
    "## import experimental data for plotting purposes\n",
    "data is imported into dictionary: datdict, which has format:\n",
    "\n",
    "```{filename:np.array(Mean Molecular Area, Surface Pressure, STdev}```"
   ]
  },
  {
   "cell_type": "code",
   "execution_count": 17,
   "metadata": {},
   "outputs": [
    {
     "name": "stdout",
     "output_type": "stream",
     "text": [
      "{'3Mix_0.4_M_NaCl_pH_8.2.xlsx': array([[  1.20400000e+01,   1.20628700e+01,   1.20857500e+01, ...,\n",
      "          3.48442500e+01,   3.48671300e+01,   3.48900000e+01],\n",
      "       [  6.96676100e+01,   6.96041000e+01,   6.95397300e+01, ...,\n",
      "         -9.78000000e-03,  -9.65000000e-03,  -8.90000000e-03],\n",
      "       [  2.07306000e+00,   2.11906000e+00,   2.16789000e+00, ...,\n",
      "          1.54900000e-02,   1.53300000e-02,   1.43100000e-02]]), '4Mix-LA_0.4_M_NaCl_pH_8.2.xlsx': array([[  7.92   ,   7.96323,   8.00647, ...,  51.02353,  51.06677,  51.11   ],\n",
      "       [ 77.64879,  77.16757,  76.78858, ...,  -0.93546,  -0.93804,\n",
      "         -0.93945],\n",
      "       [  6.83627,   6.65088,   6.37161, ...,   1.54737,   1.55064,\n",
      "          1.55471]]), '3Mix_0.4_M_NaCl_pH_5.6.xlsx': array([[  1.20600000e+01,   1.20866300e+01,   1.21132500e+01, ...,\n",
      "          3.86067500e+01,   3.86333700e+01,   3.86600000e+01],\n",
      "       [  6.40351300e+01,   6.40315700e+01,   6.40280000e+01, ...,\n",
      "         -4.76600000e-02,  -4.87800000e-02,  -4.99000000e-02],\n",
      "       [  2.94747000e+00,   2.95923000e+00,   2.97103000e+00, ...,\n",
      "          4.25700000e-02,   4.36600000e-02,   4.56700000e-02]]), '4Mix-LA_0.4_M_NaCl_pH_2.xlsx': array([[  1.32600000e+01,   1.33000900e+01,   1.33401800e+01, ...,\n",
      "          5.32298200e+01,   5.32699100e+01,   5.33100000e+01],\n",
      "       [  4.13564100e+01,   4.11720600e+01,   4.10081900e+01, ...,\n",
      "         -3.81000000e-03,  -3.40000000e-03,  -3.35000000e-03],\n",
      "       [  1.85862000e+00,   1.88781000e+00,   1.92546000e+00, ...,\n",
      "          2.89000000e-03,   2.18000000e-03,   1.61000000e-03]]), '4Mix_0.4_M_NaCl_pH_8.2.xlsx': array([[  7.11   ,   7.14884,   7.18768, ...,  45.83232,  45.87116,  45.91   ],\n",
      "       [ 77.382  ,  76.9126 ,  76.51834, ...,  -1.06486,  -1.06783,\n",
      "         -1.06939],\n",
      "       [  5.55514,   5.40179,   5.17139, ...,   1.45688,   1.45966,\n",
      "          1.46362]]), '4Mix_0.4_M_NaCl_pH_5.6.xlsx': array([[ 11.94   ,  11.96416,  11.98833, ...,  36.03167,  36.05584,  36.08   ],\n",
      "       [ 60.09514,  59.97633,  59.85753, ...,   0.0606 ,   0.06226,\n",
      "          0.06352],\n",
      "       [  2.97759,   3.25047,   3.52365, ...,   0.23368,   0.23754,\n",
      "          0.24155]]), '4Mix-LA_H2O_pH_5.6.xlsx': array([[ 13.22   ,  13.24614,  13.27227, ...,  39.27773,  39.30386,  39.33   ],\n",
      "       [ 45.12495,  45.09445,  45.06394, ...,   0.0541 ,   0.0547 ,\n",
      "          0.05531],\n",
      "       [  0.88683,   0.88205,   0.87748, ...,   0.08398,   0.08519,\n",
      "          0.0864 ]]), '3Mix_H2O_pH_5.6.xlsx': array([[  1.30800000e+01,   1.31027000e+01,   1.31254100e+01, ...,\n",
      "          3.57145900e+01,   3.57373000e+01,   3.57600000e+01],\n",
      "       [  4.30255900e+01,   4.30297800e+01,   4.30339600e+01, ...,\n",
      "         -9.83000000e-03,  -9.11000000e-03,  -8.40000000e-03],\n",
      "       [  4.27330000e-01,   4.23920000e-01,   4.20590000e-01, ...,\n",
      "          1.40000000e-02,   1.60400000e-02,   1.82400000e-02]]), '4Mix-LA_H2O_pH_2.xlsx': array([[  9.55   ,   9.57933,   9.60866, ...,  38.79134,  38.82067,  38.85   ],\n",
      "       [ 37.39177,  37.34658,  37.31129, ...,   0.36409,   0.36462,\n",
      "          0.3649 ],\n",
      "       [  1.19272,   1.20106,   1.21302, ...,   1.01366,   1.01338,\n",
      "          1.01335]]), '4Mix_H2O_pH_2.xlsx': array([[  8.58   ,   8.60634,   8.63267, ...,  34.83733,  34.86366,  34.89   ],\n",
      "       [ 37.38999,  37.34439,  37.30507, ...,   0.36312,   0.3636 ,\n",
      "          0.36398],\n",
      "       [  0.97406,   0.98941,   1.0076 , ...,   1.01217,   1.01191,\n",
      "          1.0118 ]]), '3Mix_0.4_M_NaCl_pH_2.xlsx': array([[  1.20400000e+01,   1.20764600e+01,   1.21129100e+01, ...,\n",
      "          4.83870900e+01,   4.84235400e+01,   4.84600000e+01],\n",
      "       [  4.96533300e+01,   4.94070700e+01,   4.91823400e+01, ...,\n",
      "         -1.31000000e-02,  -1.30700000e-02,  -1.30000000e-02],\n",
      "       [  1.82755000e+00,   1.82827000e+00,   1.84294000e+00, ...,\n",
      "          2.65000000e-02,   2.63000000e-02,   2.53000000e-02]]), '4Mix_0.4_M_NaCl_pH_2.xlsx': array([[  1.19600000e+01,   1.19961900e+01,   1.20323700e+01, ...,\n",
      "          4.80376300e+01,   4.80738100e+01,   4.81100000e+01],\n",
      "       [  4.13787400e+01,   4.12008000e+01,   4.10281300e+01, ...,\n",
      "         -3.86000000e-03,  -3.47000000e-03,  -3.35000000e-03],\n",
      "       [  1.85122000e+00,   1.88115000e+00,   1.91353000e+00, ...,\n",
      "          2.95000000e-03,   2.29000000e-03,   1.61000000e-03]]), '4Mix_H2O_pH_5.6.xlsx': array([[ 11.93   ,  11.95359,  11.97719, ...,  35.45281,  35.47641,  35.5    ],\n",
      "       [ 45.12616,  45.09565,  45.06514, ...,   0.05504,   0.05569,\n",
      "          0.05633],\n",
      "       [  0.88384,   0.87922,   0.8748 , ...,   0.085  ,   0.08618,\n",
      "          0.08736]]), '4Mix-LA_0.4_M_NaCl_pH_5.6.xlsx': array([[  1.32300000e+01,   1.32567800e+01,   1.32835500e+01, ...,\n",
      "          3.99264500e+01,   3.99532200e+01,   3.99800000e+01],\n",
      "       [  6.00013100e+01,   5.99072800e+01,   5.98116500e+01, ...,\n",
      "          4.51700000e-02,   4.67600000e-02,   4.79700000e-02],\n",
      "       [  3.03079000e+00,   3.25963000e+00,   3.48760000e+00, ...,\n",
      "          2.80260000e-01,   2.84720000e-01,   2.89270000e-01]])}\n"
     ]
    }
   ],
   "source": [
    "indir = '/gpfs/amarolab/monolayers/carter_mixed_exp_data/'\n",
    "def extractDataFromXLSX(infile):\n",
    "    data = xlrd.open_workbook(infile).sheet_by_index(0)\n",
    "    xvals = []\n",
    "    yvals = []\n",
    "    evals = []\n",
    "    try:\n",
    "        for i in range(2,2000):\n",
    "            xvals.append(data.cell(i,0).value)\n",
    "            yvals.append(data.cell(i,1).value)\n",
    "            evals.append(data.cell(i,2).value)\n",
    "    except IndexError: \n",
    "        #print('end')\n",
    "        pass\n",
    "    q = np.array([xvals, yvals, evals])\n",
    "    return(q)\n",
    "\n",
    "datdict = {}\n",
    "for root, dirs, filenames in os.walk(indir):\n",
    "    for f in filenames:\n",
    "        h = f.replace(' ', '_')\n",
    "        #print(g)\n",
    "        datdict[h] = extractDataFromXLSX(indir+f)\n",
    "        #dat2_matrix.append(extractDataFromXLSX(indir+f))\n",
    "print(datdict)"
   ]
  },
  {
   "cell_type": "markdown",
   "metadata": {},
   "source": [
    "## import GMX data"
   ]
  },
  {
   "cell_type": "code",
   "execution_count": 24,
   "metadata": {},
   "outputs": [
    {
     "name": "stdout",
     "output_type": "stream",
     "text": [
      "['SA19-1_20ns', 'SA19-2_100ns', 'SA19-3_20ns', 'SA19.5_100ns', 'SA20_20ns', 'SA20-2_20ns', 'SA20-3_100ns', 'SA21_100ns', 'SA21-2_20ns', 'SA21-3_20ns', 'SA22_20ns', 'SA22-2_20ns', 'SA24_20ns', 'SA24-2_20ns']\n"
     ]
    }
   ],
   "source": [
    "surface_areas = ['SA19-1_20ns', 'SA19-2_100ns', 'SA19-3_20ns',\n",
    "                 'SA19.5_100ns', 'SA19.5-2_20ns', 'SA19.5-3_20ns',\n",
    "                 'SA20_20ns', 'SA20-2_20ns', 'SA20-3_100ns',\n",
    "                 'SA21_100ns', 'SA21-2_20ns', 'SA21-3_20ns', \n",
    "                 'SA22_20ns', 'SA22-2_20ns', 'SA22-3_100ns', \n",
    "                 'SA24_20ns', 'SA24-2_20ns', 'SA24-3_100ns']\n",
    "n_surface_areas = ['SA19', 'SA19.5', 'SA20', 'SA20.5','SA21','SA22','SA23','SA24']\n",
    "filedir = '/gpfs/amarolab/monolayers/MIX1_NaCl0.4_GMX/'\n",
    "filedir1 = '/gpfs/amarolab/abbyflabby/MIX/MIX1234_NaCl0.4_NAMD/'\n",
    "logfiles = []\n",
    "xvgfiles = [] #list of xvg filenames\n",
    "pres = []\n",
    "times = []\n",
    "areas = []\n",
    "#for narea in n_surface_areas:\n",
    "#    logchunk = []\n",
    "    \n",
    "for area in surface_areas:\n",
    "    xvgchunk = []\n",
    "    timesteps=np.array([0])\n",
    "    pressures=np.array([0])\n",
    "    for i in range(1, 21):\n",
    "        xvg = Path(filedir+area+'/step9_'+str(i)+'.xvg')\n",
    "        if xvg.exists():\n",
    "            xvgchunk.append(filedir+area+'/step9_'+str(i)+'.xvg')\n",
    "    for p, x in enumerate(xvgchunk):\n",
    "        #print(p)\n",
    "        if p == 0:\n",
    "            timesteps = np.genfromtxt(x, dtype='float', skip_header=24)[:,0]\n",
    "            #print(timesteps)\n",
    "            pressures = np.genfromtxt(x, dtype='float', skip_header=24)[:,1]/20\n",
    "            #print(pressures)\n",
    "        else:\n",
    "            np.append(timesteps, timesteps[-1]+np.genfromtxt(x,dtype='float', skip_header=24)[:,0])\n",
    "            np.append(pressures, (np.genfromtxt(x, dtype='float', skip_header=24)/20)[:,1])\n",
    "            #print(pressures)\n",
    "    #print(np.mean(70.5-pressures))\n",
    "    if len(xvgchunk)>0:\n",
    "        pres.append(70.5-pressures)\n",
    "        times.append(timesteps)\n",
    "        areas.append(area)\n",
    "        xvgfiles.append(xvgchunk)\n",
    "#print(len(xvgfiles))\n",
    "#print(xvgfiles)\n",
    "#print(len(times))\n",
    "#print(times)\n",
    "#print(len(pres))\n",
    "#print(pres)\n",
    "print(areas)"
   ]
  },
  {
   "cell_type": "markdown",
   "metadata": {
    "collapsed": true
   },
   "source": [
    "## extract surface pressures (namd)"
   ]
  },
  {
   "cell_type": "code",
   "execution_count": null,
   "metadata": {
    "collapsed": true
   },
   "outputs": [],
   "source": [
    "def findSurfacePressure(logfiles, title):\n",
    "    timeSteps = []\n",
    "    pressure = []\n",
    "    tension = []\n",
    "    Zlength = (Decimal(312)/Decimal((10**10)))\n",
    "    #print(Zlength)\n",
    "    if len(logfiles) > 1:\n",
    "        #print('greater than 1')\n",
    "        for logfile in logfiles:\n",
    "            lastTimeStep = ''\n",
    "            with open(logfile) as file:\n",
    "                for line in file:\n",
    "                    if line.startswith(title):\n",
    "                        if type(lastTimeStep) == int:\n",
    "                            timeSteps.append((line.split(\" \")[1]+lastTimeStep))\n",
    "                        else:\n",
    "                            timeSteps.append(line.split(\" \")[1])\n",
    "                        Pxx = (Decimal(line.split(\" \")[2])*10**8)\n",
    "                        #print Pxx\n",
    "                        Pyy = (Decimal(line.split(\" \")[6])*10**8)\n",
    "                        #print(Pyy)\n",
    "                        Pzz = (Decimal(line.split(\" \")[-1])*10**8)\n",
    "                        #print(Pzz)\n",
    "                        a = (Pxx + Pyy)*Decimal(0.5)\n",
    "                        press = (Zlength/2)*(Pzz - a)\n",
    "                        tension.append(press)\n",
    "                        #surface tension of water = 53\n",
    "                        #experimental surface tension of water = 72.75\n",
    "                        pressure.append(53 - press)\n",
    "                        #print(press)\n",
    "                        lastTimeStep = timeSteps[len(timeSteps)-1]\n",
    "    else:\n",
    "        #print('just 1')\n",
    "        lastTimeStep = ''\n",
    "        with open(logfiles[0]) as file:\n",
    "            for line in file:\n",
    "                if line.startswith(title):\n",
    "                    #print('hi')\n",
    "                    if type(lastTimeStep) == int:\n",
    "                        timeSteps.append((line.split(\" \")[1]+lastTimeStep))\n",
    "                        #print('here')\n",
    "                    else:\n",
    "                        timeSteps.append(line.split(\" \")[1])\n",
    "                        #print('not int')\n",
    "                    Pxx = (Decimal(line.split(\" \")[2])*10**8)\n",
    "                    #print Pxx\n",
    "                    Pyy = (Decimal(line.split(\" \")[6])*10**8)\n",
    "                        #print(Pyy)\n",
    "                        #Pzz = (Decimal(line.split(\" \")[-1][:-2])*10**8)\n",
    "                    Pzz = (Decimal(line.split(\" \")[-1])*10**8)\n",
    "                        #print(Pzz)\n",
    "                    a = (Pxx + Pyy)*Decimal(0.5)\n",
    "                    press = (Zlength/2)*(Pzz - a)\n",
    "                        #surface tension of water = 53\n",
    "                    tension.append(press)\n",
    "                    pressure.append(53 - press)\n",
    "                        #print(press)}\n",
    "                    lastTimeStep = timeSteps[len(timeSteps)-1]\n",
    "    #calculate surface pressure\n",
    "    #Feller et al equation Gamma = <Lz(Pzz - 0.5(Pxx + Pyy)>\n",
    "        #print(timeSteps)\n",
    "    return timeSteps, pressure, tension\n",
    "\n",
    "def extractAvgPressures(initial, final):#takes timesteps\n",
    "    avg_spress = []\n",
    "    std_spress = []\n",
    "    avg_tens = []\n",
    "    std_tens = []\n",
    "    count = 0\n",
    "    for i in surface_areas:\n",
    "        surface_pressure = findSurfacePressure(logs[count],'GPRESSAVG')\n",
    "        ps = (final-initial)\n",
    "        avg_spress.append(np.mean(surface_pressure[1][len(surface_pressure[1])-ps-1:len(surface_pressure[1])-1]))\n",
    "        std_spress.append(np.std(surface_pressure[1][len(surface_pressure[1])-ps-1:len(surface_pressure[1])-1]))\n",
    "        avg_tens.append(np.mean(surface_pressure[2][len(surface_pressure[2])-ps-1:len(surface_pressure[2])-1]))\n",
    "        std_tens.append(np.std(surface_pressure[2][len(surface_pressure[2])-ps-1:len(surface_pressure[2])-1]))\n",
    "        count +=1 \n",
    "    return avg_spress, std_spress, avg_tens, std_tens\n"
   ]
  },
  {
   "cell_type": "markdown",
   "metadata": {},
   "source": [
    "## extract average surface pressure values (gmx)"
   ]
  },
  {
   "cell_type": "code",
   "execution_count": 31,
   "metadata": {},
   "outputs": [
    {
     "name": "stdout",
     "output_type": "stream",
     "text": [
      "[68.416029591888289, 62.759657677017294, 60.360177476726015, 45.161800312280469, 56.71884740840666, 30.110014739651035]\n"
     ]
    }
   ],
   "source": [
    "average = []\n",
    "SA19_avg = np.mean([np.mean(pres[0]), np.mean(pres[1]), np.mean(pres[2])])\n",
    "SA19_std = np.std([np.mean(pres[0]), np.mean(pres[1]), np.mean(pres[2])])\n",
    "#print(SA19_avg)\n",
    "#print(SA19_std)\n",
    "SA195_avg = np.mean(pres[3])\n",
    "#print(SA195_avg)\n",
    "SA20_avg = np.mean([np.mean(pres[4]), np.mean(pres[5]), np.mean(pres[6])])\n",
    "SA20_std = np.std([np.mean(pres[4]), np.mean(pres[5]), np.mean(pres[6])])\n",
    "#print(SA20_avg)\n",
    "SA21_avg = np.mean([np.mean(pres[7]), np.mean(pres[8]), np.mean(pres[9])])\n",
    "SA21_std = np.std([np.mean(pres[7]), np.mean(pres[8]), np.mean(pres[9])])\n",
    "#print(SA21_avg)\n",
    "SA22_avg = np.mean([np.mean(pres[10]), np.mean(pres[11])])\n",
    "SA22_std = np.std([np.mean(pres[10]), np.mean(pres[11])])\n",
    "#print(SA22_avg)\n",
    "SA24_avg = np.mean([np.mean(pres[12]), np.mean(pres[13])])\n",
    "SA24_std = np.std([np.mean(pres[12]), np.mean(pres[13])])\n",
    "#print(SA24_avg)\n",
    "average.append(SA19_avg)\n",
    "average.append(SA195_avg)\n",
    "average.append(SA20_avg)\n",
    "average.append(SA21_avg)\n",
    "average.append(SA22_avg)\n",
    "average.append(SA24_avg)\n",
    "print(average)\n",
    "#std.append(SA19_avg, SA195_avg, SA20_avg, SA21_avg, SA22_avg, SA24_avg)"
   ]
  },
  {
   "cell_type": "markdown",
   "metadata": {},
   "source": [
    "## plot "
   ]
  },
  {
   "cell_type": "code",
   "execution_count": 82,
   "metadata": {},
   "outputs": [
    {
     "data": {
      "text/plain": [
       "<matplotlib.legend.Legend at 0x2b7c249c36d8>"
      ]
     },
     "execution_count": 82,
     "metadata": {},
     "output_type": "execute_result"
    },
    {
     "data": {
      "image/png": "[encoded data removed]",
      "text/plain": [
       "<matplotlib.figure.Figure at 0x2b7c2455f7b8>"
      ]
     },
     "metadata": {},
     "output_type": "display_data"
    }
   ],
   "source": [
    "plt.scatter(datdict['4Mix_0.4_M_NaCl_pH_2.xlsx'][0], datdict['4Mix_0.4_M_NaCl_pH_2.xlsx'][1], marker='.', c='k', s=1, label='Exp. data')\n",
    "#namd = np.array([55.64849181, 53.92095977, 19.88087505, 34.40559092, 25.17371431, -0.8249367152, -6.484251618, -2.030540332])\n",
    "#nam = 53-(72-namd)\n",
    "#plt.scatter([19, 19.5, 20, 20.5, 21, 22, 23, 24], nam, marker='o', c='skyblue')\n",
    "plt.scatter([19, 19.5, 20, 21, 22, 24], average, color='c', label='OPC4')\n",
    "plt.xlim(15, 30)\n",
    "plt.xlabel('Area per lipid ($\\AA^{2}$/lipid)')\n",
    "plt.ylabel('Surface pressure (mN/m)')\n",
    "plt.title('Pressure-Area Isotherm of MIX1 in 0.4M NaCl at pH2')\n",
    "plt.legend(loc=1)"
   ]
  },
  {
   "cell_type": "code",
   "execution_count": null,
   "metadata": {
    "collapsed": true
   },
   "outputs": [],
   "source": []
  }
 ],
 "metadata": {
  "kernelspec": {
   "display_name": "Python 3",
   "language": "python",
   "name": "python3"
  },
  "language_info": {
   "codemirror_mode": {
    "name": "ipython",
    "version": 3
   },
   "file_extension": ".py",
   "mimetype": "text/x-python",
   "name": "python",
   "nbconvert_exporter": "python",
   "pygments_lexer": "ipython3",
   "version": "3.6.1"
  }
 },
 "nbformat": 4,
 "nbformat_minor": 2
}
