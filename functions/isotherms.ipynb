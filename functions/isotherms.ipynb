{
 "cells": [
  {
   "cell_type": "code",
   "execution_count": 63,
   "metadata": {},
   "outputs": [],
   "source": [
    "import mdtraj as md\n",
    "import numpy as np\n",
    "import matplotlib.pyplot as plt\n",
    "import csv\n",
    "import xlrd\n",
    "import os\n",
    "%matplotlib inline"
   ]
  },
  {
   "cell_type": "markdown",
   "metadata": {},
   "source": [
    "## import experimental data for plotting purposes\n",
    "data is imported into dictionary: datdict, which has format:\n",
    "\n",
    "```{filename:np.array(Mean Molecular Area, Surface Pressure, STdev}```"
   ]
  },
  {
   "cell_type": "code",
   "execution_count": 88,
   "metadata": {},
   "outputs": [],
   "source": [
    "indir = '/gpfs/amarolab/monolayers/carter_mixed_exp_data/'\n",
    "def extractDataFromXLSX(infile):\n",
    "    data = xlrd.open_workbook(infile).sheet_by_index(0)\n",
    "    xvals = []\n",
    "    yvals = []\n",
    "    evals = []\n",
    "    try:\n",
    "        for i in range(0,2000):\n",
    "            xvals.append(data.cell(i,0).value)\n",
    "            yvals.append(data.cell(i,1).value)\n",
    "            evals.append(data.cell(i,2).value)\n",
    "    except IndexError: \n",
    "        #print('end')\n",
    "        pass\n",
    "    q = np.array([xvals, yvals, evals])\n",
    "    return(q)\n",
    "\n",
    "datdict = {}\n",
    "for root, dirs, filenames in os.walk(indir):\n",
    "    for f in filenames:\n",
    "        h = f.replace(' ', '_')\n",
    "        #print(g)\n",
    "        datdict[h] = extractDataFromXLSX(indir+f)\n",
    "        #dat2_matrix.append(extractDataFromXLSX(indir+f))"
   ]
  },
  {
   "cell_type": "code",
   "execution_count": 91,
   "metadata": {},
   "outputs": [],
   "source": [
    "#print(datdict)"
   ]
  },
  {
   "cell_type": "code",
   "execution_count": null,
   "metadata": {},
   "outputs": [],
   "source": []
  },
  {
   "cell_type": "code",
   "execution_count": null,
   "metadata": {
    "collapsed": true
   },
   "outputs": [],
   "source": []
  }
 ],
 "metadata": {
  "kernelspec": {
   "display_name": "Python 3",
   "language": "python",
   "name": "python3"
  },
  "language_info": {
   "codemirror_mode": {
    "name": "ipython",
    "version": 3
   },
   "file_extension": ".py",
   "mimetype": "text/x-python",
   "name": "python",
   "nbconvert_exporter": "python",
   "pygments_lexer": "ipython3",
   "version": "3.6.1"
  }
 },
 "nbformat": 4,
 "nbformat_minor": 2
}
