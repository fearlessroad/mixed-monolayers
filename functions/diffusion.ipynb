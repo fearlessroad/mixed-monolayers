{
 "cells": [
  {
   "cell_type": "code",
   "execution_count": 1,
   "metadata": {
    "collapsed": true
   },
   "outputs": [],
   "source": [
    "import numpy as np\n",
    "import mdtraj as md\n",
    "import matplotlib.pyplot as plt\n",
    "%matplotlib inline \n",
    "#new stuff 7/9 for automating process\n",
    "import os\n",
    "import os.path\n",
    "from pathlib2 import Path"
   ]
  },
  {
   "cell_type": "markdown",
   "metadata": {},
   "source": [
    "## import data"
   ]
  },
  {
   "cell_type": "code",
   "execution_count": 2,
   "metadata": {},
   "outputs": [
    {
     "name": "stdout",
     "output_type": "stream",
     "text": [
      "[['/gpfs/amarolab/monolayers/MIX1_NaCl0.4_GMX/SA19-1_20ns/step9_1', '/gpfs/amarolab/monolayers/MIX1_NaCl0.4_GMX/SA19-1_20ns/step9_2'], ['/gpfs/amarolab/monolayers/MIX1_NaCl0.4_GMX/SA19-2_100ns/step9_1', '/gpfs/amarolab/monolayers/MIX1_NaCl0.4_GMX/SA19-2_100ns/step9_2', '/gpfs/amarolab/monolayers/MIX1_NaCl0.4_GMX/SA19-2_100ns/step9_3', '/gpfs/amarolab/monolayers/MIX1_NaCl0.4_GMX/SA19-2_100ns/step9_4', '/gpfs/amarolab/monolayers/MIX1_NaCl0.4_GMX/SA19-2_100ns/step9_5', '/gpfs/amarolab/monolayers/MIX1_NaCl0.4_GMX/SA19-2_100ns/step9_6', '/gpfs/amarolab/monolayers/MIX1_NaCl0.4_GMX/SA19-2_100ns/step9_7', '/gpfs/amarolab/monolayers/MIX1_NaCl0.4_GMX/SA19-2_100ns/step9_8', '/gpfs/amarolab/monolayers/MIX1_NaCl0.4_GMX/SA19-2_100ns/step9_9', '/gpfs/amarolab/monolayers/MIX1_NaCl0.4_GMX/SA19-2_100ns/step9_10', '/gpfs/amarolab/monolayers/MIX1_NaCl0.4_GMX/SA19-2_100ns/step9_11', '/gpfs/amarolab/monolayers/MIX1_NaCl0.4_GMX/SA19-2_100ns/step9_12', '/gpfs/amarolab/monolayers/MIX1_NaCl0.4_GMX/SA19-2_100ns/step9_13', '/gpfs/amarolab/monolayers/MIX1_NaCl0.4_GMX/SA19-2_100ns/step9_14', '/gpfs/amarolab/monolayers/MIX1_NaCl0.4_GMX/SA19-2_100ns/step9_15', '/gpfs/amarolab/monolayers/MIX1_NaCl0.4_GMX/SA19-2_100ns/step9_16', '/gpfs/amarolab/monolayers/MIX1_NaCl0.4_GMX/SA19-2_100ns/step9_17', '/gpfs/amarolab/monolayers/MIX1_NaCl0.4_GMX/SA19-2_100ns/step9_18', '/gpfs/amarolab/monolayers/MIX1_NaCl0.4_GMX/SA19-2_100ns/step9_19', '/gpfs/amarolab/monolayers/MIX1_NaCl0.4_GMX/SA19-2_100ns/step9_20'], ['/gpfs/amarolab/monolayers/MIX1_NaCl0.4_GMX/SA19-3_20ns/step9_1', '/gpfs/amarolab/monolayers/MIX1_NaCl0.4_GMX/SA19-3_20ns/step9_2'], ['/gpfs/amarolab/monolayers/MIX1_NaCl0.4_GMX/SA19.5_100ns/step9_1', '/gpfs/amarolab/monolayers/MIX1_NaCl0.4_GMX/SA19.5_100ns/step9_2', '/gpfs/amarolab/monolayers/MIX1_NaCl0.4_GMX/SA19.5_100ns/step9_3', '/gpfs/amarolab/monolayers/MIX1_NaCl0.4_GMX/SA19.5_100ns/step9_4', '/gpfs/amarolab/monolayers/MIX1_NaCl0.4_GMX/SA19.5_100ns/step9_5'], ['/gpfs/amarolab/monolayers/MIX1_NaCl0.4_GMX/SA19.5-2_20ns/step9_1'], ['/gpfs/amarolab/monolayers/MIX1_NaCl0.4_GMX/SA19.5-3_20ns/step9_1'], ['/gpfs/amarolab/monolayers/MIX1_NaCl0.4_GMX/SA20_20ns/step9_1', '/gpfs/amarolab/monolayers/MIX1_NaCl0.4_GMX/SA20_20ns/step9_2'], ['/gpfs/amarolab/monolayers/MIX1_NaCl0.4_GMX/SA20-2_20ns/step9_1'], ['/gpfs/amarolab/monolayers/MIX1_NaCl0.4_GMX/SA20-3_100ns/step9_1', '/gpfs/amarolab/monolayers/MIX1_NaCl0.4_GMX/SA20-3_100ns/step9_2'], ['/gpfs/amarolab/monolayers/MIX1_NaCl0.4_GMX/SA21_100ns/step9_1', '/gpfs/amarolab/monolayers/MIX1_NaCl0.4_GMX/SA21_100ns/step9_2', '/gpfs/amarolab/monolayers/MIX1_NaCl0.4_GMX/SA21_100ns/step9_3', '/gpfs/amarolab/monolayers/MIX1_NaCl0.4_GMX/SA21_100ns/step9_4'], ['/gpfs/amarolab/monolayers/MIX1_NaCl0.4_GMX/SA21-2_20ns/step9_1'], ['/gpfs/amarolab/monolayers/MIX1_NaCl0.4_GMX/SA21-3_20ns/step9_1'], ['/gpfs/amarolab/monolayers/MIX1_NaCl0.4_GMX/SA22_20ns/step9_1'], ['/gpfs/amarolab/monolayers/MIX1_NaCl0.4_GMX/SA22-2_20ns/step9_1'], ['/gpfs/amarolab/monolayers/MIX1_NaCl0.4_GMX/SA22-3_100ns/step9_1', '/gpfs/amarolab/monolayers/MIX1_NaCl0.4_GMX/SA22-3_100ns/step9_2'], ['/gpfs/amarolab/monolayers/MIX1_NaCl0.4_GMX/SA24_20ns/step9_1'], ['/gpfs/amarolab/monolayers/MIX1_NaCl0.4_GMX/SA24-2_20ns/step9_1']]\n"
     ]
    }
   ],
   "source": [
    "gmx_surface_areas = ['SA19-1_20ns', 'SA19-2_100ns', 'SA19-3_20ns',\n",
    "                 'SA19.5_100ns', 'SA19.5-2_20ns', 'SA19.5-3_20ns',\n",
    "                 'SA20_20ns', 'SA20-2_20ns', 'SA20-3_100ns',\n",
    "                 'SA21_100ns', 'SA21-2_20ns', 'SA21-3_20ns', \n",
    "                 'SA22_20ns', 'SA22-2_20ns', 'SA22-3_100ns', \n",
    "                 'SA24_20ns', 'SA24-2_20ns', 'SA24-3_100ns']\n",
    "namd_surface_areas = ['SA19','SA19-2', 'SA19-3', \n",
    "                   'SA19.5','SA19.5-2', 'SA19.5-3',\n",
    "                   'SA20','SA20-2', 'SA20-3',\n",
    "                   'SA20.5', 'SA20.5-2', 'SA20.5-3',\n",
    "                   'SA21','SA21-2', 'SA21-3',\n",
    "                   'SA22','SA22-2', 'SA22-3',\n",
    "                   'SA23','SA23-2', 'SA23-3',\n",
    "                   'SA24', 'SA24-2', 'SA24-3']\n",
    "namd_filenames = ['step7.1', 'step7.2', 'step7.21', 'step7.3', 'step7.31', 'step7.32', 'step7.33', 'step7.34',\n",
    "               'step7.35','step7.4', 'step7.41', 'step7.42', 'step7.43', 'step7.44', 'step7.45']\n",
    "gmx_filenames = []\n",
    "for g in range(1,21):\n",
    "    gmx_filenames.append('step9_'+str(g))\n",
    "filedir_g = '/gpfs/amarolab/monolayers/MIX1_NaCl0.4_GMX/'\n",
    "filedir_n = '/gpfs/amarolab/abbyflabby/MIX/MIX1234_NaCl0.4_NAMD/'\n",
    "logfiles_n = []\n",
    "logfiles_g = []\n",
    "trr_files = []\n",
    "dcd_files = []\n",
    "\n",
    "for area in namd_surface_areas:\n",
    "    logchunk = []\n",
    "    dcdchunk = []\n",
    "    for i in namd_filenames:\n",
    "        log = Path(filedir_n+area+'/charmm-gui/namd/'+i+'_production.log')\n",
    "        dcd = Path(filedir_n+area+'/charmm-gui/namd/'+i+'_production.dcd')\n",
    "        if log.exists():\n",
    "            logchunk.append(filedir_n+area+'/charmm-gui/namd/'+i+'_production.log')\n",
    "        if dcd.exists():\n",
    "            dcdchunk.append(filedir_n+area+'/charmm-gui/namd/'+i+'_production.dcd')\n",
    "    if len(logchunk)>0:\n",
    "        logfiles_n.append(logchunk)\n",
    "        dcd_files.append(dcdchunk)\n",
    "#xvgfiles = [] #list of xvg filenames\n",
    "pres = []\n",
    "times = []\n",
    "areas = []\n",
    "trr_files = []\n",
    "#for narea in n_surface_areas:\n",
    "#    logchunk = []\n",
    "    \n",
    "for area in gmx_surface_areas:\n",
    "    xvgchunk = []\n",
    "    trajchunk = []\n",
    "    for i in range(1, 21):\n",
    "        xvg = Path(filedir_g+area+'/step9_'+str(i)+'.xvg')\n",
    "        traj = Path(filedir_g+area+'/step9_'+str(i)+'.trr')\n",
    "        if xvg.exists():\n",
    "            xvgchunk.append(filedir_g+area+'/step9_'+str(i)+'.xvg')\n",
    "        if traj.exists():\n",
    "            trajchunk.append(filedir_g+area+'/step9_'+str(i))\n",
    "    #print(xvgchunk)\n",
    "    for p, x in enumerate(xvgchunk):\n",
    "        if p == 0:\n",
    "            #arr = np.array(timesteps)\n",
    "            #timesteps in nanoseconds\n",
    "            timesteps = np.genfromtxt(x, dtype='float', skip_header=24)[:,0]/1000\n",
    "            #np.append(timesteps, new_ts)\n",
    "            pressures = np.genfromtxt(x, dtype='float', skip_header=24)[:,1]/20\n",
    "            #np.append(pressures, new_pr)\n",
    "            #print(pressures)\n",
    "        else:\n",
    "            time = np.genfromtxt(x,dtype='float', skip_header=24)[:,0]/1000\n",
    "            #print(time)\n",
    "            timesteps = np.append(timesteps, time)\n",
    "      #      #print(time)\n",
    "      #      #t = time.tolist()\n",
    "      #      timesteps.append(time)\n",
    "      #      print(timesteps)\n",
    "            pr = np.genfromtxt(x, dtype='float', skip_header=24)[:,1]/20\n",
    "            pressures = np.append(pressures, pr)\n",
    "    if len(xvgchunk)>0:\n",
    "        pres.append(70.5-np.array(pressures))\n",
    "        times.append(timesteps)\n",
    "        areas.append(area)\n",
    "        logfiles_g.append(xvgchunk)\n",
    "        trr_files.append(trajchunk)\n",
    "print(trr_files)"
   ]
  },
  {
   "cell_type": "code",
   "execution_count": 4,
   "metadata": {},
   "outputs": [
    {
     "name": "stdout",
     "output_type": "stream",
     "text": [
      "[['/gpfs/amarolab/monolayers/MIX1_NaCl0.4_GMX/SA19-1_20ns/step9_1_stripped.xtc', '/gpfs/amarolab/monolayers/MIX1_NaCl0.4_GMX/SA19-1_20ns/step9_2_stripped.xtc'], ['/gpfs/amarolab/monolayers/MIX1_NaCl0.4_GMX/SA19-2_100ns/step9_1_stripped.xtc', '/gpfs/amarolab/monolayers/MIX1_NaCl0.4_GMX/SA19-2_100ns/step9_2_stripped.xtc', '/gpfs/amarolab/monolayers/MIX1_NaCl0.4_GMX/SA19-2_100ns/step9_3_stripped.xtc', '/gpfs/amarolab/monolayers/MIX1_NaCl0.4_GMX/SA19-2_100ns/step9_4_stripped.xtc', '/gpfs/amarolab/monolayers/MIX1_NaCl0.4_GMX/SA19-2_100ns/step9_5_stripped.xtc', '/gpfs/amarolab/monolayers/MIX1_NaCl0.4_GMX/SA19-2_100ns/step9_6_stripped.xtc', '/gpfs/amarolab/monolayers/MIX1_NaCl0.4_GMX/SA19-2_100ns/step9_7_stripped.xtc', '/gpfs/amarolab/monolayers/MIX1_NaCl0.4_GMX/SA19-2_100ns/step9_8_stripped.xtc', '/gpfs/amarolab/monolayers/MIX1_NaCl0.4_GMX/SA19-2_100ns/step9_9_stripped.xtc', '/gpfs/amarolab/monolayers/MIX1_NaCl0.4_GMX/SA19-2_100ns/step9_10_stripped.xtc', '/gpfs/amarolab/monolayers/MIX1_NaCl0.4_GMX/SA19-2_100ns/step9_11_stripped.xtc', '/gpfs/amarolab/monolayers/MIX1_NaCl0.4_GMX/SA19-2_100ns/step9_12_stripped.xtc', '/gpfs/amarolab/monolayers/MIX1_NaCl0.4_GMX/SA19-2_100ns/step9_13_stripped.xtc', '/gpfs/amarolab/monolayers/MIX1_NaCl0.4_GMX/SA19-2_100ns/step9_14_stripped.xtc', '/gpfs/amarolab/monolayers/MIX1_NaCl0.4_GMX/SA19-2_100ns/step9_15_stripped.xtc', '/gpfs/amarolab/monolayers/MIX1_NaCl0.4_GMX/SA19-2_100ns/step9_16_stripped.xtc', '/gpfs/amarolab/monolayers/MIX1_NaCl0.4_GMX/SA19-2_100ns/step9_17_stripped.xtc', '/gpfs/amarolab/monolayers/MIX1_NaCl0.4_GMX/SA19-2_100ns/step9_18_stripped.xtc', '/gpfs/amarolab/monolayers/MIX1_NaCl0.4_GMX/SA19-2_100ns/step9_19_stripped.xtc', '/gpfs/amarolab/monolayers/MIX1_NaCl0.4_GMX/SA19-2_100ns/step9_20_stripped.xtc'], ['/gpfs/amarolab/monolayers/MIX1_NaCl0.4_GMX/SA19-3_20ns/step9_1_stripped.xtc', '/gpfs/amarolab/monolayers/MIX1_NaCl0.4_GMX/SA19-3_20ns/step9_2_stripped.xtc'], ['/gpfs/amarolab/monolayers/MIX1_NaCl0.4_GMX/SA19.5_100ns/step9_1_stripped.xtc', '/gpfs/amarolab/monolayers/MIX1_NaCl0.4_GMX/SA19.5_100ns/step9_2_stripped.xtc', '/gpfs/amarolab/monolayers/MIX1_NaCl0.4_GMX/SA19.5_100ns/step9_3_stripped.xtc', '/gpfs/amarolab/monolayers/MIX1_NaCl0.4_GMX/SA19.5_100ns/step9_4_stripped.xtc', '/gpfs/amarolab/monolayers/MIX1_NaCl0.4_GMX/SA19.5_100ns/step9_5_stripped.xtc'], ['/gpfs/amarolab/monolayers/MIX1_NaCl0.4_GMX/SA19.5-2_20ns/step9_1_stripped.xtc'], ['/gpfs/amarolab/monolayers/MIX1_NaCl0.4_GMX/SA19.5-3_20ns/step9_1_stripped.xtc'], ['/gpfs/amarolab/monolayers/MIX1_NaCl0.4_GMX/SA20_20ns/step9_1_stripped.xtc', '/gpfs/amarolab/monolayers/MIX1_NaCl0.4_GMX/SA20_20ns/step9_2_stripped.xtc'], ['/gpfs/amarolab/monolayers/MIX1_NaCl0.4_GMX/SA20-2_20ns/step9_1_stripped.xtc'], ['/gpfs/amarolab/monolayers/MIX1_NaCl0.4_GMX/SA20-3_100ns/step9_1_stripped.xtc', '/gpfs/amarolab/monolayers/MIX1_NaCl0.4_GMX/SA20-3_100ns/step9_2_stripped.xtc'], ['/gpfs/amarolab/monolayers/MIX1_NaCl0.4_GMX/SA21_100ns/step9_1_stripped.xtc', '/gpfs/amarolab/monolayers/MIX1_NaCl0.4_GMX/SA21_100ns/step9_2_stripped.xtc', '/gpfs/amarolab/monolayers/MIX1_NaCl0.4_GMX/SA21_100ns/step9_3_stripped.xtc', '/gpfs/amarolab/monolayers/MIX1_NaCl0.4_GMX/SA21_100ns/step9_4_stripped.xtc'], ['/gpfs/amarolab/monolayers/MIX1_NaCl0.4_GMX/SA21-2_20ns/step9_1_stripped.xtc'], ['/gpfs/amarolab/monolayers/MIX1_NaCl0.4_GMX/SA21-3_20ns/step9_1_stripped.xtc'], ['/gpfs/amarolab/monolayers/MIX1_NaCl0.4_GMX/SA22_20ns/step9_1_stripped.xtc'], ['/gpfs/amarolab/monolayers/MIX1_NaCl0.4_GMX/SA22-2_20ns/step9_1_stripped.xtc'], ['/gpfs/amarolab/monolayers/MIX1_NaCl0.4_GMX/SA22-3_100ns/step9_1_stripped.xtc', '/gpfs/amarolab/monolayers/MIX1_NaCl0.4_GMX/SA22-3_100ns/step9_2_stripped.xtc'], ['/gpfs/amarolab/monolayers/MIX1_NaCl0.4_GMX/SA24_20ns/step9_1_stripped.xtc'], ['/gpfs/amarolab/monolayers/MIX1_NaCl0.4_GMX/SA24-2_20ns/step9_1_stripped.xtc']]\n",
      "17\n"
     ]
    }
   ],
   "source": [
    "gmx_traj = []\n",
    "namd_traj = []\n",
    "xtcs = []\n",
    "for trr in trr_files:\n",
    "    #print(trr_files)\n",
    "    chunk = []\n",
    "    for t in trr:\n",
    "        chunk.append(t+'_stripped.xtc')\n",
    "    xtcs.append(chunk)\n",
    "print(xtcs)\n",
    "print(len(xtcs))"
   ]
  },
  {
   "cell_type": "code",
   "execution_count": 5,
   "metadata": {},
   "outputs": [
    {
     "name": "stdout",
     "output_type": "stream",
     "text": [
      "[<mdtraj.Trajectory with 3002 frames, 18872 atoms, 480 residues, and unitcells at 0x2ae006d24190>, <mdtraj.Trajectory with 24520 frames, 18872 atoms, 480 residues, and unitcells at 0x2ae008c0b850>, <mdtraj.Trajectory with 3002 frames, 18872 atoms, 480 residues, and unitcells at 0x2ae006d1a8d0>, <mdtraj.Trajectory with 10005 frames, 18876 atoms, 484 residues, and unitcells at 0x2ae00bea3f90>, <mdtraj.Trajectory with 2001 frames, 18876 atoms, 484 residues, and unitcells at 0x2ae008500d90>, <mdtraj.Trajectory with 2001 frames, 18876 atoms, 484 residues, and unitcells at 0x2ae7f5f1cb50>, <mdtraj.Trajectory with 3002 frames, 17886 atoms, 462 residues, and unitcells at 0x2ae00b5a79d0>, <mdtraj.Trajectory with 2001 frames, 17886 atoms, 462 residues, and unitcells at 0x2ae00b2c97d0>, <mdtraj.Trajectory with 10002 frames, 17886 atoms, 462 residues, and unitcells at 0x2ae00d9965d0>, <mdtraj.Trajectory with 11004 frames, 17892 atoms, 468 residues, and unitcells at 0x2ae00bb11f90>, <mdtraj.Trajectory with 2001 frames, 17892 atoms, 468 residues, and unitcells at 0x2ae117b71a50>, <mdtraj.Trajectory with 2001 frames, 17892 atoms, 468 residues, and unitcells at 0x2ae00ccee6d0>, <mdtraj.Trajectory with 2001 frames, 16902 atoms, 446 residues, and unitcells at 0x2ae00d1c6150>, <mdtraj.Trajectory with 2001 frames, 16902 atoms, 446 residues, and unitcells at 0x2ae00b5a7b50>, <mdtraj.Trajectory with 10002 frames, 16902 atoms, 446 residues, and unitcells at 0x2ae117b71d10>, <mdtraj.Trajectory with 2001 frames, 14924 atoms, 404 residues, and unitcells at 0x2ae00b135b90>, <mdtraj.Trajectory with 2001 frames, 14924 atoms, 404 residues, and unitcells at 0x2ae0bad41d90>]\n"
     ]
    }
   ],
   "source": [
    "ct = 0 \n",
    "for x in xtcs:\n",
    "    chunk = []\n",
    "    #print(x)\n",
    "    #print(filedir_g+areas[ct]+'/step9_1_stripped.pdb')\n",
    "    traj = md.load(x, top=filedir_g+areas[ct]+'/step9_1_stripped.pdb')\n",
    "    #chunk.append(traj)\n",
    "    gmx_traj.append(traj)\n",
    "    ct+=1\n",
    "print(gmx_traj)"
   ]
  },
  {
   "cell_type": "code",
   "execution_count": 6,
   "metadata": {},
   "outputs": [
    {
     "name": "stdout",
     "output_type": "stream",
     "text": [
      "0\n",
      "1\n",
      "2\n",
      "3\n",
      "4\n",
      "5\n",
      "6\n",
      "7\n",
      "8\n",
      "9\n",
      "10\n",
      "11\n",
      "12\n",
      "13\n",
      "14\n",
      "15\n",
      "16\n",
      "[[<mdtraj.Trajectory with 3002 frames, 9386 atoms, 190 residues, and unitcells at 0x2ae29ebd2050>, <mdtraj.Trajectory with 3002 frames, 9386 atoms, 190 residues, and unitcells at 0x2ae29d474910>], [<mdtraj.Trajectory with 24520 frames, 9398 atoms, 190 residues, and unitcells at 0x2ae29f93e050>, <mdtraj.Trajectory with 24520 frames, 9374 atoms, 190 residues, and unitcells at 0x2ae29d8d9ed0>], [<mdtraj.Trajectory with 3002 frames, 9386 atoms, 190 residues, and unitcells at 0x2ae2a00a9510>, <mdtraj.Trajectory with 3002 frames, 9386 atoms, 190 residues, and unitcells at 0x2ae29e8c6c90>], [<mdtraj.Trajectory with 10005 frames, 9386 atoms, 190 residues, and unitcells at 0x2ae4c4acd050>, <mdtraj.Trajectory with 10005 frames, 9386 atoms, 190 residues, and unitcells at 0x2ae29d77ad10>], [<mdtraj.Trajectory with 2001 frames, 9436 atoms, 191 residues, and unitcells at 0x2ae4c525a790>, <mdtraj.Trajectory with 2001 frames, 9336 atoms, 189 residues, and unitcells at 0x2ae29fce5150>], [<mdtraj.Trajectory with 2001 frames, 9436 atoms, 191 residues, and unitcells at 0x2ae550afead0>, <mdtraj.Trajectory with 2001 frames, 9336 atoms, 189 residues, and unitcells at 0x2ae29dcaae90>], [<mdtraj.Trajectory with 3002 frames, 8792 atoms, 187 residues, and unitcells at 0x2aea88e44090>, <mdtraj.Trajectory with 3002 frames, 8992 atoms, 173 residues, and unitcells at 0x2ae55059b9d0>], [<mdtraj.Trajectory with 2001 frames, 8830 atoms, 185 residues, and unitcells at 0x2aeafbfb8fd0>, <mdtraj.Trajectory with 2001 frames, 8954 atoms, 175 residues, and unitcells at 0x2aea889ad1d0>], [<mdtraj.Trajectory with 10002 frames, 8854 atoms, 179 residues, and unitcells at 0x2aea89811050>, <mdtraj.Trajectory with 10002 frames, 8930 atoms, 181 residues, and unitcells at 0x2aea88a53690>], [<mdtraj.Trajectory with 11004 frames, 8892 atoms, 180 residues, and unitcells at 0x2aea89eff150>, <mdtraj.Trajectory with 11004 frames, 8892 atoms, 180 residues, and unitcells at 0x2aea88bf4850>], [<mdtraj.Trajectory with 2001 frames, 8892 atoms, 180 residues, and unitcells at 0x2aecc66fefd0>, <mdtraj.Trajectory with 2001 frames, 8892 atoms, 180 residues, and unitcells at 0x2aea89255a10>], [<mdtraj.Trajectory with 2001 frames, 8892 atoms, 180 residues, and unitcells at 0x2aed18d784d0>, <mdtraj.Trajectory with 2001 frames, 8892 atoms, 180 residues, and unitcells at 0x2aeafb825bd0>], [<mdtraj.Trajectory with 2001 frames, 8398 atoms, 170 residues, and unitcells at 0x2aed197c8f10>, <mdtraj.Trajectory with 2001 frames, 8398 atoms, 170 residues, and unitcells at 0x2aea8931b2d0>], [<mdtraj.Trajectory with 2001 frames, 8398 atoms, 170 residues, and unitcells at 0x2aeeb3df86d0>, <mdtraj.Trajectory with 2001 frames, 8398 atoms, 170 residues, and unitcells at 0x2aeeb380b490>], [<mdtraj.Trajectory with 10002 frames, 8398 atoms, 170 residues, and unitcells at 0x2aeefbfe0810>, <mdtraj.Trajectory with 10002 frames, 8398 atoms, 170 residues, and unitcells at 0x2aeefba32650>], [<mdtraj.Trajectory with 2001 frames, 7410 atoms, 150 residues, and unitcells at 0x2aeefc2b6c90>, <mdtraj.Trajectory with 2001 frames, 7410 atoms, 150 residues, and unitcells at 0x2aeefc0f4dd0>], [<mdtraj.Trajectory with 2001 frames, 7410 atoms, 150 residues, and unitcells at 0x2aef40bbe150>, <mdtraj.Trajectory with 2001 frames, 7410 atoms, 150 residues, and unitcells at 0x2aef4081b410>]]\n"
     ]
    }
   ],
   "source": [
    "count = 0\n",
    "lipidTrajArray = []\n",
    "lipids = []\n",
    "ptTrajArray = []\n",
    "#print(gmx_traj)\n",
    "for traj in gmx_traj:\n",
    "    #traj = md.load(dcds[count], top=filedir1+\"SA\"+i+\"/charmm-gui/step5_assembly.xplor_ext.psf\")\n",
    "    #traj = md.load(dcds[count], top=filedir1+\"SA\"+i+\"/charmm-gui/gromacs/Trial1-100/step9_1.gro\")\n",
    "    #pttraj = pt.load(dcds[count], filedir1+\"SA\"+i+\"/charmm-gui/gromacs/Trial1-100/step9_1.gro\")\n",
    "    lipidSelection = traj.topology.select('not resname CLA and not resname SOD')\n",
    "    print(count)\n",
    "    lipidTraj = traj.atom_slice(lipidSelection).center_coordinates()\n",
    "    lipids.append(lipidTraj)\n",
    "    C1selection = lipidTraj.topology.select('name C1')\n",
    "    C1Traj = lipidTraj.atom_slice(C1selection)\n",
    "    coords = C1Traj.xyz\n",
    "    finalCoords = coords[len(coords)-1]\n",
    "    upper_indices = ''\n",
    "    lower_indices = ''\n",
    "    count2 = 1\n",
    "    for x, y, z in finalCoords: #for each C1\n",
    "        if z > 0:\n",
    "            if len(upper_indices) == 0:\n",
    "                upper_indices += ('residue '+str(count2))\n",
    "            else:\n",
    "                upper_indices+=(' or residue '+ str(count2))\n",
    "        else:\n",
    "            if len(lower_indices) == 0:\n",
    "                lower_indices+=('residue '+str(count2))\n",
    "            else:\n",
    "                lower_indices+=(' or residue '+str(count2))\n",
    "        count2 +=1\n",
    "    #print(upper_indices)\n",
    "    upperLeafSelection = lipidTraj.topology.select(upper_indices)\n",
    "    upperLeafTraj = lipidTraj.atom_slice(upperLeafSelection)\n",
    "    lowerLeafSelection = lipidTraj.topology.select(lower_indices)\n",
    "    lowerLeafTraj = lipidTraj.atom_slice(lowerLeafSelection)\n",
    "    lipidTrajArray.append([upperLeafTraj, lowerLeafTraj])\n",
    "    #ptTrajArray.append(pttraj)\n",
    "    count +=1\n",
    "print(lipidTrajArray)\n",
    "#print(lipids)"
   ]
  },
  {
   "cell_type": "code",
   "execution_count": 62,
   "metadata": {},
   "outputs": [],
   "source": [
    "ct = 0\n",
    "for a in areas:\n",
    "    lipids[ct][0].save_pdb(filedir_g+a+'/lipid.pdb')\n",
    "    ct+=1\n",
    "#print(lipidTrajArray[0][0])\n",
    "#print([residue.index for residue in lipidTrajArray[0][0].top.residues][0])\n",
    "#print(str([residue.index for residue in lipidTrajArray[0][1].top.residues]))"
   ]
  },
  {
   "cell_type": "markdown",
   "metadata": {
    "collapsed": true
   },
   "source": [
    "## Create files for diffusion analysis with cpptraj"
   ]
  },
  {
   "cell_type": "markdown",
   "metadata": {
    "collapsed": true
   },
   "source": [
    "areas = ['SA19-1_20ns']\n",
    "def writeMSDInputsGMX():\n",
    "    ct = 0\n",
    "    with open(filedir_g+'cpptraj_msd.sh', 'w') as runfile:\n",
    "        for area in areas:\n",
    "            runfile.write('cpptraj '+filedir_g+area+'/step9_1.pdb '+filedir_g+area+'/cpptraj_msd.in > '+filedir_g+area+'/cpptraj_msd.log\\n')\n",
    "            with open(filedir_g+area+'/cpptraj_msd.in', 'w') as infile:\n",
    "                for trr in trr_files[ct]:\n",
    "                    infile.write('trajin '+trr+'.trr\\n')\n",
    "                stringu = str([residue.index for residue in lipidTrajArray[ct][0].top.residues])\n",
    "                masku = \":\"+stringu[1:-1]\n",
    "                stringl = str([residue.index for residue in lipidTrajArray[ct][1].top.residues])\n",
    "                maskl = \":\"+stringl[1:-1]\n",
    "                laupu = \":\"+str([residue.index for residue in lipidTrajArray[ct][0].top.residues if residue.name == 'LAUP'])[1:-1]\n",
    "                laupl = \":\"+str([residue.index for residue in lipidTrajArray[ct][1].top.residues if residue.name == 'LAUP'])[1:-1]\n",
    "                myrpu = \":\"+str([residue.index for residue in lipidTrajArray[ct][0].top.residues if residue.name == 'MYRP'])[1:-1]\n",
    "                myrpl = \":\"+str([residue.index for residue in lipidTrajArray[ct][1].top.residues if residue.name == 'MYRP'])[1:-1] \n",
    "                stepu = \":\"+str([residue.index for residue in lipidTrajArray[ct][0].top.residues if residue.name == 'STEP'])[1:-1] \n",
    "                stepl = \":\"+str([residue.index for residue in lipidTrajArray[ct][1].top.residues if residue.name == 'STEP'])[1:-1] \n",
    "                palpu = \":\"+str([residue.index for residue in lipidTrajArray[ct][0].top.residues if residue.name == 'PALP'])[1:-1] \n",
    "                palpl = \":\"+str([residue.index for residue in lipidTrajArray[ct][1].top.residues if residue.name == 'PALP'])[1:-1] \n",
    "                infile.write('unwrap\\n')\n",
    "                infile.write('stfcdiffusion mask '+masku+' out '+filedir_g+area+'/msd_upper_lipids.dat time 2.0 xy\\n')\n",
    "                infile.write('stfcdiffusion mask '+maskl+' out '+filedir_g+area+'/msd_lower_lipids.dat time 2.0 xy\\n')\n",
    "                infile.write('stfcdiffusion mask '+laupu+' out '+filedir_g+area+'/msd_upper_laup.dat time 2.0 xy\\n')\n",
    "                infile.write('stfcdiffusion mask '+laupl+' out '+filedir_g+area+'/msd_lower_laup.dat time 2.0 xy\\n')\n",
    "                infile.write('stfcdiffusion mask '+palpu+' out '+filedir_g+area+'/msd_upper_palp.dat time 2.0 xy\\n')\n",
    "                infile.write('stfcdiffusion mask '+palpl+' out '+filedir_g+area+'/msd_lower_palp.dat time 2.0 xy\\n')\n",
    "                infile.write('stfcdiffusion mask '+stepu+' out '+filedir_g+area+'/msd_upper_step.dat time 2.0 xy\\n')\n",
    "                infile.write('stfcdiffusion mask '+stepl+' out '+filedir_g+area+'/msd_lower_step.dat time 2.0 xy\\n')\n",
    "                infile.write('stfcdiffusion mask '+myrpu+' out '+filedir_g+area+'/msd_upper_myrp.dat time 2.0 xy\\n')\n",
    "                infile.write('stfcdiffusion mask '+myrpl+' out '+filedir_g+area+'/msd_lower_myrp.dat time 2.0 xy\\n')\n",
    "                ct+=1\n",
    "                \n",
    "                \n",
    "                \n",
    "                \n",
    "                "
   ]
  },
  {
   "cell_type": "markdown",
   "metadata": {},
   "source": [
    "writeMSDInputsGMX()"
   ]
  },
  {
   "cell_type": "markdown",
   "metadata": {},
   "source": [
    "## actually we can use gromacs tools to calculate msd"
   ]
  },
  {
   "cell_type": "code",
   "execution_count": null,
   "metadata": {
    "collapsed": true
   },
   "outputs": [],
   "source": []
  }
 ],
 "metadata": {
  "kernelspec": {
   "display_name": "Python 2",
   "language": "python",
   "name": "python2"
  },
  "language_info": {
   "codemirror_mode": {
    "name": "ipython",
    "version": 2
   },
   "file_extension": ".py",
   "mimetype": "text/x-python",
   "name": "python",
   "nbconvert_exporter": "python",
   "pygments_lexer": "ipython2",
   "version": "2.7.15"
  }
 },
 "nbformat": 4,
 "nbformat_minor": 2
}
