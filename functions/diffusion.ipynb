{
 "cells": [
  {
   "cell_type": "code",
   "execution_count": 1,
   "metadata": {
    "collapsed": true
   },
   "outputs": [],
   "source": [
    "import numpy as np\n",
    "import mdtraj as md\n",
    "import matplotlib.pyplot as plt\n",
    "%matplotlib inline \n",
    "#new stuff 7/9 for automating process\n",
    "import os\n",
    "import os.path\n",
    "from pathlib2 import Path"
   ]
  },
  {
   "cell_type": "markdown",
   "metadata": {},
   "source": [
    "## import data"
   ]
  },
  {
   "cell_type": "code",
   "execution_count": 2,
   "metadata": {},
   "outputs": [
    {
     "name": "stdout",
     "output_type": "stream",
     "text": [
      "[['/gpfs/amarolab/monolayers/MIX1_NaCl0.4_GMX/SA19-1_20ns/step9_1', '/gpfs/amarolab/monolayers/MIX1_NaCl0.4_GMX/SA19-1_20ns/step9_2'], ['/gpfs/amarolab/monolayers/MIX1_NaCl0.4_GMX/SA19-2_100ns/step9_1', '/gpfs/amarolab/monolayers/MIX1_NaCl0.4_GMX/SA19-2_100ns/step9_2', '/gpfs/amarolab/monolayers/MIX1_NaCl0.4_GMX/SA19-2_100ns/step9_3', '/gpfs/amarolab/monolayers/MIX1_NaCl0.4_GMX/SA19-2_100ns/step9_4', '/gpfs/amarolab/monolayers/MIX1_NaCl0.4_GMX/SA19-2_100ns/step9_5', '/gpfs/amarolab/monolayers/MIX1_NaCl0.4_GMX/SA19-2_100ns/step9_6', '/gpfs/amarolab/monolayers/MIX1_NaCl0.4_GMX/SA19-2_100ns/step9_7', '/gpfs/amarolab/monolayers/MIX1_NaCl0.4_GMX/SA19-2_100ns/step9_8', '/gpfs/amarolab/monolayers/MIX1_NaCl0.4_GMX/SA19-2_100ns/step9_9', '/gpfs/amarolab/monolayers/MIX1_NaCl0.4_GMX/SA19-2_100ns/step9_10', '/gpfs/amarolab/monolayers/MIX1_NaCl0.4_GMX/SA19-2_100ns/step9_11', '/gpfs/amarolab/monolayers/MIX1_NaCl0.4_GMX/SA19-2_100ns/step9_12', '/gpfs/amarolab/monolayers/MIX1_NaCl0.4_GMX/SA19-2_100ns/step9_13', '/gpfs/amarolab/monolayers/MIX1_NaCl0.4_GMX/SA19-2_100ns/step9_14', '/gpfs/amarolab/monolayers/MIX1_NaCl0.4_GMX/SA19-2_100ns/step9_15', '/gpfs/amarolab/monolayers/MIX1_NaCl0.4_GMX/SA19-2_100ns/step9_16', '/gpfs/amarolab/monolayers/MIX1_NaCl0.4_GMX/SA19-2_100ns/step9_17', '/gpfs/amarolab/monolayers/MIX1_NaCl0.4_GMX/SA19-2_100ns/step9_18', '/gpfs/amarolab/monolayers/MIX1_NaCl0.4_GMX/SA19-2_100ns/step9_19', '/gpfs/amarolab/monolayers/MIX1_NaCl0.4_GMX/SA19-2_100ns/step9_20'], ['/gpfs/amarolab/monolayers/MIX1_NaCl0.4_GMX/SA19-3_20ns/step9_1', '/gpfs/amarolab/monolayers/MIX1_NaCl0.4_GMX/SA19-3_20ns/step9_2'], ['/gpfs/amarolab/monolayers/MIX1_NaCl0.4_GMX/SA19.5_100ns/step9_1', '/gpfs/amarolab/monolayers/MIX1_NaCl0.4_GMX/SA19.5_100ns/step9_2', '/gpfs/amarolab/monolayers/MIX1_NaCl0.4_GMX/SA19.5_100ns/step9_3', '/gpfs/amarolab/monolayers/MIX1_NaCl0.4_GMX/SA19.5_100ns/step9_4', '/gpfs/amarolab/monolayers/MIX1_NaCl0.4_GMX/SA19.5_100ns/step9_5'], ['/gpfs/amarolab/monolayers/MIX1_NaCl0.4_GMX/SA19.5-2_20ns/step9_1'], ['/gpfs/amarolab/monolayers/MIX1_NaCl0.4_GMX/SA19.5-3_20ns/step9_1'], ['/gpfs/amarolab/monolayers/MIX1_NaCl0.4_GMX/SA20_20ns/step9_1', '/gpfs/amarolab/monolayers/MIX1_NaCl0.4_GMX/SA20_20ns/step9_2'], ['/gpfs/amarolab/monolayers/MIX1_NaCl0.4_GMX/SA20-2_20ns/step9_1'], ['/gpfs/amarolab/monolayers/MIX1_NaCl0.4_GMX/SA20-3_100ns/step9_1', '/gpfs/amarolab/monolayers/MIX1_NaCl0.4_GMX/SA20-3_100ns/step9_2'], ['/gpfs/amarolab/monolayers/MIX1_NaCl0.4_GMX/SA21_100ns/step9_1', '/gpfs/amarolab/monolayers/MIX1_NaCl0.4_GMX/SA21_100ns/step9_2', '/gpfs/amarolab/monolayers/MIX1_NaCl0.4_GMX/SA21_100ns/step9_3', '/gpfs/amarolab/monolayers/MIX1_NaCl0.4_GMX/SA21_100ns/step9_4'], ['/gpfs/amarolab/monolayers/MIX1_NaCl0.4_GMX/SA21-2_20ns/step9_1'], ['/gpfs/amarolab/monolayers/MIX1_NaCl0.4_GMX/SA21-3_20ns/step9_1'], ['/gpfs/amarolab/monolayers/MIX1_NaCl0.4_GMX/SA22_20ns/step9_1'], ['/gpfs/amarolab/monolayers/MIX1_NaCl0.4_GMX/SA22-2_20ns/step9_1'], ['/gpfs/amarolab/monolayers/MIX1_NaCl0.4_GMX/SA22-3_100ns/step9_1', '/gpfs/amarolab/monolayers/MIX1_NaCl0.4_GMX/SA22-3_100ns/step9_2'], ['/gpfs/amarolab/monolayers/MIX1_NaCl0.4_GMX/SA24_20ns/step9_1'], ['/gpfs/amarolab/monolayers/MIX1_NaCl0.4_GMX/SA24-2_20ns/step9_1']]\n"
     ]
    }
   ],
   "source": [
    "gmx_surface_areas = ['SA19-1_20ns', 'SA19-2_100ns', 'SA19-3_20ns',\n",
    "                 'SA19.5_100ns', 'SA19.5-2_20ns', 'SA19.5-3_20ns',\n",
    "                 'SA20_20ns', 'SA20-2_20ns', 'SA20-3_100ns',\n",
    "                 'SA21_100ns', 'SA21-2_20ns', 'SA21-3_20ns', \n",
    "                 'SA22_20ns', 'SA22-2_20ns', 'SA22-3_100ns', \n",
    "                 'SA24_20ns', 'SA24-2_20ns', 'SA24-3_100ns']\n",
    "namd_surface_areas = ['SA19','SA19-2', 'SA19-3', \n",
    "                   'SA19.5','SA19.5-2', 'SA19.5-3',\n",
    "                   'SA20','SA20-2', 'SA20-3',\n",
    "                   'SA20.5', 'SA20.5-2', 'SA20.5-3',\n",
    "                   'SA21','SA21-2', 'SA21-3',\n",
    "                   'SA22','SA22-2', 'SA22-3',\n",
    "                   'SA23','SA23-2', 'SA23-3',\n",
    "                   'SA24', 'SA24-2', 'SA24-3']\n",
    "namd_filenames = ['step7.1', 'step7.2', 'step7.21', 'step7.3', 'step7.31', 'step7.32', 'step7.33', 'step7.34',\n",
    "               'step7.35','step7.4', 'step7.41', 'step7.42', 'step7.43', 'step7.44', 'step7.45']\n",
    "gmx_filenames = []\n",
    "for g in range(1,21):\n",
    "    gmx_filenames.append('step9_'+str(g))\n",
    "filedir_g = '/gpfs/amarolab/monolayers/MIX1_NaCl0.4_GMX/'\n",
    "filedir_n = '/gpfs/amarolab/abbyflabby/MIX/MIX1234_NaCl0.4_NAMD/'\n",
    "logfiles_n = []\n",
    "logfiles_g = []\n",
    "trr_files = []\n",
    "dcd_files = []\n",
    "\n",
    "for area in namd_surface_areas:\n",
    "    logchunk = []\n",
    "    dcdchunk = []\n",
    "    for i in namd_filenames:\n",
    "        log = Path(filedir_n+area+'/charmm-gui/namd/'+i+'_production.log')\n",
    "        dcd = Path(filedir_n+area+'/charmm-gui/namd/'+i+'_production.dcd')\n",
    "        if log.exists():\n",
    "            logchunk.append(filedir_n+area+'/charmm-gui/namd/'+i+'_production.log')\n",
    "        if dcd.exists():\n",
    "            dcdchunk.append(filedir_n+area+'/charmm-gui/namd/'+i+'_production.dcd')\n",
    "    if len(logchunk)>0:\n",
    "        logfiles_n.append(logchunk)\n",
    "        dcd_files.append(dcdchunk)\n",
    "#xvgfiles = [] #list of xvg filenames\n",
    "pres = []\n",
    "times = []\n",
    "areas = []\n",
    "trr_files = []\n",
    "#for narea in n_surface_areas:\n",
    "#    logchunk = []\n",
    "    \n",
    "for area in gmx_surface_areas:\n",
    "    xvgchunk = []\n",
    "    trajchunk = []\n",
    "    for i in range(1, 21):\n",
    "        xvg = Path(filedir_g+area+'/step9_'+str(i)+'.xvg')\n",
    "        traj = Path(filedir_g+area+'/step9_'+str(i)+'.trr')\n",
    "        if xvg.exists():\n",
    "            xvgchunk.append(filedir_g+area+'/step9_'+str(i)+'.xvg')\n",
    "        if traj.exists():\n",
    "            trajchunk.append(filedir_g+area+'/step9_'+str(i))\n",
    "    #print(xvgchunk)\n",
    "    for p, x in enumerate(xvgchunk):\n",
    "        if p == 0:\n",
    "            #arr = np.array(timesteps)\n",
    "            #timesteps in nanoseconds\n",
    "            timesteps = np.genfromtxt(x, dtype='float', skip_header=24)[:,0]/1000\n",
    "            #np.append(timesteps, new_ts)\n",
    "            pressures = np.genfromtxt(x, dtype='float', skip_header=24)[:,1]/20\n",
    "            #np.append(pressures, new_pr)\n",
    "            #print(pressures)\n",
    "        else:\n",
    "            time = np.genfromtxt(x,dtype='float', skip_header=24)[:,0]/1000\n",
    "            #print(time)\n",
    "            timesteps = np.append(timesteps, time)\n",
    "      #      #print(time)\n",
    "      #      #t = time.tolist()\n",
    "      #      timesteps.append(time)\n",
    "      #      print(timesteps)\n",
    "            pr = np.genfromtxt(x, dtype='float', skip_header=24)[:,1]/20\n",
    "            pressures = np.append(pressures, pr)\n",
    "    if len(xvgchunk)>0:\n",
    "        pres.append(70.5-np.array(pressures))\n",
    "        times.append(timesteps)\n",
    "        areas.append(area)\n",
    "        logfiles_g.append(xvgchunk)\n",
    "        trr_files.append(trajchunk)\n",
    "print(trr_files)"
   ]
  },
  {
   "cell_type": "code",
   "execution_count": 3,
   "metadata": {},
   "outputs": [
    {
     "name": "stdout",
     "output_type": "stream",
     "text": [
      "[['/gpfs/amarolab/monolayers/MIX1_NaCl0.4_GMX/SA19-1_20ns/step9_1_stripped.xtc', '/gpfs/amarolab/monolayers/MIX1_NaCl0.4_GMX/SA19-1_20ns/step9_2_stripped.xtc'], ['/gpfs/amarolab/monolayers/MIX1_NaCl0.4_GMX/SA19-2_100ns/step9_1_stripped.xtc', '/gpfs/amarolab/monolayers/MIX1_NaCl0.4_GMX/SA19-2_100ns/step9_2_stripped.xtc', '/gpfs/amarolab/monolayers/MIX1_NaCl0.4_GMX/SA19-2_100ns/step9_3_stripped.xtc', '/gpfs/amarolab/monolayers/MIX1_NaCl0.4_GMX/SA19-2_100ns/step9_4_stripped.xtc', '/gpfs/amarolab/monolayers/MIX1_NaCl0.4_GMX/SA19-2_100ns/step9_5_stripped.xtc', '/gpfs/amarolab/monolayers/MIX1_NaCl0.4_GMX/SA19-2_100ns/step9_6_stripped.xtc', '/gpfs/amarolab/monolayers/MIX1_NaCl0.4_GMX/SA19-2_100ns/step9_7_stripped.xtc', '/gpfs/amarolab/monolayers/MIX1_NaCl0.4_GMX/SA19-2_100ns/step9_8_stripped.xtc', '/gpfs/amarolab/monolayers/MIX1_NaCl0.4_GMX/SA19-2_100ns/step9_9_stripped.xtc', '/gpfs/amarolab/monolayers/MIX1_NaCl0.4_GMX/SA19-2_100ns/step9_10_stripped.xtc', '/gpfs/amarolab/monolayers/MIX1_NaCl0.4_GMX/SA19-2_100ns/step9_11_stripped.xtc', '/gpfs/amarolab/monolayers/MIX1_NaCl0.4_GMX/SA19-2_100ns/step9_12_stripped.xtc', '/gpfs/amarolab/monolayers/MIX1_NaCl0.4_GMX/SA19-2_100ns/step9_13_stripped.xtc', '/gpfs/amarolab/monolayers/MIX1_NaCl0.4_GMX/SA19-2_100ns/step9_14_stripped.xtc', '/gpfs/amarolab/monolayers/MIX1_NaCl0.4_GMX/SA19-2_100ns/step9_15_stripped.xtc', '/gpfs/amarolab/monolayers/MIX1_NaCl0.4_GMX/SA19-2_100ns/step9_16_stripped.xtc', '/gpfs/amarolab/monolayers/MIX1_NaCl0.4_GMX/SA19-2_100ns/step9_17_stripped.xtc', '/gpfs/amarolab/monolayers/MIX1_NaCl0.4_GMX/SA19-2_100ns/step9_18_stripped.xtc', '/gpfs/amarolab/monolayers/MIX1_NaCl0.4_GMX/SA19-2_100ns/step9_19_stripped.xtc', '/gpfs/amarolab/monolayers/MIX1_NaCl0.4_GMX/SA19-2_100ns/step9_20_stripped.xtc'], ['/gpfs/amarolab/monolayers/MIX1_NaCl0.4_GMX/SA19-3_20ns/step9_1_stripped.xtc', '/gpfs/amarolab/monolayers/MIX1_NaCl0.4_GMX/SA19-3_20ns/step9_2_stripped.xtc'], ['/gpfs/amarolab/monolayers/MIX1_NaCl0.4_GMX/SA19.5_100ns/step9_1_stripped.xtc', '/gpfs/amarolab/monolayers/MIX1_NaCl0.4_GMX/SA19.5_100ns/step9_2_stripped.xtc', '/gpfs/amarolab/monolayers/MIX1_NaCl0.4_GMX/SA19.5_100ns/step9_3_stripped.xtc', '/gpfs/amarolab/monolayers/MIX1_NaCl0.4_GMX/SA19.5_100ns/step9_4_stripped.xtc', '/gpfs/amarolab/monolayers/MIX1_NaCl0.4_GMX/SA19.5_100ns/step9_5_stripped.xtc'], ['/gpfs/amarolab/monolayers/MIX1_NaCl0.4_GMX/SA19.5-2_20ns/step9_1_stripped.xtc'], ['/gpfs/amarolab/monolayers/MIX1_NaCl0.4_GMX/SA19.5-3_20ns/step9_1_stripped.xtc'], ['/gpfs/amarolab/monolayers/MIX1_NaCl0.4_GMX/SA20_20ns/step9_1_stripped.xtc', '/gpfs/amarolab/monolayers/MIX1_NaCl0.4_GMX/SA20_20ns/step9_2_stripped.xtc'], ['/gpfs/amarolab/monolayers/MIX1_NaCl0.4_GMX/SA20-2_20ns/step9_1_stripped.xtc'], ['/gpfs/amarolab/monolayers/MIX1_NaCl0.4_GMX/SA20-3_100ns/step9_1_stripped.xtc', '/gpfs/amarolab/monolayers/MIX1_NaCl0.4_GMX/SA20-3_100ns/step9_2_stripped.xtc'], ['/gpfs/amarolab/monolayers/MIX1_NaCl0.4_GMX/SA21_100ns/step9_1_stripped.xtc', '/gpfs/amarolab/monolayers/MIX1_NaCl0.4_GMX/SA21_100ns/step9_2_stripped.xtc', '/gpfs/amarolab/monolayers/MIX1_NaCl0.4_GMX/SA21_100ns/step9_3_stripped.xtc', '/gpfs/amarolab/monolayers/MIX1_NaCl0.4_GMX/SA21_100ns/step9_4_stripped.xtc'], ['/gpfs/amarolab/monolayers/MIX1_NaCl0.4_GMX/SA21-2_20ns/step9_1_stripped.xtc'], ['/gpfs/amarolab/monolayers/MIX1_NaCl0.4_GMX/SA21-3_20ns/step9_1_stripped.xtc'], ['/gpfs/amarolab/monolayers/MIX1_NaCl0.4_GMX/SA22_20ns/step9_1_stripped.xtc'], ['/gpfs/amarolab/monolayers/MIX1_NaCl0.4_GMX/SA22-2_20ns/step9_1_stripped.xtc'], ['/gpfs/amarolab/monolayers/MIX1_NaCl0.4_GMX/SA22-3_100ns/step9_1_stripped.xtc', '/gpfs/amarolab/monolayers/MIX1_NaCl0.4_GMX/SA22-3_100ns/step9_2_stripped.xtc'], ['/gpfs/amarolab/monolayers/MIX1_NaCl0.4_GMX/SA24_20ns/step9_1_stripped.xtc'], ['/gpfs/amarolab/monolayers/MIX1_NaCl0.4_GMX/SA24-2_20ns/step9_1_stripped.xtc']]\n",
      "17\n"
     ]
    }
   ],
   "source": [
    "gmx_traj = []\n",
    "namd_traj = []\n",
    "xtcs = []\n",
    "for trr in trr_files:\n",
    "    #print(trr_files)\n",
    "    chunk = []\n",
    "    for t in trr:\n",
    "        chunk.append(t+'_stripped.xtc')\n",
    "    xtcs.append(chunk)\n",
    "print(xtcs)\n",
    "print(len(xtcs))"
   ]
  },
  {
   "cell_type": "code",
   "execution_count": 4,
   "metadata": {},
   "outputs": [
    {
     "name": "stdout",
     "output_type": "stream",
     "text": [
      "[<mdtraj.Trajectory with 3002 frames, 18872 atoms, 480 residues, and unitcells at 0x2b4a969130d0>, <mdtraj.Trajectory with 24520 frames, 18872 atoms, 480 residues, and unitcells at 0x2b4a987d57d0>, <mdtraj.Trajectory with 3002 frames, 18872 atoms, 480 residues, and unitcells at 0x2b4a98a781d0>, <mdtraj.Trajectory with 10005 frames, 18876 atoms, 484 residues, and unitcells at 0x2b4a9b4180d0>, <mdtraj.Trajectory with 2001 frames, 18876 atoms, 484 residues, and unitcells at 0x2b4a97487d10>, <mdtraj.Trajectory with 2001 frames, 18876 atoms, 484 residues, and unitcells at 0x2b4a9af38090>, <mdtraj.Trajectory with 3002 frames, 17886 atoms, 462 residues, and unitcells at 0x2b4a9afa09d0>, <mdtraj.Trajectory with 2001 frames, 17886 atoms, 462 residues, and unitcells at 0x2b4b4aa0e750>, <mdtraj.Trajectory with 10002 frames, 17886 atoms, 462 residues, and unitcells at 0x2b4a9d395650>, <mdtraj.Trajectory with 11004 frames, 17892 atoms, 468 residues, and unitcells at 0x2b4a9b4c4f90>, <mdtraj.Trajectory with 2001 frames, 17892 atoms, 468 residues, and unitcells at 0x2b4ba76309d0>, <mdtraj.Trajectory with 2001 frames, 17892 atoms, 468 residues, and unitcells at 0x2b4a9c6ef650>, <mdtraj.Trajectory with 2001 frames, 16902 atoms, 446 residues, and unitcells at 0x2b4a9cbc5150>, <mdtraj.Trajectory with 2001 frames, 16902 atoms, 446 residues, and unitcells at 0x2b4a9afa0b50>, <mdtraj.Trajectory with 10002 frames, 16902 atoms, 446 residues, and unitcells at 0x2b4ba7630f90>, <mdtraj.Trajectory with 2001 frames, 14924 atoms, 404 residues, and unitcells at 0x2b4a9c85cb10>, <mdtraj.Trajectory with 2001 frames, 14924 atoms, 404 residues, and unitcells at 0x2b4a9fc83e10>]\n"
     ]
    }
   ],
   "source": [
    "ct = 0 \n",
    "for x in xtcs:\n",
    "    chunk = []\n",
    "    #print(x)\n",
    "    #print(filedir_g+areas[ct]+'/step9_1_stripped.pdb')\n",
    "    traj = md.load(x, top=filedir_g+areas[ct]+'/step9_1_stripped.pdb')\n",
    "    #chunk.append(traj)\n",
    "    gmx_traj.append(traj)\n",
    "    ct+=1\n",
    "print(gmx_traj)"
   ]
  },
  {
   "cell_type": "code",
   "execution_count": 5,
   "metadata": {},
   "outputs": [
    {
     "name": "stdout",
     "output_type": "stream",
     "text": [
      "0\n",
      "1\n",
      "2\n",
      "3\n",
      "4\n",
      "5\n",
      "6\n",
      "7\n",
      "8\n",
      "9\n",
      "10\n",
      "11\n",
      "12\n",
      "13\n",
      "14\n",
      "15\n",
      "16\n",
      "[[<mdtraj.Trajectory with 3002 frames, 9386 atoms, 190 residues, and unitcells at 0x2b4d2e690fd0>, <mdtraj.Trajectory with 3002 frames, 9386 atoms, 190 residues, and unitcells at 0x2b4d2d198850>], [<mdtraj.Trajectory with 24520 frames, 9398 atoms, 190 residues, and unitcells at 0x2b4d2f438f50>, <mdtraj.Trajectory with 24520 frames, 9374 atoms, 190 residues, and unitcells at 0x2b4d2e5f9d50>], [<mdtraj.Trajectory with 3002 frames, 9386 atoms, 190 residues, and unitcells at 0x2b4d2fba9450>, <mdtraj.Trajectory with 3002 frames, 9386 atoms, 190 residues, and unitcells at 0x2b4d2d90abd0>], [<mdtraj.Trajectory with 10005 frames, 9386 atoms, 190 residues, and unitcells at 0x2b5096ee3b50>, <mdtraj.Trajectory with 10005 frames, 9386 atoms, 190 residues, and unitcells at 0x2b4d2da32c50>], [<mdtraj.Trajectory with 2001 frames, 9436 atoms, 191 residues, and unitcells at 0x2b50925516d0>, <mdtraj.Trajectory with 2001 frames, 9336 atoms, 189 residues, and unitcells at 0x2b4d2dfb6fd0>], [<mdtraj.Trajectory with 2001 frames, 9436 atoms, 191 residues, and unitcells at 0x2b511daf4b10>, <mdtraj.Trajectory with 2001 frames, 9336 atoms, 189 residues, and unitcells at 0x2b4d2f7b8290>], [<mdtraj.Trajectory with 3002 frames, 8792 atoms, 187 residues, and unitcells at 0x2b564348af90>, <mdtraj.Trajectory with 3002 frames, 8992 atoms, 173 residues, and unitcells at 0x2b4d2ed94550>], [<mdtraj.Trajectory with 2001 frames, 8830 atoms, 185 residues, and unitcells at 0x2b56b665ef10>, <mdtraj.Trajectory with 2001 frames, 8954 atoms, 175 residues, and unitcells at 0x2b4d2dbaeed0>], [<mdtraj.Trajectory with 10002 frames, 8854 atoms, 179 residues, and unitcells at 0x2b5092dc7050>, <mdtraj.Trajectory with 10002 frames, 8930 atoms, 181 residues, and unitcells at 0x2b4d2f9155d0>], [<mdtraj.Trajectory with 11004 frames, 8892 atoms, 180 residues, and unitcells at 0x2b5097af8090>, <mdtraj.Trajectory with 11004 frames, 8892 atoms, 180 residues, and unitcells at 0x2b5642f6a790>], [<mdtraj.Trajectory with 2001 frames, 8892 atoms, 180 residues, and unitcells at 0x2b5880d971d0>, <mdtraj.Trajectory with 2001 frames, 8892 atoms, 180 residues, and unitcells at 0x2b5097622950>], [<mdtraj.Trajectory with 2001 frames, 8892 atoms, 180 residues, and unitcells at 0x2b58d332ef10>, <mdtraj.Trajectory with 2001 frames, 8892 atoms, 180 residues, and unitcells at 0x2b58d2dabb10>], [<mdtraj.Trajectory with 2001 frames, 8398 atoms, 170 residues, and unitcells at 0x2b58d3d92210>, <mdtraj.Trajectory with 2001 frames, 8398 atoms, 170 residues, and unitcells at 0x2b56b607d110>], [<mdtraj.Trajectory with 2001 frames, 8398 atoms, 170 residues, and unitcells at 0x2b5a6e493590>, <mdtraj.Trajectory with 2001 frames, 8398 atoms, 170 residues, and unitcells at 0x2b5a6de573d0>], [<mdtraj.Trajectory with 10002 frames, 8398 atoms, 170 residues, and unitcells at 0x2b5ab6637690>, <mdtraj.Trajectory with 10002 frames, 8398 atoms, 170 residues, and unitcells at 0x2b5ab607d590>], [<mdtraj.Trajectory with 2001 frames, 7410 atoms, 150 residues, and unitcells at 0x2b5ab68ffbd0>, <mdtraj.Trajectory with 2001 frames, 7410 atoms, 150 residues, and unitcells at 0x2b509779ed10>], [<mdtraj.Trajectory with 2001 frames, 7410 atoms, 150 residues, and unitcells at 0x2b5ae5e73090>, <mdtraj.Trajectory with 2001 frames, 7410 atoms, 150 residues, and unitcells at 0x2b5ae5ac7350>]]\n"
     ]
    }
   ],
   "source": [
    "count = 0\n",
    "lipidTrajArray = []\n",
    "lipids = []\n",
    "ptTrajArray = []\n",
    "#print(gmx_traj)\n",
    "for traj in gmx_traj:\n",
    "    #traj = md.load(dcds[count], top=filedir1+\"SA\"+i+\"/charmm-gui/step5_assembly.xplor_ext.psf\")\n",
    "    #traj = md.load(dcds[count], top=filedir1+\"SA\"+i+\"/charmm-gui/gromacs/Trial1-100/step9_1.gro\")\n",
    "    #pttraj = pt.load(dcds[count], filedir1+\"SA\"+i+\"/charmm-gui/gromacs/Trial1-100/step9_1.gro\")\n",
    "    lipidSelection = traj.topology.select('not resname CLA and not resname SOD')\n",
    "    print(count)\n",
    "    lipidTraj = traj.atom_slice(lipidSelection).center_coordinates()\n",
    "    lipids.append(lipidTraj)\n",
    "    C1selection = lipidTraj.topology.select('name C1')\n",
    "    C1Traj = lipidTraj.atom_slice(C1selection)\n",
    "    coords = C1Traj.xyz\n",
    "    finalCoords = coords[len(coords)-1]\n",
    "    upper_indices = ''\n",
    "    lower_indices = ''\n",
    "    count2 = 1\n",
    "    for x, y, z in finalCoords: #for each C1\n",
    "        if z > 0:\n",
    "            if len(upper_indices) == 0:\n",
    "                upper_indices += ('residue '+str(count2))\n",
    "            else:\n",
    "                upper_indices+=(' or residue '+ str(count2))\n",
    "        else:\n",
    "            if len(lower_indices) == 0:\n",
    "                lower_indices+=('residue '+str(count2))\n",
    "            else:\n",
    "                lower_indices+=(' or residue '+str(count2))\n",
    "        count2 +=1\n",
    "    #print(upper_indices)\n",
    "    upperLeafSelection = lipidTraj.topology.select(upper_indices)\n",
    "    upperLeafTraj = lipidTraj.atom_slice(upperLeafSelection)\n",
    "    lowerLeafSelection = lipidTraj.topology.select(lower_indices)\n",
    "    lowerLeafTraj = lipidTraj.atom_slice(lowerLeafSelection)\n",
    "    lipidTrajArray.append([upperLeafTraj, lowerLeafTraj])\n",
    "    #ptTrajArray.append(pttraj)\n",
    "    count +=1\n",
    "print(lipidTrajArray)\n",
    "#print(lipids)"
   ]
  },
  {
   "cell_type": "markdown",
   "metadata": {},
   "source": [
    "ct = 0\n",
    "for a in areas:\n",
    "    lipids[ct][0].save_pdb(filedir_g+a+'/lipid.pdb')\n",
    "    ct+=1\n",
    "#print(lipidTrajArray[0][0])\n",
    "#print([residue.index for residue in lipidTrajArray[0][0].top.residues][0])\n",
    "#print(str([residue.index for residue in lipidTrajArray[0][1].top.residues]))"
   ]
  },
  {
   "cell_type": "markdown",
   "metadata": {
    "collapsed": true
   },
   "source": [
    "## Create files for diffusion analysis with cpptraj"
   ]
  },
  {
   "cell_type": "markdown",
   "metadata": {
    "collapsed": true
   },
   "source": [
    "areas = ['SA19-1_20ns']\n",
    "def writeMSDInputsGMX():\n",
    "    ct = 0\n",
    "    with open(filedir_g+'cpptraj_msd.sh', 'w') as runfile:\n",
    "        for area in areas:\n",
    "            runfile.write('cpptraj '+filedir_g+area+'/step9_1.pdb '+filedir_g+area+'/cpptraj_msd.in > '+filedir_g+area+'/cpptraj_msd.log\\n')\n",
    "            with open(filedir_g+area+'/cpptraj_msd.in', 'w') as infile:\n",
    "                for trr in trr_files[ct]:\n",
    "                    infile.write('trajin '+trr+'.trr\\n')\n",
    "                stringu = str([residue.index for residue in lipidTrajArray[ct][0].top.residues])\n",
    "                masku = \":\"+stringu[1:-1]\n",
    "                stringl = str([residue.index for residue in lipidTrajArray[ct][1].top.residues])\n",
    "                maskl = \":\"+stringl[1:-1]\n",
    "                laupu = \":\"+str([residue.index for residue in lipidTrajArray[ct][0].top.residues if residue.name == 'LAUP'])[1:-1]\n",
    "                laupl = \":\"+str([residue.index for residue in lipidTrajArray[ct][1].top.residues if residue.name == 'LAUP'])[1:-1]\n",
    "                myrpu = \":\"+str([residue.index for residue in lipidTrajArray[ct][0].top.residues if residue.name == 'MYRP'])[1:-1]\n",
    "                myrpl = \":\"+str([residue.index for residue in lipidTrajArray[ct][1].top.residues if residue.name == 'MYRP'])[1:-1] \n",
    "                stepu = \":\"+str([residue.index for residue in lipidTrajArray[ct][0].top.residues if residue.name == 'STEP'])[1:-1] \n",
    "                stepl = \":\"+str([residue.index for residue in lipidTrajArray[ct][1].top.residues if residue.name == 'STEP'])[1:-1] \n",
    "                palpu = \":\"+str([residue.index for residue in lipidTrajArray[ct][0].top.residues if residue.name == 'PALP'])[1:-1] \n",
    "                palpl = \":\"+str([residue.index for residue in lipidTrajArray[ct][1].top.residues if residue.name == 'PALP'])[1:-1] \n",
    "                infile.write('unwrap\\n')\n",
    "                infile.write('stfcdiffusion mask '+masku+' out '+filedir_g+area+'/msd_upper_lipids.dat time 2.0 xy\\n')\n",
    "                infile.write('stfcdiffusion mask '+maskl+' out '+filedir_g+area+'/msd_lower_lipids.dat time 2.0 xy\\n')\n",
    "                infile.write('stfcdiffusion mask '+laupu+' out '+filedir_g+area+'/msd_upper_laup.dat time 2.0 xy\\n')\n",
    "                infile.write('stfcdiffusion mask '+laupl+' out '+filedir_g+area+'/msd_lower_laup.dat time 2.0 xy\\n')\n",
    "                infile.write('stfcdiffusion mask '+palpu+' out '+filedir_g+area+'/msd_upper_palp.dat time 2.0 xy\\n')\n",
    "                infile.write('stfcdiffusion mask '+palpl+' out '+filedir_g+area+'/msd_lower_palp.dat time 2.0 xy\\n')\n",
    "                infile.write('stfcdiffusion mask '+stepu+' out '+filedir_g+area+'/msd_upper_step.dat time 2.0 xy\\n')\n",
    "                infile.write('stfcdiffusion mask '+stepl+' out '+filedir_g+area+'/msd_lower_step.dat time 2.0 xy\\n')\n",
    "                infile.write('stfcdiffusion mask '+myrpu+' out '+filedir_g+area+'/msd_upper_myrp.dat time 2.0 xy\\n')\n",
    "                infile.write('stfcdiffusion mask '+myrpl+' out '+filedir_g+area+'/msd_lower_myrp.dat time 2.0 xy\\n')\n",
    "                ct+=1\n",
    "                \n",
    "                \n",
    "                \n",
    "                \n",
    "                "
   ]
  },
  {
   "cell_type": "markdown",
   "metadata": {},
   "source": [
    "writeMSDInputsGMX()"
   ]
  },
  {
   "cell_type": "markdown",
   "metadata": {},
   "source": [
    "## actually we can use gromacs tools to calculate msd"
   ]
  },
  {
   "cell_type": "code",
   "execution_count": 6,
   "metadata": {},
   "outputs": [
    {
     "name": "stdout",
     "output_type": "stream",
     "text": [
      "['SA19-1_20ns', 'SA19-2_100ns', 'SA19-3_20ns', 'SA19.5_100ns', 'SA19.5-2_20ns', 'SA19.5-3_20ns', 'SA20_20ns', 'SA20-2_20ns', 'SA20-3_100ns', 'SA21_100ns', 'SA21-2_20ns', 'SA21-3_20ns', 'SA22_20ns', 'SA22-2_20ns', 'SA22-3_100ns', 'SA24_20ns', 'SA24-2_20ns', 'SA24-3_100ns']\n",
      "['step9_1', 'step9_2', 'step9_3', 'step9_4', 'step9_5', 'step9_6', 'step9_7', 'step9_8', 'step9_9', 'step9_10', 'step9_11', 'step9_12', 'step9_13', 'step9_14', 'step9_15', 'step9_16', 'step9_17', 'step9_18', 'step9_19', 'step9_20']\n"
     ]
    }
   ],
   "source": [
    "print(gmx_surface_areas)\n",
    "print(gmx_filenames)\n",
    "#with open(filedir_g+'MSD_script_gmx.sh') as script:   "
   ]
  },
  {
   "cell_type": "code",
   "execution_count": 13,
   "metadata": {
    "collapsed": true
   },
   "outputs": [],
   "source": [
    "with open(filedir_g+'MSD_script_gmx.sh','w') as script:\n",
    "    script.write('#!/bin/bash\\n')\n",
    "    for a in gmx_surface_areas:\n",
    "        #script.write('cp /gpfs/amarolab/monolayers/MIX1_NaCl0.4/new.ndx '+filedir_g+a+'/\\n')\n",
    "        for f in gmx_filenames:\n",
    "            fpath = filedir_g+a+'/'+f\n",
    "            script.write('echo 0 | gmx msd -f '+fpath+'.trr -s '+fpath+'.tpr -o '+fpath+'_msd.xvg\\n')\n",
    "#this will take a WHILE to run BELIEVE ME"
   ]
  },
  {
   "cell_type": "code",
   "execution_count": null,
   "metadata": {
    "collapsed": true
   },
   "outputs": [],
   "source": [
    "surface_areas = ['SA19', 'SA19.5', 'SA20']\n",
    "dif_names = []\n",
    "for i in range(0, 41):\n",
    "    \n",
    "with open(filedir_g+'MSD_3ns_reps.sh', 'w') as script:\n",
    "    for a in surface_areas:\n",
    "        fpath = filedir_g+a+'_dif/'+\n",
    "        script.write()"
   ]
  },
  {
   "cell_type": "code",
   "execution_count": 36,
   "metadata": {},
   "outputs": [
    {
     "data": {
      "text/plain": [
       "<matplotlib.collections.PathCollection at 0x2b5ae70b70d0>"
      ]
     },
     "execution_count": 36,
     "metadata": {},
     "output_type": "execute_result"
    },
    {
     "data": {
      "image/png": "[encoded data removed]",
      "text/plain": [
       "<matplotlib.figure.Figure at 0x2b5ae707a710>"
      ]
     },
     "metadata": {},
     "output_type": "display_data"
    }
   ],
   "source": [
    "plt.scatter(0,1, marker='s', s=500, c='#000000')\n",
    "plt.scatter(0,2, marker='s', s=500, c='#D55E00')\n",
    "plt.scatter(1,2, marker='s', s=500, c='#CC79A7')\n",
    "plt.scatter(1,0, marker='s', s=500, c='#F03442')\n",
    "plt.scatter(2,1, marker='s', s=500, c='#0072B2')"
   ]
  },
  {
   "cell_type": "code",
   "execution_count": 47,
   "metadata": {},
   "outputs": [
    {
     "data": {
      "image/png": "[encoded data removed]",
      "text/plain": [
       "<matplotlib.figure.Figure at 0x2b5ae7507750>"
      ]
     },
     "metadata": {},
     "output_type": "display_data"
    }
   ],
   "source": [
    "#black = '#000000'\n",
    "yellow = '#F0F442'\n",
    "orange = '#ec7f31'\n",
    "gold = '#E69F00'\n",
    "green = '#009E73'\n",
    "dblue = '#0072B2'\n",
    "lblue = '#56B4E9'\n",
    "pink = '#F6BBCA'\n",
    "red = '#FF3442'\n",
    "purple = '#4f0069'\n",
    "lgreen = '#00ff99'\n",
    "\n",
    "colorpalette = [purple, red, orange, gold, yellow, green, lgreen, dblue, lblue, pink]\n",
    "for i,co in enumerate(colorpalette):\n",
    "    plt.scatter(i, 0, marker='s', s=500, c=co)"
   ]
  },
  {
   "cell_type": "code",
   "execution_count": 48,
   "metadata": {},
   "outputs": [
    {
     "name": "stdout",
     "output_type": "stream",
     "text": [
      "<mdtraj.Trajectory with 3002 frames, 9386 atoms, 190 residues, and unitcells>\n",
      "(3002, 9386)\n"
     ]
    }
   ],
   "source": [
    "trajectory = lipidTrajArray[0][0]\n",
    "sasa = md.shrake_rupley(trajectory)\n",
    "print(trajectory)\n",
    "print(sasa.shape)"
   ]
  },
  {
   "cell_type": "code",
   "execution_count": 56,
   "metadata": {},
   "outputs": [
    {
     "name": "stdout",
     "output_type": "stream",
     "text": [
      "[ 746.54058838  748.63696289  735.0300293  ...,  196.87794495  195.16583252\n",
      "  192.39407349]\n",
      "3002\n",
      "3002\n"
     ]
    },
    {
     "data": {
      "text/plain": [
       "[<matplotlib.lines.Line2D at 0x2b5aee4cc210>]"
      ]
     },
     "execution_count": 56,
     "metadata": {},
     "output_type": "execute_result"
    },
    {
     "data": {
      "image/png": "[encoded data removed]",
      "text/plain": [
       "<matplotlib.figure.Figure at 0x2b5aee3488d0>"
      ]
     },
     "metadata": {},
     "output_type": "display_data"
    }
   ],
   "source": [
    "total_sasa = sasa.sum(axis=1)\n",
    "print(total_sasa)\n",
    "print(len(np.arange(0, 6003, 2)))\n",
    "print(len(total_sasa))\n",
    "plt.plot(np.arange(0, 6003, 2), total_sasa)"
   ]
  },
  {
   "cell_type": "code",
   "execution_count": 1,
   "metadata": {},
   "outputs": [
    {
     "ename": "NameError",
     "evalue": "name 'sasa' is not defined",
     "output_type": "error",
     "traceback": [
      "\u001b[0;31m---------------------------------------------------------------------------\u001b[0m",
      "\u001b[0;31mNameError\u001b[0m                                 Traceback (most recent call last)",
      "\u001b[0;32m<ipython-input-1-0409f4a5aece>\u001b[0m in \u001b[0;36m<module>\u001b[0;34m()\u001b[0m\n\u001b[0;32m----> 1\u001b[0;31m \u001b[0;32mprint\u001b[0m\u001b[0;34m(\u001b[0m\u001b[0msasa\u001b[0m\u001b[0;34m[\u001b[0m\u001b[0;36m0\u001b[0m\u001b[0;34m]\u001b[0m\u001b[0;34m)\u001b[0m\u001b[0;34m\u001b[0m\u001b[0m\n\u001b[0m\u001b[1;32m      2\u001b[0m \u001b[0;32mprint\u001b[0m\u001b[0;34m(\u001b[0m\u001b[0mlen\u001b[0m\u001b[0;34m(\u001b[0m\u001b[0msasa\u001b[0m\u001b[0;34m[\u001b[0m\u001b[0;36m0\u001b[0m\u001b[0;34m]\u001b[0m\u001b[0;34m)\u001b[0m\u001b[0;34m)\u001b[0m\u001b[0;34m\u001b[0m\u001b[0m\n",
      "\u001b[0;31mNameError\u001b[0m: name 'sasa' is not defined"
     ]
    }
   ],
   "source": [
    "print(sasa[0])\n",
    "print(len(sasa[0]))"
   ]
  },
  {
   "cell_type": "code",
   "execution_count": null,
   "metadata": {
    "collapsed": true
   },
   "outputs": [],
   "source": []
  }
 ],
 "metadata": {
  "kernelspec": {
   "display_name": "Python 2",
   "language": "python",
   "name": "python2"
  }
 },
 "nbformat": 4,
 "nbformat_minor": 2
}
