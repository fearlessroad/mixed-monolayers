{
 "cells": [
  {
   "cell_type": "code",
   "execution_count": 1,
   "metadata": {},
   "outputs": [],
   "source": [
    "import numpy as np\n",
    "import mdtraj as md\n",
    "import matplotlib.pyplot as plt\n",
    "%matplotlib inline \n",
    "import nglview as nv\n",
    "#new stuff 7/9 for automating process\n",
    "import os\n",
    "import os.path\n",
    "from pathlib2 import Path\n",
    "import matplotlib.pylab as pylab\n",
    "params = {'legend.fontsize': 'x-large',\n",
    "          'figure.figsize': (15, 5),\n",
    "         'axes.labelsize': 'x-large',\n",
    "         'axes.titlesize':'x-large',\n",
    "         'xtick.labelsize':'x-large',\n",
    "         'ytick.labelsize':'x-large',\n",
    "         'font.weight':'medium', \n",
    "         'xtick.major.size':8,\n",
    "         'ytick.major.size':8}\n",
    "pylab.rcParams.update(params)"
   ]
  },
  {
   "cell_type": "code",
   "execution_count": 2,
   "metadata": {},
   "outputs": [],
   "source": [
    "bl = '#0000ff'\n",
    "pu = '#8c1aff'\n",
    "bg = '#00cc66'\n",
    "cy = '#00ccff'\n",
    "pi = '#ff66ff'\n",
    "re = '#990033'\n",
    "ora = '#ff704d'\n",
    "ye = '#ffff66'\n",
    "gr = '#99ff99'\n",
    "pal = [bl, pu, bg, cy, pi, re, ora, ye, gr]"
   ]
  },
  {
   "cell_type": "code",
   "execution_count": 3,
   "metadata": {},
   "outputs": [],
   "source": [
    "###SA20 SASA"
   ]
  },
  {
   "cell_type": "code",
   "execution_count": 4,
   "metadata": {},
   "outputs": [],
   "source": [
    "traj = md.load('/gpfs/amarolab/monolayers/MIX1_NaCl0.4_GMX/SA20-3_100ns/concat.trr',top='/gpfs/amarolab/monolayers/MIX1_NaCl0.4_GMX/SA20-3_100ns/step9_1.gro' )"
   ]
  },
  {
   "cell_type": "code",
   "execution_count": 7,
   "metadata": {},
   "outputs": [
    {
     "name": "stdout",
     "output_type": "stream",
     "text": [
      "<mdtraj.Trajectory with 50 frames, 17784 atoms, 360 residues, and unitcells>\n"
     ]
    }
   ],
   "source": [
    "ntraj = traj[-51:-1]\n",
    "lipids = ntraj.top.select('resname LAUP or resname PALP or resname STEP or resname MYRP')\n",
    "newtraj = ntraj.atom_slice(lipids)\n",
    "print(newtraj)\n",
    "#view = nv.show_mdtraj(ntraj)\n",
    "#view"
   ]
  },
  {
   "cell_type": "code",
   "execution_count": 9,
   "metadata": {},
   "outputs": [],
   "source": [
    "#nsasa = md.shrake_rupley(newtraj, mode='residue')\n",
    "#plt.plot(newtraj.time, nsasa.sum(axis=1))"
   ]
  },
  {
   "cell_type": "code",
   "execution_count": null,
   "metadata": {
    "collapsed": true
   },
   "outputs": [],
   "source": []
  }
 ],
 "metadata": {
  "kernelspec": {
   "display_name": "Python 2",
   "language": "python",
   "name": "python2"
  },
  "language_info": {
   "codemirror_mode": {
    "name": "ipython",
    "version": 2
   },
   "file_extension": ".py",
   "mimetype": "text/x-python",
   "name": "python",
   "nbconvert_exporter": "python",
   "pygments_lexer": "ipython2",
   "version": "2.7.14"
  }
 },
 "nbformat": 4,
 "nbformat_minor": 2
}
