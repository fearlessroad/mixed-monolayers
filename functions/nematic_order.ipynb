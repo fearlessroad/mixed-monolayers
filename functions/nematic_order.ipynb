{
 "cells": [
  {
   "cell_type": "code",
   "execution_count": 1,
   "metadata": {
    "collapsed": true
   },
   "outputs": [],
   "source": [
    "import mdtraj as md\n",
    "import numpy as np\n",
    "import matplotlib.pyplot as plt\n",
    "import csv\n",
    "import xlrd\n",
    "import os\n",
    "import os.path\n",
    "from pathlib2 import Path\n",
    "from decimal import *\n",
    "%matplotlib inline"
   ]
  },
  {
   "cell_type": "markdown",
   "metadata": {
    "collapsed": true
   },
   "source": [
    "## import namd & gmx data"
   ]
  },
  {
   "cell_type": "code",
   "execution_count": 7,
   "metadata": {},
   "outputs": [
    {
     "name": "stdout",
     "output_type": "stream",
     "text": [
      "[['/gpfs/amarolab/monolayers/MIX1_NaCl0.4_GMX/SA19-1_20ns/step9_1'], ['/gpfs/amarolab/monolayers/MIX1_NaCl0.4_GMX/SA19-2_100ns/step9_1', '/gpfs/amarolab/monolayers/MIX1_NaCl0.4_GMX/SA19-2_100ns/step9_2', '/gpfs/amarolab/monolayers/MIX1_NaCl0.4_GMX/SA19-2_100ns/step9_3', '/gpfs/amarolab/monolayers/MIX1_NaCl0.4_GMX/SA19-2_100ns/step9_4', '/gpfs/amarolab/monolayers/MIX1_NaCl0.4_GMX/SA19-2_100ns/step9_5', '/gpfs/amarolab/monolayers/MIX1_NaCl0.4_GMX/SA19-2_100ns/step9_6', '/gpfs/amarolab/monolayers/MIX1_NaCl0.4_GMX/SA19-2_100ns/step9_7', '/gpfs/amarolab/monolayers/MIX1_NaCl0.4_GMX/SA19-2_100ns/step9_8', '/gpfs/amarolab/monolayers/MIX1_NaCl0.4_GMX/SA19-2_100ns/step9_9', '/gpfs/amarolab/monolayers/MIX1_NaCl0.4_GMX/SA19-2_100ns/step9_10', '/gpfs/amarolab/monolayers/MIX1_NaCl0.4_GMX/SA19-2_100ns/step9_11', '/gpfs/amarolab/monolayers/MIX1_NaCl0.4_GMX/SA19-2_100ns/step9_12', '/gpfs/amarolab/monolayers/MIX1_NaCl0.4_GMX/SA19-2_100ns/step9_13', '/gpfs/amarolab/monolayers/MIX1_NaCl0.4_GMX/SA19-2_100ns/step9_14', '/gpfs/amarolab/monolayers/MIX1_NaCl0.4_GMX/SA19-2_100ns/step9_15', '/gpfs/amarolab/monolayers/MIX1_NaCl0.4_GMX/SA19-2_100ns/step9_16', '/gpfs/amarolab/monolayers/MIX1_NaCl0.4_GMX/SA19-2_100ns/step9_17', '/gpfs/amarolab/monolayers/MIX1_NaCl0.4_GMX/SA19-2_100ns/step9_18', '/gpfs/amarolab/monolayers/MIX1_NaCl0.4_GMX/SA19-2_100ns/step9_19', '/gpfs/amarolab/monolayers/MIX1_NaCl0.4_GMX/SA19-2_100ns/step9_20'], ['/gpfs/amarolab/monolayers/MIX1_NaCl0.4_GMX/SA19-3_20ns/step9_1'], ['/gpfs/amarolab/monolayers/MIX1_NaCl0.4_GMX/SA19.5_100ns/step9_1', '/gpfs/amarolab/monolayers/MIX1_NaCl0.4_GMX/SA19.5_100ns/step9_2', '/gpfs/amarolab/monolayers/MIX1_NaCl0.4_GMX/SA19.5_100ns/step9_3', '/gpfs/amarolab/monolayers/MIX1_NaCl0.4_GMX/SA19.5_100ns/step9_4', '/gpfs/amarolab/monolayers/MIX1_NaCl0.4_GMX/SA19.5_100ns/step9_5'], ['/gpfs/amarolab/monolayers/MIX1_NaCl0.4_GMX/SA19.5-2_20ns/step9_1'], ['/gpfs/amarolab/monolayers/MIX1_NaCl0.4_GMX/SA19.5-3_20ns/step9_1'], ['/gpfs/amarolab/monolayers/MIX1_NaCl0.4_GMX/SA20_20ns/step9_1', '/gpfs/amarolab/monolayers/MIX1_NaCl0.4_GMX/SA20_20ns/step9_2'], ['/gpfs/amarolab/monolayers/MIX1_NaCl0.4_GMX/SA20-2_20ns/step9_1'], ['/gpfs/amarolab/monolayers/MIX1_NaCl0.4_GMX/SA20-3_100ns/step9_1', '/gpfs/amarolab/monolayers/MIX1_NaCl0.4_GMX/SA20-3_100ns/step9_2'], ['/gpfs/amarolab/monolayers/MIX1_NaCl0.4_GMX/SA21_100ns/step9_1', '/gpfs/amarolab/monolayers/MIX1_NaCl0.4_GMX/SA21_100ns/step9_2', '/gpfs/amarolab/monolayers/MIX1_NaCl0.4_GMX/SA21_100ns/step9_3', '/gpfs/amarolab/monolayers/MIX1_NaCl0.4_GMX/SA21_100ns/step9_4'], ['/gpfs/amarolab/monolayers/MIX1_NaCl0.4_GMX/SA21-2_20ns/step9_1'], ['/gpfs/amarolab/monolayers/MIX1_NaCl0.4_GMX/SA21-3_20ns/step9_1'], ['/gpfs/amarolab/monolayers/MIX1_NaCl0.4_GMX/SA22_20ns/step9_1'], ['/gpfs/amarolab/monolayers/MIX1_NaCl0.4_GMX/SA22-2_20ns/step9_1'], ['/gpfs/amarolab/monolayers/MIX1_NaCl0.4_GMX/SA24_20ns/step9_1'], ['/gpfs/amarolab/monolayers/MIX1_NaCl0.4_GMX/SA24-2_20ns/step9_1']]\n"
     ]
    }
   ],
   "source": [
    "gmx_surface_areas = ['SA19-1_20ns', 'SA19-2_100ns', 'SA19-3_20ns',\n",
    "                 'SA19.5_100ns', 'SA19.5-2_20ns', 'SA19.5-3_20ns',\n",
    "                 'SA20_20ns', 'SA20-2_20ns', 'SA20-3_100ns',\n",
    "                 'SA21_100ns', 'SA21-2_20ns', 'SA21-3_20ns', \n",
    "                 'SA22_20ns', 'SA22-2_20ns', 'SA22-3_100ns', \n",
    "                 'SA24_20ns', 'SA24-2_20ns', 'SA24-3_100ns']\n",
    "namd_surface_areas = ['SA19','SA19-2', 'SA19-3', \n",
    "                   'SA19.5','SA19.5-2', 'SA19.5-3',\n",
    "                   'SA20','SA20-2', 'SA20-3',\n",
    "                   'SA20.5', 'SA20.5-2', 'SA20.5-3',\n",
    "                   'SA21','SA21-2', 'SA21-3',\n",
    "                   'SA22','SA22-2', 'SA22-3',\n",
    "                   'SA23','SA23-2', 'SA23-3',\n",
    "                   'SA24', 'SA24-2', 'SA24-3']\n",
    "namd_filenames = ['step7.1', 'step7.2', 'step7.21', 'step7.3', 'step7.31', 'step7.32', 'step7.33', 'step7.34',\n",
    "               'step7.35','step7.4', 'step7.41', 'step7.42', 'step7.43', 'step7.44', 'step7.45']\n",
    "gmx_filenames = []\n",
    "for g in range(1,21):\n",
    "    gmx_filenames.append('step9_'+str(g))\n",
    "filedir_g = '/gpfs/amarolab/monolayers/MIX1_NaCl0.4_GMX/'\n",
    "filedir_n = '/gpfs/amarolab/abbyflabby/MIX/MIX1234_NaCl0.4_NAMD/'\n",
    "logfiles_n = []\n",
    "logfiles_g = []\n",
    "trr_files = []\n",
    "dcd_files = []\n",
    "\n",
    "for area in namd_surface_areas:\n",
    "    logchunk = []\n",
    "    dcdchunk = []\n",
    "    for i in namd_filenames:\n",
    "        log = Path(filedir_n+area+'/charmm-gui/namd/'+i+'_production.log')\n",
    "        dcd = Path(filedir_n+area+'/charmm-gui/namd/'+i+'_production.dcd')\n",
    "        if log.exists():\n",
    "            logchunk.append(filedir_n+area+'/charmm-gui/namd/'+i+'_production.log')\n",
    "        if dcd.exists():\n",
    "            dcdchunk.append(filedir_n+area+'/charmm-gui/namd/'+i+'_production.dcd')\n",
    "    if len(logchunk)>0:\n",
    "        logfiles_n.append(logchunk)\n",
    "        dcd_files.append(dcdchunk)\n",
    "#xvgfiles = [] #list of xvg filenames\n",
    "pres = []\n",
    "times = []\n",
    "areas = []\n",
    "trr_files = []\n",
    "#for narea in n_surface_areas:\n",
    "#    logchunk = []\n",
    "    \n",
    "for area in gmx_surface_areas:\n",
    "    xvgchunk = []\n",
    "    trajchunk = []\n",
    "    for i in range(1, 21):\n",
    "        xvg = Path(filedir_g+area+'/step9_'+str(i)+'.xvg')\n",
    "        traj = Path(filedir_g+area+'/step9_'+str(i)+'.trr')\n",
    "        if xvg.exists():\n",
    "            xvgchunk.append(filedir_g+area+'/step9_'+str(i)+'.xvg')\n",
    "        if traj.exists():\n",
    "            trajchunk.append(filedir_g+area+'/step9_'+str(i))\n",
    "    #print(xvgchunk)\n",
    "    for p, x in enumerate(xvgchunk):\n",
    "        if p == 0:\n",
    "            #arr = np.array(timesteps)\n",
    "            #timesteps in nanoseconds\n",
    "            timesteps = np.genfromtxt(x, dtype='float', skip_header=24)[:,0]/1000\n",
    "            #np.append(timesteps, new_ts)\n",
    "            pressures = np.genfromtxt(x, dtype='float', skip_header=24)[:,1]/20\n",
    "            #np.append(pressures, new_pr)\n",
    "            #print(pressures)\n",
    "        else:\n",
    "            time = np.genfromtxt(x,dtype='float', skip_header=24)[:,0]/1000\n",
    "            #print(time)\n",
    "            timesteps = np.append(timesteps, time)\n",
    "      #      #print(time)\n",
    "      #      #t = time.tolist()\n",
    "      #      timesteps.append(time)\n",
    "      #      print(timesteps)\n",
    "            pr = np.genfromtxt(x, dtype='float', skip_header=24)[:,1]/20\n",
    "            pressures = np.append(pressures, pr)\n",
    "    if len(xvgchunk)>0:\n",
    "        pres.append(70.5-np.array(pressures))\n",
    "        times.append(timesteps)\n",
    "        areas.append(area)\n",
    "        logfiles_g.append(xvgchunk)\n",
    "        trr_files.append(trajchunk)\n",
    "#print(len(xvgfiles))\n",
    "#print(xvgfiles)\n",
    "#print(len(times[1]))\n",
    "#print(times[1][-1])\n",
    "#print(len(pres[1]))\n",
    "#print(len(times))\n",
    "#print(areas)\n",
    "print(trr_files)"
   ]
  },
  {
   "cell_type": "markdown",
   "metadata": {},
   "source": [
    "## strip trajectories of water"
   ]
  },
  {
   "cell_type": "code",
   "execution_count": null,
   "metadata": {},
   "outputs": [],
   "source": [
    "def genStripScript():\n",
    "    with open(filedir_g+'/strip_script.sh', 'w') as file:\n",
    "        for count, area in enumerate(areas):\n",
    "            for step, t in enumerate(trr_files[count]):\n",
    "                file.write('gmx trjconv -f '+filedir_g+area+'/step9_'+str(step+1)+'.trr -o '+filedir_g+area+'/step9_'+str(step+1)+'_stripped.xtc -s '+filedir_g+area+'/step9_'+str(step+1)+'.tpr\\n')\n",
    "#genStripScript()"
   ]
  },
  {
   "cell_type": "code",
   "execution_count": null,
   "metadata": {},
   "outputs": [],
   "source": [
    "genStripScript()"
   ]
  },
  {
   "cell_type": "markdown",
   "metadata": {},
   "source": [
    "## load gmx trajectories"
   ]
  },
  {
   "cell_type": "code",
   "execution_count": 12,
   "metadata": {},
   "outputs": [
    {
     "name": "stdout",
     "output_type": "stream",
     "text": [
      "16\n"
     ]
    }
   ],
   "source": [
    "gmx_traj = []\n",
    "namd_traj = []\n",
    "xtcs = []\n",
    "for trr in trr_files:\n",
    "    #print(trr_files)\n",
    "    chunk = []\n",
    "    for t in trr:\n",
    "        chunk.append(t+'_stripped.xtc')\n",
    "    xtcs.append(chunk)\n",
    "#print(xtcs)\n",
    "print(len(xtcs))\n",
    "#print(xtcs)\n",
    "#traj1 = md.load(trr_files[0], top=filedir_g+areas[0]+'/step9_1.gro')\n",
    "#for i,g in enumerate(xtcs):\n",
    "    #traj = md.load(g, top=filedir_g+areas[i]+'/step9_1.gro')\n",
    "    #gmx_traj.append(traj)#\n",
    "#print(gmx_traj)"
   ]
  },
  {
   "cell_type": "code",
   "execution_count": 14,
   "metadata": {},
   "outputs": [
    {
     "name": "stdout",
     "output_type": "stream",
     "text": [
      "/gpfs/amarolab/monolayers/MIX1_NaCl0.4_GMX/SA19-1_20ns/step9_1_stripped.pdb\n",
      "/gpfs/amarolab/monolayers/MIX1_NaCl0.4_GMX/SA19-2_100ns/step9_1_stripped.pdb\n",
      "/gpfs/amarolab/monolayers/MIX1_NaCl0.4_GMX/SA19-3_20ns/step9_1_stripped.pdb\n",
      "/gpfs/amarolab/monolayers/MIX1_NaCl0.4_GMX/SA19.5_100ns/step9_1_stripped.pdb\n",
      "/gpfs/amarolab/monolayers/MIX1_NaCl0.4_GMX/SA19.5-2_20ns/step9_1_stripped.pdb\n",
      "/gpfs/amarolab/monolayers/MIX1_NaCl0.4_GMX/SA19.5-3_20ns/step9_1_stripped.pdb\n",
      "/gpfs/amarolab/monolayers/MIX1_NaCl0.4_GMX/SA20_20ns/step9_1_stripped.pdb\n",
      "/gpfs/amarolab/monolayers/MIX1_NaCl0.4_GMX/SA20-2_20ns/step9_1_stripped.pdb\n",
      "/gpfs/amarolab/monolayers/MIX1_NaCl0.4_GMX/SA20-3_100ns/step9_1_stripped.pdb\n",
      "/gpfs/amarolab/monolayers/MIX1_NaCl0.4_GMX/SA21_100ns/step9_1_stripped.pdb\n",
      "/gpfs/amarolab/monolayers/MIX1_NaCl0.4_GMX/SA21-2_20ns/step9_1_stripped.pdb\n",
      "/gpfs/amarolab/monolayers/MIX1_NaCl0.4_GMX/SA21-3_20ns/step9_1_stripped.pdb\n",
      "/gpfs/amarolab/monolayers/MIX1_NaCl0.4_GMX/SA22_20ns/step9_1_stripped.pdb\n",
      "/gpfs/amarolab/monolayers/MIX1_NaCl0.4_GMX/SA22-2_20ns/step9_1_stripped.pdb\n",
      "/gpfs/amarolab/monolayers/MIX1_NaCl0.4_GMX/SA24_20ns/step9_1_stripped.pdb\n",
      "/gpfs/amarolab/monolayers/MIX1_NaCl0.4_GMX/SA24-2_20ns/step9_1_stripped.pdb\n",
      "[<mdtraj.Trajectory with 2001 frames, 18872 atoms, 480 residues, and unitcells at 0x2b90c9f8ee10>, <mdtraj.Trajectory with 24520 frames, 18872 atoms, 480 residues, and unitcells at 0x2b90c9e68c18>, <mdtraj.Trajectory with 2001 frames, 18872 atoms, 480 residues, and unitcells at 0x2b9131224e10>, <mdtraj.Trajectory with 10005 frames, 18876 atoms, 484 residues, and unitcells at 0x2b913150c588>, <mdtraj.Trajectory with 2001 frames, 18876 atoms, 484 residues, and unitcells at 0x2b9198fedda0>, <mdtraj.Trajectory with 2001 frames, 18876 atoms, 484 residues, and unitcells at 0x2b9199155dd8>, <mdtraj.Trajectory with 3002 frames, 17886 atoms, 462 residues, and unitcells at 0x2b9132434ac8>, <mdtraj.Trajectory with 2001 frames, 17886 atoms, 462 residues, and unitcells at 0x2b9132980eb8>, <mdtraj.Trajectory with 10002 frames, 17886 atoms, 462 residues, and unitcells at 0x2b9132ed2a58>, <mdtraj.Trajectory with 11004 frames, 17892 atoms, 468 residues, and unitcells at 0x2b9132961b70>, <mdtraj.Trajectory with 2001 frames, 17892 atoms, 468 residues, and unitcells at 0x2b9133423a90>, <mdtraj.Trajectory with 2001 frames, 17892 atoms, 468 residues, and unitcells at 0x2b9134087e10>, <mdtraj.Trajectory with 2001 frames, 16902 atoms, 446 residues, and unitcells at 0x2b91344c5e48>, <mdtraj.Trajectory with 2001 frames, 16902 atoms, 446 residues, and unitcells at 0x2b91349cbe80>, <mdtraj.Trajectory with 2001 frames, 14924 atoms, 404 residues, and unitcells at 0x2b913320ffd0>, <mdtraj.Trajectory with 2001 frames, 14924 atoms, 404 residues, and unitcells at 0x2b913511ef60>]\n"
     ]
    }
   ],
   "source": [
    "ct = 0 \n",
    "for x in xtcs:\n",
    "    chunk = []\n",
    "    #print(x)\n",
    "    print(filedir_g+areas[ct]+'/step9_1_stripped.pdb')\n",
    "    traj = md.load(x, top=filedir_g+areas[ct]+'/step9_1_stripped.pdb')\n",
    "    #chunk.append(traj)\n",
    "    gmx_traj.append(traj)\n",
    "    ct+=1\n",
    "print(gmx_traj)"
   ]
  },
  {
   "cell_type": "markdown",
   "metadata": {},
   "source": [
    "## obtain trajectories for upper and lower leaflets"
   ]
  },
  {
   "cell_type": "code",
   "execution_count": null,
   "metadata": {
    "collapsed": true
   },
   "outputs": [],
   "source": [
    "count = 0\n",
    "lipidTrajArray = []\n",
    "lipids = []\n",
    "ptTrajArray = []\n",
    "for traj in gmx_traj:\n",
    "    #traj = md.load(dcds[count], top=filedir1+\"SA\"+i+\"/charmm-gui/step5_assembly.xplor_ext.psf\")\n",
    "    #traj = md.load(dcds[count], top=filedir1+\"SA\"+i+\"/charmm-gui/gromacs/Trial1-100/step9_1.gro\")\n",
    "    #pttraj = pt.load(dcds[count], filedir1+\"SA\"+i+\"/charmm-gui/gromacs/Trial1-100/step9_1.gro\")\n",
    "    lipidSelection = traj.topology.select('resname PALP or resname LAUP or resname STEP or resname MYRP')\n",
    "    lipidTraj = traj.atom_slice(lipidSelection).center_coordinates()\n",
    "    lipids.append(lipidTraj)\n",
    "    C1selection = lipidTraj.topology.select('name C1')\n",
    "    C1Traj = lipidTraj.atom_slice(C1selection)\n",
    "    coords = C1Traj.xyz\n",
    "    finalCoords = coords[len(coords)-1]\n",
    "    upper_indices = ''\n",
    "    lower_indices = ''\n",
    "    count2 = 1\n",
    "    for x, y, z in finalCoords: #for each C1\n",
    "        if z > 0:\n",
    "            if len(upper_indices) == 0:\n",
    "                upper_indices += ('residue '+str(count2))\n",
    "            else:\n",
    "                upper_indices+=(' or residue '+ str(count2))\n",
    "        else:\n",
    "            if len(lower_indices) == 0:\n",
    "                lower_indices+=('residue '+str(count2))\n",
    "            else:\n",
    "                lower_indices+=(' or residue '+str(count2))\n",
    "        count2 +=1\n",
    "    #print(upper_indices)\n",
    "    upperLeafSelection = lipidTraj.topology.select(upper_indices)\n",
    "    upperLeafTraj = lipidTraj.atom_slice(upperLeafSelection)\n",
    "    lowerLeafSelection = lipidTraj.topology.select(lower_indices)\n",
    "    lowerLeafTraj = lipidTraj.atom_slice(lowerLeafSelection)\n",
    "    lipidTrajArray.append([upperLeafTraj, lowerLeafTraj])\n",
    "    #ptTrajArray.append(pttraj)\n",
    "    count +=1\n",
    "print(lipidTrajArray)\n",
    "print(lipids)"
   ]
  },
  {
   "cell_type": "markdown",
   "metadata": {},
   "source": [
    "## Nematic Order parameter calculation"
   ]
  },
  {
   "cell_type": "code",
   "execution_count": null,
   "metadata": {},
   "outputs": [],
   "source": [
    "## need to create an array of arrays with the indices of EACH atom in each residue\n",
    "##[[atom indices for res#1], [atom indices for res#2]] ...etc\n",
    "nemData = []\n",
    "count = 0\n",
    "#surface_areas = [\"19\"]\n",
    "for ct, area in enumerate(areas):\n",
    "    nemOrderIdx = []\n",
    "    resID = []\n",
    "    chunk = []\n",
    "    #t_all = md.load(dcds[count], top=filedir1+\"SA\"+area+\"/charmm-gui/step5_assembly.xplor_ext.psf\")\n",
    "    #t_all = md.load(trajfiles[count], top=filedir+area+\"/step9_1.gro\")\n",
    "    upper_pdb = lipidTrajArray[ct][0][-1].save_pdb(filedir_g+area+'/upper_PDB.pdb')\n",
    "    lower_pdb = lipidTrajArray[ct][1][-1].save_pdb(filedir_g+area+'/lower_PDB.pdb')\n",
    "    #lip = t_all.topology.select('resname LAUP or resname MYRP or resname PALP or resname STEP')\n",
    "    #t = t_all.atom_slice(lip)\n",
    "    pu = md.load_pdb(filedir_g+area+'/upper_PDB.pdb')\n",
    "    pl = md.load_pdb(filedir_g+area+'/lower_PDB.pdb')\n",
    "    #p = md.load_pdb(filedir1+\"/SA19_last_rm.pdb\")\n",
    "    for leaflet in [pu, pl]\n",
    "        resNum =pu.n_residues \n",
    "        lines = open('PDB.pdb', \"r\")\n",
    "        #lines = open(filedir1+\"/SA19_last_rm.pdb\", \"r\")\n",
    "        for line in lines:\n",
    "            if line[0] == \"A\":\n",
    "                #print(line[6:11]) #atom index\n",
    "                #print(line[23:26])##residue sequence number\n",
    "                resIDCur = line[23:26]\n",
    "                #print(resIDCur)\n",
    "                resID.append(resIDCur)\n",
    "                atomIdx = int(line[6:11].replace(\" \", \"\"))\n",
    "                #print(atomIdx)\n",
    "                if len(resID) > 1:\n",
    "                    if len(resID) == resNum - 1:\n",
    "                        chunk.append(atomIdx)\n",
    "                        nemOrderIdx.append(chunk)\n",
    "                    #print(resID[-1])\n",
    "                    #print(resID[-2])\n",
    "                    #print('END')\n",
    "                    elif resID[-1] == resID[-2]: #if the last thing added to the resID guy is the same \n",
    "                    #as the previous guy added, then there has been no change in the residue, so we should keep \n",
    "                    #adding indices to chunk\n",
    "                        #print('here')\n",
    "                        chunk.append(atomIdx)\n",
    "                        #print(chunk)\n",
    "                    #else, we need to append the chunk to the nematic order index and start a new chunk\n",
    "                    else:\n",
    "                        nemOrderIdx.append(chunk)\n",
    "                        chunk = []\n",
    "                        chunk.append(atomIdx)\n",
    "                    #if resSeqCur != resSeq: \n",
    "                    #    nemOrderIdx.append(chunk)\n",
    "                    #else:\n",
    "                    #    chunk.append(atomIdx)\n",
    "                else:\n",
    "                    chunk.append(atomIdx)\n",
    "        s = md.compute_nematic_order(t, indices = nemOrderIdx)\n",
    "    nemData.append(s)\n",
    "    count+=1"
   ]
  },
  {
   "cell_type": "code",
   "execution_count": null,
   "metadata": {
    "collapsed": true
   },
   "outputs": [],
   "source": []
  }
 ],
 "metadata": {
  "kernelspec": {
   "display_name": "Python 3",
   "language": "python",
   "name": "python3"
  },
  "language_info": {
   "codemirror_mode": {
    "name": "ipython",
    "version": 3
   },
   "file_extension": ".py",
   "mimetype": "text/x-python",
   "name": "python",
   "nbconvert_exporter": "python",
   "pygments_lexer": "ipython3",
   "version": "3.6.1"
  }
 },
 "nbformat": 4,
 "nbformat_minor": 2
}
