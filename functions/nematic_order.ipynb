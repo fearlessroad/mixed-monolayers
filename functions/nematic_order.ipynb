{
 "cells": [
  {
   "cell_type": "code",
   "execution_count": 1,
   "metadata": {},
   "outputs": [],
   "source": [
    "import mdtraj as md\n",
    "import numpy as np\n",
    "import matplotlib.pyplot as plt\n",
    "import csv\n",
    "import xlrd\n",
    "import os\n",
    "import os.path\n",
    "from pathlib2 import Path\n",
    "from decimal import *\n",
    "%matplotlib inline\n",
    "import matplotlib.pylab as pylab\n",
    "params = {'legend.fontsize': 'x-large',\n",
    "          'figure.figsize': (15, 5),\n",
    "         'axes.labelsize': 'x-large',\n",
    "         'axes.titlesize':'x-large',\n",
    "         'xtick.labelsize':'x-large',\n",
    "         'ytick.labelsize':'x-large',\n",
    "         'font.weight':'medium', \n",
    "         'xtick.major.size':8,\n",
    "         'ytick.major.size':8}\n",
    "pylab.rcParams.update(params)"
   ]
  },
  {
   "cell_type": "code",
   "execution_count": 2,
   "metadata": {},
   "outputs": [],
   "source": [
    "filedir = '/gpfs/amarolab/monolayers/'"
   ]
  },
  {
   "cell_type": "code",
   "execution_count": null,
   "metadata": {},
   "outputs": [],
   "source": [
    "mix1_1 = md.load(filedir+'MIX1_NaCl0.4_GMX/SA20-3_100ns/concat.trr', top=filedir+'MIX1_NaCl0.4_GMX/SA20-3_100ns/step9_1.gro')\n",
    "print(mix1_1)\n",
    "#laup_1 = md.load(filedir+'LAUP_NaCl0.4_GMX/SA20-1_100ns/step9_1.trr', top=filedir+'LAUP_NaCl0.4_GMX/SA20-1_100ns/step9_1.gro')"
   ]
  },
  {
   "cell_type": "code",
   "execution_count": null,
   "metadata": {},
   "outputs": [],
   "source": [
    "mix1_2 = md.load(filedir+'MIX1_NaCl0.4_GMX/SA20_20ns/step9_1.trr', top=filedir+'MIX1_NaCl0.4_GMX/SA20_20ns/step9_1.gro')\n",
    "#laup_2 = md.load(['/gpfs/amarolab/abbyflabby/LAU/LAUP_NaCl0.4/SA20/charmm-gui/namd/step7.1_production.dcd', '/gpfs/amarolab/abbyflabby/LAU/LAUP_NaCl0.4/SA20/charmm-gui/namd/step7.2_production.dcd'], top='/gpfs/amarolab/abbyflabby/LAU/LAUP_NaCl0.4/SA20/charmm-gui/step5_assembly.xplor_ext.psf')\n",
    "print(mix1_2)\n",
    "#print(laup_2)"
   ]
  },
  {
   "cell_type": "code",
   "execution_count": null,
   "metadata": {},
   "outputs": [],
   "source": [
    "mix1_3 = md.load(filedir+'MIX1_NaCl0.4_GMX/SA20-2_20ns/step9_1.trr', top=filedir+'MIX1_NaCl0.4_GMX/SA20_20ns/step9_1.gro')"
   ]
  },
  {
   "cell_type": "code",
   "execution_count": null,
   "metadata": {},
   "outputs": [],
   "source": [
    "filedir1 = '/gpfs/amarolab/abbyflabby/'\n",
    "mix1_4 = md.load(filedir1+'MIX/MIX1234_NaCl0.4_NAMD/SA20/charmm-gui/namd/step7.1_production.dcd', top=filedir1+'MIX/MIX1234_NaCl0.4_NAMD/SA20/charmm-gui/step5_assembly.xplor_ext.psf')"
   ]
  },
  {
   "cell_type": "code",
   "execution_count": null,
   "metadata": {},
   "outputs": [],
   "source": [
    "dcds_mix1_5 = [filedir1+'MIX/MIX1234_NaCl0.4_NAMD/SA20-2/charmm-gui/namd/step7.2_production.dcd', filedir1+'MIX/MIX1234_NaCl0.4_NAMD/SA20-2/charmm-gui/namd/step7.3_production.inp.dcd', filedir1+'MIX/MIX1234_NaCl0.4_NAMD/SA20-2/charmm-gui/namd/step7.31_production.inp.dcd', filedir1+'MIX/MIX1234_NaCl0.4_NAMD/SA20-2/charmm-gui/namd/step7.32_production.inp.dcd', filedir1+'MIX/MIX1234_NaCl0.4_NAMD/SA20-2/charmm-gui/namd/step7.33_production.dcd']\n",
    "mix1_5 = md.load(dcds_mix1_5, top=filedir1+'MIX/MIX1234_NaCl0.4_NAMD/SA20/charmm-gui/step5_assembly.xplor_ext.psf')     \n"
   ]
  },
  {
   "cell_type": "code",
   "execution_count": null,
   "metadata": {},
   "outputs": [],
   "source": [
    "dcds_mix1_6 = [filedir1+'MIX/MIX1234_NaCl0.4_NAMD/SA20-3/charmm-gui/namd/step7.1_production.dcd', \n",
    "               filedir1+'MIX/MIX1234_NaCl0.4_NAMD/SA20-3/charmm-gui/namd/step7.2_production.dcd', \n",
    "               filedir1+'MIX/MIX1234_NaCl0.4_NAMD/SA20-3/charmm-gui/namd/step7.3_production.inp.dcd', \n",
    "               filedir1+'MIX/MIX1234_NaCl0.4_NAMD/SA20-3/charmm-gui/namd/step7.31_production.inp.dcd', \n",
    "               filedir1+'MIX/MIX1234_NaCl0.4_NAMD/SA20-3/charmm-gui/namd/step7.32_production.inp.dcd', \n",
    "               filedir1+'MIX/MIX1234_NaCl0.4_NAMD/SA20-3/charmm-gui/namd/step7.33_production.dcd',\n",
    "               filedir1+'MIX/MIX1234_NaCl0.4_NAMD/SA20-3/charmm-gui/namd/step7.34_production.dcd',\n",
    "               filedir1+'MIX/MIX1234_NaCl0.4_NAMD/SA20-3/charmm-gui/namd/step7.35_production.dcd']\n",
    "mix1_6 = md.load(dcds_mix1_5, top=filedir1+'MIX/MIX1234_NaCl0.4_NAMD/SA20-3/charmm-gui/step5_assembly.xplor_ext.psf') "
   ]
  },
  {
   "cell_type": "code",
   "execution_count": 9,
   "metadata": {},
   "outputs": [],
   "source": [
    "#def get_nematic_orders(traj):\n",
    "#    traj.center_coordinates()\n",
    "#    residues = [residue.index for residue in traj.top.residues if residue.name =='PALP' or residue.name == 'MYRP' or residue.name=='LAUP' or residue.name=='STEP']\n",
    "#    atoms = []\n",
    "#    for i in residues:\n",
    "#        atoms.append([atom.index for atom in traj.top.atoms if atom.residue.index == residues[i] and traj.xyz[0][atom.index][2]<0 and atom.element.symbol == 'C'])\n",
    "#    return(md.compute_nematic_order(traj, indices=atoms))\n",
    "#no6 = get_nematic_orders(mix1_6)\n",
    "#no7 = get_nematic_orders(mix1_5)\n",
    "#no8 = get_nematic_orders(mix1_4)\n",
    "#no9 = get_nematic_orders(mix1_3)\n",
    "#no10 = get_nematic_orders(mix1_2)\n",
    "#no11 = get_nematic_orders(mix1_1)"
   ]
  },
  {
   "cell_type": "code",
   "execution_count": 10,
   "metadata": {},
   "outputs": [],
   "source": [
    "#print(np.mean(no6))\n",
    "#print(np.mean(no7))\n",
    "#print(np.mean(no8))\n",
    "#print(np.mean(no9))\n",
    "#print(np.mean(no10))\n",
    "#print(np.mean(no11))"
   ]
  },
  {
   "cell_type": "code",
   "execution_count": 5,
   "metadata": {},
   "outputs": [],
   "source": [
    "def get_nematic_orders_upper_chains(traj):\n",
    "    traj.center_coordinates()\n",
    "    residues = [residue.index for residue in traj.top.residues if residue.name =='PALP' or residue.name == 'MYRP' or residue.name=='LAUP' or residue.name=='STEP']\n",
    "    atoms = []\n",
    "    for i in residues:\n",
    "        atoms.append([atom.index for atom in traj.top.atoms if atom.residue.index == residues[i] and traj.xyz[0][atom.index][2]>0])\n",
    "    return(md.compute_nematic_order(traj, indices=atoms))\n",
    "def get_nematic_orders_lower_chains(traj):\n",
    "    traj.center_coordinates()\n",
    "    residues = [residue.index for residue in traj.top.residues if residue.name =='PALP' or residue.name == 'MYRP' or residue.name=='LAUP' or residue.name=='STEP']\n",
    "    atoms = []\n",
    "    for i in residues:\n",
    "        atoms.append([atom.index for atom in traj.top.atoms if atom.residue.index == residues[i] and traj.xyz[0][atom.index][2]<=0])\n",
    "    return(md.compute_nematic_order(traj, indices=atoms))\n",
    "#no1u = get_nematic_orders_upper_chains(mix1_6)\n",
    "#no2u = get_nematic_orders_upper_chains(mix1_5)\n",
    "#no3u = get_nematic_orders_upper_chains(mix1_4)\n",
    "#no4u = get_nematic_orders_upper_chains(mix1_3)\n",
    "#no50u = get_nematic_orders_upper_chains(mix1_2)\n",
    "#no6u = get_nematic_orders_upper_chains(mix1_1)\n",
    "#no1l = get_nematic_orders_upper_chains(mix1_6)\n",
    "#no2l = get_nematic_orders_upper_chains(mix1_5)\n",
    "#no3l = get_nematic_orders_upper_chains(mix1_4)\n",
    "#no4l = get_nematic_orders_upper_chains(mix1_3)\n",
    "#no5l = get_nematic_orders_upper_chains(mix1_2)\n",
    "#no6l = get_nematic_orders_upper_chains(mix1_1)\n",
    "no1u = get_nematic_orders_upper_chains(laup_1)\n",
    "no2u = get_nematic_orders_upper_chains(laup_2)\n",
    "no1l = get_nematic_orders_lower_chains(laup_1)\n",
    "no2l = get_nematic_orders_lower_chains(laup_2)\n",
    "\n"
   ]
  },
  {
   "cell_type": "code",
   "execution_count": 7,
   "metadata": {},
   "outputs": [
    {
     "name": "stdout",
     "output_type": "stream",
     "text": [
      "0.3204392207952497\n",
      "0.3173545242089625\n",
      "0.38696601357712523\n",
      "0.29752235660322296\n"
     ]
    }
   ],
   "source": [
    "#print(np.mean(no6C))\n",
    "#print(np.mean(no7C))\n",
    "#print(np.mean(no8C))\n",
    "#print(np.mean(no9C))\n",
    "#print(np.mean(no10C))\n",
    "#print(np.mean(no11C))\n",
    "print(np.mean(no1u))\n",
    "print(np.mean(no2u))\n",
    "print(np.mean(no1l))\n",
    "print(np.mean(no2l))"
   ]
  },
  {
   "cell_type": "code",
   "execution_count": 8,
   "metadata": {},
   "outputs": [],
   "source": [
    "datas = np.array([no1u, no2u, no1l, no2l])"
   ]
  },
  {
   "cell_type": "code",
   "execution_count": 11,
   "metadata": {},
   "outputs": [],
   "source": [
    "def writeToCSV(data):\n",
    "    l = len(data)\n",
    "    for i, d in enumerate(data):\n",
    "        with open('/gpfs/amarolab/monolayers/Monolayer_Sims_Raw_Data/LAUP_NaCl0.4_SA20_pH2/NematicOrder_'+str(i+1)+'.csv','w') as csv:\n",
    "            for dat in d:\n",
    "                csv.write(str(dat)+\"\\n\")\n",
    "writeToCSV(datas)"
   ]
  },
  {
   "cell_type": "code",
   "execution_count": null,
   "metadata": {},
   "outputs": [],
   "source": []
  }
 ],
 "metadata": {
  "kernelspec": {
   "display_name": "Python 3",
   "language": "python",
   "name": "python3"
  },
  "language_info": {
   "codemirror_mode": {
    "name": "ipython",
    "version": 3
   },
   "file_extension": ".py",
   "mimetype": "text/x-python",
   "name": "python",
   "nbconvert_exporter": "python",
   "pygments_lexer": "ipython3",
   "version": "3.6.1"
  }
 },
 "nbformat": 4,
 "nbformat_minor": 2
}
