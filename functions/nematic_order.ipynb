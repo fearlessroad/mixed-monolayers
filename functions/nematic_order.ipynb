{
 "cells": [
  {
   "cell_type": "code",
   "execution_count": 2,
   "metadata": {
    "collapsed": true
   },
   "outputs": [],
   "source": [
    "import mdtraj as md\n",
    "import numpy as np\n",
    "import matplotlib.pyplot as plt\n",
    "import csv\n",
    "import xlrd\n",
    "import os\n",
    "import os.path\n",
    "from pathlib2 import Path\n",
    "from decimal import *\n",
    "%matplotlib inline"
   ]
  },
  {
   "cell_type": "markdown",
   "metadata": {
    "collapsed": true
   },
   "source": [
    "## import namd & gmx data"
   ]
  },
  {
   "cell_type": "code",
   "execution_count": 3,
   "metadata": {},
   "outputs": [
    {
     "name": "stdout",
     "output_type": "stream",
     "text": [
      "[['/gpfs/amarolab/monolayers/MIX1_NaCl0.4_GMX/SA19-1_20ns/step9_1', '/gpfs/amarolab/monolayers/MIX1_NaCl0.4_GMX/SA19-1_20ns/step9_2'], ['/gpfs/amarolab/monolayers/MIX1_NaCl0.4_GMX/SA19-2_100ns/step9_1', '/gpfs/amarolab/monolayers/MIX1_NaCl0.4_GMX/SA19-2_100ns/step9_2', '/gpfs/amarolab/monolayers/MIX1_NaCl0.4_GMX/SA19-2_100ns/step9_3', '/gpfs/amarolab/monolayers/MIX1_NaCl0.4_GMX/SA19-2_100ns/step9_4', '/gpfs/amarolab/monolayers/MIX1_NaCl0.4_GMX/SA19-2_100ns/step9_5', '/gpfs/amarolab/monolayers/MIX1_NaCl0.4_GMX/SA19-2_100ns/step9_6', '/gpfs/amarolab/monolayers/MIX1_NaCl0.4_GMX/SA19-2_100ns/step9_7', '/gpfs/amarolab/monolayers/MIX1_NaCl0.4_GMX/SA19-2_100ns/step9_8', '/gpfs/amarolab/monolayers/MIX1_NaCl0.4_GMX/SA19-2_100ns/step9_9', '/gpfs/amarolab/monolayers/MIX1_NaCl0.4_GMX/SA19-2_100ns/step9_10', '/gpfs/amarolab/monolayers/MIX1_NaCl0.4_GMX/SA19-2_100ns/step9_11', '/gpfs/amarolab/monolayers/MIX1_NaCl0.4_GMX/SA19-2_100ns/step9_12', '/gpfs/amarolab/monolayers/MIX1_NaCl0.4_GMX/SA19-2_100ns/step9_13', '/gpfs/amarolab/monolayers/MIX1_NaCl0.4_GMX/SA19-2_100ns/step9_14', '/gpfs/amarolab/monolayers/MIX1_NaCl0.4_GMX/SA19-2_100ns/step9_15', '/gpfs/amarolab/monolayers/MIX1_NaCl0.4_GMX/SA19-2_100ns/step9_16', '/gpfs/amarolab/monolayers/MIX1_NaCl0.4_GMX/SA19-2_100ns/step9_17', '/gpfs/amarolab/monolayers/MIX1_NaCl0.4_GMX/SA19-2_100ns/step9_18', '/gpfs/amarolab/monolayers/MIX1_NaCl0.4_GMX/SA19-2_100ns/step9_19', '/gpfs/amarolab/monolayers/MIX1_NaCl0.4_GMX/SA19-2_100ns/step9_20'], ['/gpfs/amarolab/monolayers/MIX1_NaCl0.4_GMX/SA19-3_20ns/step9_1', '/gpfs/amarolab/monolayers/MIX1_NaCl0.4_GMX/SA19-3_20ns/step9_2'], ['/gpfs/amarolab/monolayers/MIX1_NaCl0.4_GMX/SA19.5_100ns/step9_1', '/gpfs/amarolab/monolayers/MIX1_NaCl0.4_GMX/SA19.5_100ns/step9_2', '/gpfs/amarolab/monolayers/MIX1_NaCl0.4_GMX/SA19.5_100ns/step9_3', '/gpfs/amarolab/monolayers/MIX1_NaCl0.4_GMX/SA19.5_100ns/step9_4', '/gpfs/amarolab/monolayers/MIX1_NaCl0.4_GMX/SA19.5_100ns/step9_5'], ['/gpfs/amarolab/monolayers/MIX1_NaCl0.4_GMX/SA19.5-2_20ns/step9_1'], ['/gpfs/amarolab/monolayers/MIX1_NaCl0.4_GMX/SA19.5-3_20ns/step9_1'], ['/gpfs/amarolab/monolayers/MIX1_NaCl0.4_GMX/SA20_20ns/step9_1', '/gpfs/amarolab/monolayers/MIX1_NaCl0.4_GMX/SA20_20ns/step9_2'], ['/gpfs/amarolab/monolayers/MIX1_NaCl0.4_GMX/SA20-2_20ns/step9_1'], ['/gpfs/amarolab/monolayers/MIX1_NaCl0.4_GMX/SA20-3_100ns/step9_1', '/gpfs/amarolab/monolayers/MIX1_NaCl0.4_GMX/SA20-3_100ns/step9_2'], ['/gpfs/amarolab/monolayers/MIX1_NaCl0.4_GMX/SA21_100ns/step9_1', '/gpfs/amarolab/monolayers/MIX1_NaCl0.4_GMX/SA21_100ns/step9_2', '/gpfs/amarolab/monolayers/MIX1_NaCl0.4_GMX/SA21_100ns/step9_3', '/gpfs/amarolab/monolayers/MIX1_NaCl0.4_GMX/SA21_100ns/step9_4'], ['/gpfs/amarolab/monolayers/MIX1_NaCl0.4_GMX/SA21-2_20ns/step9_1'], ['/gpfs/amarolab/monolayers/MIX1_NaCl0.4_GMX/SA21-3_20ns/step9_1'], ['/gpfs/amarolab/monolayers/MIX1_NaCl0.4_GMX/SA22_20ns/step9_1'], ['/gpfs/amarolab/monolayers/MIX1_NaCl0.4_GMX/SA22-2_20ns/step9_1'], ['/gpfs/amarolab/monolayers/MIX1_NaCl0.4_GMX/SA22-3_100ns/step9_1', '/gpfs/amarolab/monolayers/MIX1_NaCl0.4_GMX/SA22-3_100ns/step9_2'], ['/gpfs/amarolab/monolayers/MIX1_NaCl0.4_GMX/SA24_20ns/step9_1'], ['/gpfs/amarolab/monolayers/MIX1_NaCl0.4_GMX/SA24-2_20ns/step9_1']]\n"
     ]
    }
   ],
   "source": [
    "gmx_surface_areas = ['SA19-1_20ns', 'SA19-2_100ns', 'SA19-3_20ns',\n",
    "                 'SA19.5_100ns', 'SA19.5-2_20ns', 'SA19.5-3_20ns',\n",
    "                 'SA20_20ns', 'SA20-2_20ns', 'SA20-3_100ns',\n",
    "                 'SA21_100ns', 'SA21-2_20ns', 'SA21-3_20ns', \n",
    "                 'SA22_20ns', 'SA22-2_20ns', 'SA22-3_100ns', \n",
    "                 'SA24_20ns', 'SA24-2_20ns', 'SA24-3_100ns']\n",
    "namd_surface_areas = ['SA19','SA19-2', 'SA19-3', \n",
    "                   'SA19.5','SA19.5-2', 'SA19.5-3',\n",
    "                   'SA20','SA20-2', 'SA20-3',\n",
    "                   'SA20.5', 'SA20.5-2', 'SA20.5-3',\n",
    "                   'SA21','SA21-2', 'SA21-3',\n",
    "                   'SA22','SA22-2', 'SA22-3',\n",
    "                   'SA23','SA23-2', 'SA23-3',\n",
    "                   'SA24', 'SA24-2', 'SA24-3']\n",
    "namd_filenames = ['step7.1', 'step7.2', 'step7.21', 'step7.3', 'step7.31', 'step7.32', 'step7.33', 'step7.34',\n",
    "               'step7.35','step7.4', 'step7.41', 'step7.42', 'step7.43', 'step7.44', 'step7.45']\n",
    "gmx_filenames = []\n",
    "for g in range(1,21):\n",
    "    gmx_filenames.append('step9_'+str(g))\n",
    "filedir_g = '/gpfs/amarolab/monolayers/MIX1_NaCl0.4_GMX/'\n",
    "filedir_n = '/gpfs/amarolab/abbyflabby/MIX/MIX1234_NaCl0.4_NAMD/'\n",
    "logfiles_n = []\n",
    "logfiles_g = []\n",
    "trr_files = []\n",
    "dcd_files = []\n",
    "\n",
    "for area in namd_surface_areas:\n",
    "    logchunk = []\n",
    "    dcdchunk = []\n",
    "    for i in namd_filenames:\n",
    "        log = Path(filedir_n+area+'/charmm-gui/namd/'+i+'_production.log')\n",
    "        dcd = Path(filedir_n+area+'/charmm-gui/namd/'+i+'_production.dcd')\n",
    "        if log.exists():\n",
    "            logchunk.append(filedir_n+area+'/charmm-gui/namd/'+i+'_production.log')\n",
    "        if dcd.exists():\n",
    "            dcdchunk.append(filedir_n+area+'/charmm-gui/namd/'+i+'_production.dcd')\n",
    "    if len(logchunk)>0:\n",
    "        logfiles_n.append(logchunk)\n",
    "        dcd_files.append(dcdchunk)\n",
    "#xvgfiles = [] #list of xvg filenames\n",
    "pres = []\n",
    "times = []\n",
    "areas = []\n",
    "trr_files = []\n",
    "#for narea in n_surface_areas:\n",
    "#    logchunk = []\n",
    "    \n",
    "for area in gmx_surface_areas:\n",
    "    xvgchunk = []\n",
    "    trajchunk = []\n",
    "    for i in range(1, 21):\n",
    "        xvg = Path(filedir_g+area+'/step9_'+str(i)+'.xvg')\n",
    "        traj = Path(filedir_g+area+'/step9_'+str(i)+'.trr')\n",
    "        if xvg.exists():\n",
    "            xvgchunk.append(filedir_g+area+'/step9_'+str(i)+'.xvg')\n",
    "        if traj.exists():\n",
    "            trajchunk.append(filedir_g+area+'/step9_'+str(i))\n",
    "    #print(xvgchunk)\n",
    "    for p, x in enumerate(xvgchunk):\n",
    "        if p == 0:\n",
    "            #arr = np.array(timesteps)\n",
    "            #timesteps in nanoseconds\n",
    "            timesteps = np.genfromtxt(x, dtype='float', skip_header=24)[:,0]/1000\n",
    "            #np.append(timesteps, new_ts)\n",
    "            pressures = np.genfromtxt(x, dtype='float', skip_header=24)[:,1]/20\n",
    "            #np.append(pressures, new_pr)\n",
    "            #print(pressures)\n",
    "        else:\n",
    "            time = np.genfromtxt(x,dtype='float', skip_header=24)[:,0]/1000\n",
    "            #print(time)\n",
    "            timesteps = np.append(timesteps, time)\n",
    "      #      #print(time)\n",
    "      #      #t = time.tolist()\n",
    "      #      timesteps.append(time)\n",
    "      #      print(timesteps)\n",
    "            pr = np.genfromtxt(x, dtype='float', skip_header=24)[:,1]/20\n",
    "            pressures = np.append(pressures, pr)\n",
    "    if len(xvgchunk)>0:\n",
    "        pres.append(70.5-np.array(pressures))\n",
    "        times.append(timesteps)\n",
    "        areas.append(area)\n",
    "        logfiles_g.append(xvgchunk)\n",
    "        trr_files.append(trajchunk)\n",
    "#print(len(xvgfiles))\n",
    "#print(xvgfiles)\n",
    "#print(len(times[1]))\n",
    "#print(times[1][-1])\n",
    "#print(len(pres[1]))\n",
    "#print(len(times))\n",
    "#print(areas)\n",
    "print(trr_files)"
   ]
  },
  {
   "cell_type": "markdown",
   "metadata": {},
   "source": [
    "## strip trajectories of water"
   ]
  },
  {
   "cell_type": "code",
   "execution_count": null,
   "metadata": {
    "collapsed": true
   },
   "outputs": [],
   "source": [
    "def genStripScript():\n",
    "    with open(filedir_g+'/strip_script.sh', 'w') as file:\n",
    "        for count, area in enumerate(areas):\n",
    "            for step, t in enumerate(trr_files[count]):\n",
    "                file.write('echo 10 | gmx trjconv -f '+filedir_g+area+'/step9_'+str(step+1)+'.trr -o '+filedir_g+area+'/step9_'+str(step+1)+'_stripped.xtc -s '+filedir_g+area+'/step9_'+str(step+1)+'.tpr\\n')\n",
    "            \n",
    "#genStripScript()"
   ]
  },
  {
   "cell_type": "code",
   "execution_count": null,
   "metadata": {
    "collapsed": true
   },
   "outputs": [],
   "source": [
    "genStripScript()"
   ]
  },
  {
   "cell_type": "markdown",
   "metadata": {},
   "source": [
    "## load gmx trajectories"
   ]
  },
  {
   "cell_type": "code",
   "execution_count": 4,
   "metadata": {},
   "outputs": [
    {
     "name": "stdout",
     "output_type": "stream",
     "text": [
      "17\n"
     ]
    }
   ],
   "source": [
    "gmx_traj = []\n",
    "namd_traj = []\n",
    "xtcs = []\n",
    "for trr in trr_files:\n",
    "    #print(trr_files)\n",
    "    chunk = []\n",
    "    for t in trr:\n",
    "        chunk.append(t+'_stripped.xtc')\n",
    "    xtcs.append(chunk)\n",
    "#print(xtcs)\n",
    "print(len(xtcs))\n",
    "#print(xtcs)\n",
    "#traj1 = md.load(trr_files[0], top=filedir_g+areas[0]+'/step9_1.gro')\n",
    "#for i,g in enumerate(xtcs):\n",
    "    #traj = md.load(g, top=filedir_g+areas[i]+'/step9_1.gro')\n",
    "    #gmx_traj.append(traj)#\n",
    "#print(gmx_traj)"
   ]
  },
  {
   "cell_type": "code",
   "execution_count": 5,
   "metadata": {},
   "outputs": [
    {
     "name": "stdout",
     "output_type": "stream",
     "text": [
      "[<mdtraj.Trajectory with 3002 frames, 18872 atoms, 480 residues, and unitcells at 0x2aee5ba9aa20>, <mdtraj.Trajectory with 24520 frames, 18872 atoms, 480 residues, and unitcells at 0x2aee5be684e0>, <mdtraj.Trajectory with 3002 frames, 18872 atoms, 480 residues, and unitcells at 0x2aee6650fc50>, <mdtraj.Trajectory with 10005 frames, 18876 atoms, 484 residues, and unitcells at 0x2aee5b7a0fd0>, <mdtraj.Trajectory with 2001 frames, 18876 atoms, 484 residues, and unitcells at 0x2aee5a964f60>, <mdtraj.Trajectory with 2001 frames, 18876 atoms, 484 residues, and unitcells at 0x2aeec17c3f60>, <mdtraj.Trajectory with 3002 frames, 17886 atoms, 462 residues, and unitcells at 0x2aeec1c45a20>, <mdtraj.Trajectory with 2001 frames, 17886 atoms, 462 residues, and unitcells at 0x2aeec172c4e0>, <mdtraj.Trajectory with 10002 frames, 17886 atoms, 462 residues, and unitcells at 0x2aeec2726a90>, <mdtraj.Trajectory with 11004 frames, 17892 atoms, 468 residues, and unitcells at 0x2aeec252f160>, <mdtraj.Trajectory with 2001 frames, 17892 atoms, 468 residues, and unitcells at 0x2aeec37d4ef0>, <mdtraj.Trajectory with 2001 frames, 17892 atoms, 468 residues, and unitcells at 0x2aeec320cf28>, <mdtraj.Trajectory with 2001 frames, 16902 atoms, 446 residues, and unitcells at 0x2aeec3d1aeb8>, <mdtraj.Trajectory with 2001 frames, 16902 atoms, 446 residues, and unitcells at 0x2aeec421ff98>, <mdtraj.Trajectory with 10002 frames, 16902 atoms, 446 residues, and unitcells at 0x2aeec4727cf8>, <mdtraj.Trajectory with 2001 frames, 14924 atoms, 404 residues, and unitcells at 0x2af13c13ffd0>, <mdtraj.Trajectory with 2001 frames, 14924 atoms, 404 residues, and unitcells at 0x2af13c5b0fd0>]\n"
     ]
    }
   ],
   "source": [
    "ct = 0 \n",
    "for x in xtcs:\n",
    "    chunk = []\n",
    "    #print(x)\n",
    "    #print(filedir_g+areas[ct]+'/step9_1_stripped.pdb')\n",
    "    traj = md.load(x, top=filedir_g+areas[ct]+'/step9_1_stripped.pdb')\n",
    "    #chunk.append(traj)\n",
    "    gmx_traj.append(traj)\n",
    "    ct+=1\n",
    "print(gmx_traj)"
   ]
  },
  {
   "cell_type": "markdown",
   "metadata": {},
   "source": [
    "## obtain trajectories for upper and lower leaflets"
   ]
  },
  {
   "cell_type": "code",
   "execution_count": 6,
   "metadata": {},
   "outputs": [
    {
     "name": "stdout",
     "output_type": "stream",
     "text": [
      "0\n",
      "1\n",
      "2\n",
      "3\n",
      "4\n",
      "5\n",
      "6\n",
      "7\n",
      "8\n",
      "9\n",
      "10\n",
      "11\n",
      "12\n",
      "13\n",
      "14\n",
      "15\n",
      "16\n",
      "[[<mdtraj.Trajectory with 3002 frames, 9386 atoms, 190 residues, and unitcells at 0x2af13c5c46a0>, <mdtraj.Trajectory with 3002 frames, 9386 atoms, 190 residues, and unitcells at 0x2aeec3484be0>], [<mdtraj.Trajectory with 24520 frames, 9398 atoms, 190 residues, and unitcells at 0x2af452327f98>, <mdtraj.Trajectory with 24520 frames, 9374 atoms, 190 residues, and unitcells at 0x2af1769410b8>], [<mdtraj.Trajectory with 3002 frames, 9386 atoms, 190 residues, and unitcells at 0x2af45272cbe0>, <mdtraj.Trajectory with 3002 frames, 9386 atoms, 190 residues, and unitcells at 0x2af4523a5048>], [<mdtraj.Trajectory with 10005 frames, 9386 atoms, 190 residues, and unitcells at 0x2af4d8857a20>, <mdtraj.Trajectory with 10005 frames, 9386 atoms, 190 residues, and unitcells at 0x2af175f16080>], [<mdtraj.Trajectory with 2001 frames, 9436 atoms, 191 residues, and unitcells at 0x2af452a27208>, <mdtraj.Trajectory with 2001 frames, 9336 atoms, 189 residues, and unitcells at 0x2af1762de0f0>], [<mdtraj.Trajectory with 2001 frames, 9436 atoms, 191 residues, and unitcells at 0x2af4e693a048>, <mdtraj.Trajectory with 2001 frames, 9336 atoms, 189 residues, and unitcells at 0x2af4d8bc8048>], [<mdtraj.Trajectory with 3002 frames, 8792 atoms, 187 residues, and unitcells at 0x2aeec4678518>, <mdtraj.Trajectory with 3002 frames, 8992 atoms, 173 residues, and unitcells at 0x2af93a63c6a0>], [<mdtraj.Trajectory with 2001 frames, 8830 atoms, 185 residues, and unitcells at 0x2af93ad15b70>, <mdtraj.Trajectory with 2001 frames, 8954 atoms, 175 residues, and unitcells at 0x2af4d8cd3080>], [<mdtraj.Trajectory with 10002 frames, 8854 atoms, 179 residues, and unitcells at 0x2af9e5207a90>, <mdtraj.Trajectory with 10002 frames, 8930 atoms, 181 residues, and unitcells at 0x2af9e53ed2e8>], [<mdtraj.Trajectory with 11004 frames, 8892 atoms, 180 residues, and unitcells at 0x2af4d8d0d7f0>, <mdtraj.Trajectory with 11004 frames, 8892 atoms, 180 residues, and unitcells at 0x2af175475048>], [<mdtraj.Trajectory with 2001 frames, 8892 atoms, 180 residues, and unitcells at 0x2af9e566b588>, <mdtraj.Trajectory with 2001 frames, 8892 atoms, 180 residues, and unitcells at 0x2af9e58d2eb8>], [<mdtraj.Trajectory with 2001 frames, 8892 atoms, 180 residues, and unitcells at 0x2af452221080>, <mdtraj.Trajectory with 2001 frames, 8892 atoms, 180 residues, and unitcells at 0x2af9e0476fd0>], [<mdtraj.Trajectory with 2001 frames, 8398 atoms, 170 residues, and unitcells at 0x2aee5a7205c0>, <mdtraj.Trajectory with 2001 frames, 8398 atoms, 170 residues, and unitcells at 0x2af93a726748>], [<mdtraj.Trajectory with 2001 frames, 8398 atoms, 170 residues, and unitcells at 0x2af9e0116a90>, <mdtraj.Trajectory with 2001 frames, 8398 atoms, 170 residues, and unitcells at 0x2afcec29c080>], [<mdtraj.Trajectory with 10002 frames, 8398 atoms, 170 residues, and unitcells at 0x2afa3314a3c8>, <mdtraj.Trajectory with 10002 frames, 8398 atoms, 170 residues, and unitcells at 0x2afd38ed60f0>], [<mdtraj.Trajectory with 2001 frames, 7410 atoms, 150 residues, and unitcells at 0x2af9e5a35e80>, <mdtraj.Trajectory with 2001 frames, 7410 atoms, 150 residues, and unitcells at 0x2afcec15b0f0>], [<mdtraj.Trajectory with 2001 frames, 7410 atoms, 150 residues, and unitcells at 0x2afbcf9fdc18>, <mdtraj.Trajectory with 2001 frames, 7410 atoms, 150 residues, and unitcells at 0x2afbcf86e048>]]\n",
      "[<mdtraj.Trajectory with 3002 frames, 18772 atoms, 380 residues, and unitcells at 0x2aee5a66b3c8>, <mdtraj.Trajectory with 24520 frames, 18772 atoms, 380 residues, and unitcells at 0x2aeec375f4e0>, <mdtraj.Trajectory with 3002 frames, 18772 atoms, 380 residues, and unitcells at 0x2af175443400>, <mdtraj.Trajectory with 10005 frames, 18772 atoms, 380 residues, and unitcells at 0x2af174e0fbe0>, <mdtraj.Trajectory with 2001 frames, 18772 atoms, 380 residues, and unitcells at 0x2af174b79400>, <mdtraj.Trajectory with 2001 frames, 18772 atoms, 380 residues, and unitcells at 0x2af1754fb4a8>, <mdtraj.Trajectory with 3002 frames, 17784 atoms, 360 residues, and unitcells at 0x2af452baa198>, <mdtraj.Trajectory with 2001 frames, 17784 atoms, 360 residues, and unitcells at 0x2af17618d1d0>, <mdtraj.Trajectory with 10002 frames, 17784 atoms, 360 residues, and unitcells at 0x2af1746045c0>, <mdtraj.Trajectory with 11004 frames, 17784 atoms, 360 residues, and unitcells at 0x2af93b1c8358>, <mdtraj.Trajectory with 2001 frames, 17784 atoms, 360 residues, and unitcells at 0x2af93b0da358>, <mdtraj.Trajectory with 2001 frames, 17784 atoms, 360 residues, and unitcells at 0x2af4e6ce2978>, <mdtraj.Trajectory with 2001 frames, 16796 atoms, 340 residues, and unitcells at 0x2afa33090198>, <mdtraj.Trajectory with 2001 frames, 16796 atoms, 340 residues, and unitcells at 0x2afbcfc11710>, <mdtraj.Trajectory with 10002 frames, 16796 atoms, 340 residues, and unitcells at 0x2afceba80080>, <mdtraj.Trajectory with 2001 frames, 14820 atoms, 300 residues, and unitcells at 0x2afd38dd7748>, <mdtraj.Trajectory with 2001 frames, 14820 atoms, 300 residues, and unitcells at 0x2afd38ce62b0>]\n"
     ]
    }
   ],
   "source": [
    "count = 0\n",
    "lipidTrajArray = []\n",
    "lipids = []\n",
    "ptTrajArray = []\n",
    "#print(gmx_traj)\n",
    "for traj in gmx_traj:\n",
    "    #traj = md.load(dcds[count], top=filedir1+\"SA\"+i+\"/charmm-gui/step5_assembly.xplor_ext.psf\")\n",
    "    #traj = md.load(dcds[count], top=filedir1+\"SA\"+i+\"/charmm-gui/gromacs/Trial1-100/step9_1.gro\")\n",
    "    #pttraj = pt.load(dcds[count], filedir1+\"SA\"+i+\"/charmm-gui/gromacs/Trial1-100/step9_1.gro\")\n",
    "    lipidSelection = traj.topology.select('not resname CLA and not resname SOD')\n",
    "    print(count)\n",
    "    lipidTraj = traj.atom_slice(lipidSelection).center_coordinates()\n",
    "    lipids.append(lipidTraj)\n",
    "    C1selection = lipidTraj.topology.select('name C1')\n",
    "    C1Traj = lipidTraj.atom_slice(C1selection)\n",
    "    coords = C1Traj.xyz\n",
    "    finalCoords = coords[len(coords)-1]\n",
    "    upper_indices = ''\n",
    "    lower_indices = ''\n",
    "    count2 = 1\n",
    "    for x, y, z in finalCoords: #for each C1\n",
    "        if z > 0:\n",
    "            if len(upper_indices) == 0:\n",
    "                upper_indices += ('residue '+str(count2))\n",
    "            else:\n",
    "                upper_indices+=(' or residue '+ str(count2))\n",
    "        else:\n",
    "            if len(lower_indices) == 0:\n",
    "                lower_indices+=('residue '+str(count2))\n",
    "            else:\n",
    "                lower_indices+=(' or residue '+str(count2))\n",
    "        count2 +=1\n",
    "    #print(upper_indices)\n",
    "    upperLeafSelection = lipidTraj.topology.select(upper_indices)\n",
    "    upperLeafTraj = lipidTraj.atom_slice(upperLeafSelection)\n",
    "    lowerLeafSelection = lipidTraj.topology.select(lower_indices)\n",
    "    lowerLeafTraj = lipidTraj.atom_slice(lowerLeafSelection)\n",
    "    lipidTrajArray.append([upperLeafTraj, lowerLeafTraj])\n",
    "    #ptTrajArray.append(pttraj)\n",
    "    count +=1\n",
    "print(lipidTrajArray)\n",
    "print(lipids)"
   ]
  },
  {
   "cell_type": "code",
   "execution_count": 14,
   "metadata": {},
   "outputs": [
    {
     "name": "stdout",
     "output_type": "stream",
     "text": [
      "<mdtraj.Trajectory with 1 frames, 9386 atoms, 190 residues, and unitcells>\n"
     ]
    }
   ],
   "source": [
    "#print(lipidTrajArray)\n",
    "print(lipidTrajArray[0][1][-1])"
   ]
  },
  {
   "cell_type": "markdown",
   "metadata": {},
   "source": [
    "## Nematic Order parameter calculation"
   ]
  },
  {
   "cell_type": "code",
   "execution_count": 17,
   "metadata": {},
   "outputs": [
    {
     "name": "stdout",
     "output_type": "stream",
     "text": [
      "0\n"
     ]
    },
    {
     "ename": "AttributeError",
     "evalue": "'str' object has no attribute 'n_frames'",
     "output_type": "error",
     "traceback": [
      "\u001b[0;31m---------------------------------------------------------------------------\u001b[0m",
      "\u001b[0;31mAttributeError\u001b[0m                            Traceback (most recent call last)",
      "\u001b[0;32m<ipython-input-17-8733fd849b9c>\u001b[0m in \u001b[0;36m<module>\u001b[0;34m()\u001b[0m\n\u001b[1;32m     55\u001b[0m                 \u001b[0;32melse\u001b[0m\u001b[0;34m:\u001b[0m\u001b[0;34m\u001b[0m\u001b[0m\n\u001b[1;32m     56\u001b[0m                     \u001b[0mchunk\u001b[0m\u001b[0;34m.\u001b[0m\u001b[0mappend\u001b[0m\u001b[0;34m(\u001b[0m\u001b[0matomIdx\u001b[0m\u001b[0;34m)\u001b[0m\u001b[0;34m\u001b[0m\u001b[0m\n\u001b[0;32m---> 57\u001b[0;31m         \u001b[0ms\u001b[0m \u001b[0;34m=\u001b[0m \u001b[0mmd\u001b[0m\u001b[0;34m.\u001b[0m\u001b[0mcompute_nematic_order\u001b[0m\u001b[0;34m(\u001b[0m\u001b[0mt\u001b[0m\u001b[0;34m,\u001b[0m \u001b[0mindices\u001b[0m \u001b[0;34m=\u001b[0m \u001b[0mnemOrderIdx\u001b[0m\u001b[0;34m)\u001b[0m\u001b[0;34m\u001b[0m\u001b[0m\n\u001b[0m\u001b[1;32m     58\u001b[0m     \u001b[0mnemData\u001b[0m\u001b[0;34m.\u001b[0m\u001b[0mappend\u001b[0m\u001b[0;34m(\u001b[0m\u001b[0ms\u001b[0m\u001b[0;34m)\u001b[0m\u001b[0;34m\u001b[0m\u001b[0m\n\u001b[1;32m     59\u001b[0m     \u001b[0mcount\u001b[0m\u001b[0;34m+=\u001b[0m\u001b[0;36m1\u001b[0m\u001b[0;34m\u001b[0m\u001b[0m\n",
      "\u001b[0;32m/home/adommer/anaconda3/lib/python3.6/site-packages/mdtraj/geometry/order.py\u001b[0m in \u001b[0;36mcompute_nematic_order\u001b[0;34m(traj, indices)\u001b[0m\n\u001b[1;32m     93\u001b[0m     \"\"\"\n\u001b[1;32m     94\u001b[0m     \u001b[0;31m# Compute the directors for each compound for each frame.\u001b[0m\u001b[0;34m\u001b[0m\u001b[0;34m\u001b[0m\u001b[0m\n\u001b[0;32m---> 95\u001b[0;31m     \u001b[0mall_directors\u001b[0m \u001b[0;34m=\u001b[0m \u001b[0mcompute_directors\u001b[0m\u001b[0;34m(\u001b[0m\u001b[0mtraj\u001b[0m\u001b[0;34m,\u001b[0m \u001b[0mindices\u001b[0m\u001b[0;34m)\u001b[0m\u001b[0;34m\u001b[0m\u001b[0m\n\u001b[0m\u001b[1;32m     96\u001b[0m \u001b[0;34m\u001b[0m\u001b[0m\n\u001b[1;32m     97\u001b[0m     \u001b[0;31m# From the directors, compute the Q-tensor and nematic order parameter, S2.\u001b[0m\u001b[0;34m\u001b[0m\u001b[0;34m\u001b[0m\u001b[0m\n",
      "\u001b[0;32m/home/adommer/anaconda3/lib/python3.6/site-packages/mdtraj/geometry/order.py\u001b[0m in \u001b[0;36mcompute_directors\u001b[0;34m(traj, indices)\u001b[0m\n\u001b[1;32m    153\u001b[0m     \"\"\"\n\u001b[1;32m    154\u001b[0m     \u001b[0mindices\u001b[0m \u001b[0;34m=\u001b[0m \u001b[0m_get_indices\u001b[0m\u001b[0;34m(\u001b[0m\u001b[0mtraj\u001b[0m\u001b[0;34m,\u001b[0m \u001b[0mindices\u001b[0m\u001b[0;34m)\u001b[0m\u001b[0;34m\u001b[0m\u001b[0m\n\u001b[0;32m--> 155\u001b[0;31m     all_directors = np.empty(shape=(traj.n_frames, len(indices), 3),\n\u001b[0m\u001b[1;32m    156\u001b[0m                              dtype=np.float64)\n\u001b[1;32m    157\u001b[0m     \u001b[0;32mfor\u001b[0m \u001b[0mi\u001b[0m\u001b[0;34m,\u001b[0m \u001b[0mids\u001b[0m \u001b[0;32min\u001b[0m \u001b[0menumerate\u001b[0m\u001b[0;34m(\u001b[0m\u001b[0mindices\u001b[0m\u001b[0;34m)\u001b[0m\u001b[0;34m:\u001b[0m\u001b[0;34m\u001b[0m\u001b[0m\n",
      "\u001b[0;31mAttributeError\u001b[0m: 'str' object has no attribute 'n_frames'"
     ]
    }
   ],
   "source": [
    "## need to create an array of arrays with the indices of EACH atom in each residue\n",
    "##[[atom indices for res#1], [atom indices for res#2]] ...etc\n",
    "nemData = []\n",
    "count = 0\n",
    "#surface_areas = [\"19\"]\n",
    "for ct, area in enumerate(areas):\n",
    "    print(ct)\n",
    "    nemOrderIdx = []\n",
    "    resID = []\n",
    "    chunk = []\n",
    "    #t_all = md.load(dcds[count], top=filedir1+\"SA\"+area+\"/charmm-gui/step5_assembly.xplor_ext.psf\")\n",
    "    #t_all = md.load(trajfiles[count], top=filedir+area+\"/step9_1.gro\")\n",
    "    upper_pdb = lipidTrajArray[ct][0][-1].save_pdb(filedir_g+area+'/upper_PDB.pdb')\n",
    "    lower_pdb = lipidTrajArray[ct][1][-1].save_pdb(filedir_g+area+'/lower_PDB.pdb')\n",
    "    #lip = t_all.topology.select('resname LAUP or resname MYRP or resname PALP or resname STEP')\n",
    "    #t = t_all.atom_slice(lip)\n",
    "    pu = md.load_pdb(filedir_g+area+'/upper_PDB.pdb')\n",
    "    pl = md.load_pdb(filedir_g+area+'/lower_PDB.pdb')\n",
    "    #p = md.load_pdb(filedir1+\"/SA19_last_rm.pdb\")\n",
    "    for leaflet in [[pu, 'upper'], [pl, 'lower']]:\n",
    "        resNum =pu.n_residues \n",
    "        lines = open(filedir_g+area+'/'+leaflet[1]+'_PDB.pdb', \"r\")\n",
    "        #lines = open(filedir1+\"/SA19_last_rm.pdb\", \"r\")\n",
    "        for line in lines:\n",
    "            if line[0] == \"A\":\n",
    "                #print(line[6:11]) #atom index\n",
    "                #print(line[23:26])##residue sequence number\n",
    "                resIDCur = line[23:26]\n",
    "                #print(resIDCur)\n",
    "                resID.append(resIDCur)\n",
    "                atomIdx = int(line[6:11].replace(\" \", \"\"))\n",
    "                #print(atomIdx)\n",
    "                if len(resID) > 1:\n",
    "                    if len(resID) == resNum - 1:\n",
    "                        chunk.append(atomIdx)\n",
    "                        nemOrderIdx.append(chunk)\n",
    "                    #print(resID[-1])\n",
    "                    #print(resID[-2])\n",
    "                    #print('END')\n",
    "                    elif resID[-1] == resID[-2]: #if the last thing added to the resID guy is the same \n",
    "                    #as the previous guy added, then there has been no change in the residue, so we should keep \n",
    "                    #adding indices to chunk\n",
    "                        #print('here')\n",
    "                        chunk.append(atomIdx)\n",
    "                        #print(chunk)\n",
    "                    #else, we need to append the chunk to the nematic order index and start a new chunk\n",
    "                    else:\n",
    "                        nemOrderIdx.append(chunk)\n",
    "                        chunk = []\n",
    "                        chunk.append(atomIdx)\n",
    "                    #if resSeqCur != resSeq: \n",
    "                    #    nemOrderIdx.append(chunk)\n",
    "                    #else:\n",
    "                    #    chunk.append(atomIdx)\n",
    "                else:\n",
    "                    chunk.append(atomIdx)\n",
    "        s = md.compute_nematic_order(t, indices = nemOrderIdx)\n",
    "    nemData.append(s)\n",
    "    count+=1"
   ]
  },
  {
   "cell_type": "code",
   "execution_count": 19,
   "metadata": {},
   "outputs": [
    {
     "name": "stdout",
     "output_type": "stream",
     "text": [
      "[]\n"
     ]
    }
   ],
   "source": [
    "print(lipidTrajArray)"
   ]
  },
  {
   "cell_type": "code",
   "execution_count": 12,
   "metadata": {},
   "outputs": [
    {
     "name": "stdout",
     "output_type": "stream",
     "text": [
      "[<mdtraj.Trajectory with 3002 frames, 18872 atoms, 480 residues, and unitcells at 0x2b5512d9fa20>, <mdtraj.Trajectory with 24520 frames, 18872 atoms, 480 residues, and unitcells at 0x2b55132c4cf8>, <mdtraj.Trajectory with 3002 frames, 18872 atoms, 480 residues, and unitcells at 0x2b55132be198>, <mdtraj.Trajectory with 10005 frames, 18876 atoms, 484 residues, and unitcells at 0x2b5579438128>, <mdtraj.Trajectory with 2001 frames, 18876 atoms, 484 residues, and unitcells at 0x2b55132ba748>, <mdtraj.Trajectory with 2001 frames, 18876 atoms, 484 residues, and unitcells at 0x2b5579bcaf60>, <mdtraj.Trajectory with 3002 frames, 17886 atoms, 462 residues, and unitcells at 0x2b557a04ea90>, <mdtraj.Trajectory with 2001 frames, 17886 atoms, 462 residues, and unitcells at 0x2b557a3dcef0>, <mdtraj.Trajectory with 10002 frames, 17886 atoms, 462 residues, and unitcells at 0x2b557aaeeba8>, <mdtraj.Trajectory with 11004 frames, 17892 atoms, 468 residues, and unitcells at 0x2b557a39e438>, <mdtraj.Trajectory with 2001 frames, 17892 atoms, 468 residues, and unitcells at 0x2b557c0e1f28>, <mdtraj.Trajectory with 2001 frames, 17892 atoms, 468 residues, and unitcells at 0x2b557adcf588>, <mdtraj.Trajectory with 2001 frames, 16902 atoms, 446 residues, and unitcells at 0x2b557c262eb8>, <mdtraj.Trajectory with 2001 frames, 16902 atoms, 446 residues, and unitcells at 0x2b557c768f98>, <mdtraj.Trajectory with 10002 frames, 16902 atoms, 446 residues, and unitcells at 0x2b557cc71cc0>, <mdtraj.Trajectory with 2001 frames, 14924 atoms, 404 residues, and unitcells at 0x2b57f4148f60>, <mdtraj.Trajectory with 2001 frames, 14924 atoms, 404 residues, and unitcells at 0x2b557cd48e80>]\n",
      "0\n",
      "1\n",
      "2\n",
      "3\n",
      "4\n",
      "5\n",
      "6\n",
      "7\n",
      "8\n",
      "9\n",
      "10\n",
      "11\n",
      "12\n",
      "13\n",
      "14\n",
      "15\n",
      "16\n"
     ]
    }
   ],
   "source": [
    "count = 0\n",
    "lipidTrajArray = []\n",
    "lipids = []\n",
    "ptTrajArray = []\n",
    "print(gmx_traj)\n",
    "for traj in gmx_traj:\n",
    "    #traj = md.load(dcds[count], top=filedir1+\"SA\"+i+\"/charmm-gui/step5_assembly.xplor_ext.psf\")\n",
    "    #traj = md.load(dcds[count], top=filedir1+\"SA\"+i+\"/charmm-gui/gromacs/Trial1-100/step9_1.gro\")\n",
    "    #pttraj = pt.load(dcds[count], filedir1+\"SA\"+i+\"/charmm-gui/gromacs/Trial1-100/step9_1.gro\")\n",
    "    lipidSelection = traj.topology.select('not resname CLA and not resname SOD')\n",
    "    print(count)\n",
    "    lipidTraj = traj.atom_slice(lipidSelection).center_coordinates()\n",
    "    lipids.append(lipidTraj)\n",
    "    count +=1"
   ]
  },
  {
   "cell_type": "code",
   "execution_count": 13,
   "metadata": {},
   "outputs": [
    {
     "name": "stdout",
     "output_type": "stream",
     "text": [
      "[<mdtraj.Trajectory with 3002 frames, 18772 atoms, 380 residues, and unitcells at 0x2b582d4efc18>, <mdtraj.Trajectory with 24520 frames, 18772 atoms, 380 residues, and unitcells at 0x2b63c624dda0>, <mdtraj.Trajectory with 3002 frames, 18772 atoms, 380 residues, and unitcells at 0x2b5c1d842240>, <mdtraj.Trajectory with 10005 frames, 18772 atoms, 380 residues, and unitcells at 0x2b557c6f8630>, <mdtraj.Trajectory with 2001 frames, 18772 atoms, 380 residues, and unitcells at 0x2b6454043c18>, <mdtraj.Trajectory with 2001 frames, 18772 atoms, 380 residues, and unitcells at 0x2b582ded1908>, <mdtraj.Trajectory with 3002 frames, 17784 atoms, 360 residues, and unitcells at 0x2b557ad78828>, <mdtraj.Trajectory with 2001 frames, 17784 atoms, 360 residues, and unitcells at 0x2b557aee4978>, <mdtraj.Trajectory with 10002 frames, 17784 atoms, 360 residues, and unitcells at 0x2b57f3f260f0>, <mdtraj.Trajectory with 11004 frames, 17784 atoms, 360 residues, and unitcells at 0x2b557ccd2898>, <mdtraj.Trajectory with 2001 frames, 17784 atoms, 360 residues, and unitcells at 0x2b6454623fd0>, <mdtraj.Trajectory with 2001 frames, 17784 atoms, 360 residues, and unitcells at 0x2b60b74a0ac8>, <mdtraj.Trajectory with 2001 frames, 16796 atoms, 340 residues, and unitcells at 0x2b6109f51c88>, <mdtraj.Trajectory with 2001 frames, 16796 atoms, 340 residues, and unitcells at 0x2b6413d18898>, <mdtraj.Trajectory with 10002 frames, 16796 atoms, 340 residues, and unitcells at 0x2b64537672e8>, <mdtraj.Trajectory with 2001 frames, 14820 atoms, 300 residues, and unitcells at 0x2b6453a34cf8>, <mdtraj.Trajectory with 2001 frames, 14820 atoms, 300 residues, and unitcells at 0x2b61096f2da0>]\n"
     ]
    }
   ],
   "source": [
    "print(lipids)"
   ]
  },
  {
   "cell_type": "code",
   "execution_count": null,
   "metadata": {
    "collapsed": true
   },
   "outputs": [],
   "source": []
  }
 ],
 "metadata": {
  "kernelspec": {
   "display_name": "Python 3",
   "language": "python",
   "name": "python3"
  },
  "language_info": {
   "codemirror_mode": {
    "name": "ipython",
    "version": 3
   },
   "file_extension": ".py",
   "mimetype": "text/x-python",
   "name": "python",
   "nbconvert_exporter": "python",
   "pygments_lexer": "ipython3",
   "version": "3.6.1"
  }
 },
 "nbformat": 4,
 "nbformat_minor": 2
}
