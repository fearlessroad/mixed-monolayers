{
 "cells": [
  {
   "cell_type": "code",
   "execution_count": 1,
   "metadata": {},
   "outputs": [],
   "source": [
    "import mdtraj as md\n",
    "import numpy as np\n",
    "import matplotlib.pyplot as plt\n",
    "import csv\n",
    "import xlrd\n",
    "import os\n",
    "import os.path\n",
    "from pathlib2 import Path\n",
    "from decimal import *\n",
    "%matplotlib inline\n",
    "import matplotlib.pylab as pylab\n",
    "params = {'legend.fontsize': 'x-large',\n",
    "          'figure.figsize': (15, 5),\n",
    "         'axes.labelsize': 'x-large',\n",
    "         'axes.titlesize':'x-large',\n",
    "         'xtick.labelsize':'x-large',\n",
    "         'ytick.labelsize':'x-large',\n",
    "         'font.weight':'medium', \n",
    "         'xtick.major.size':8,\n",
    "         'ytick.major.size':8}\n",
    "pylab.rcParams.update(params)"
   ]
  },
  {
   "cell_type": "code",
   "execution_count": 2,
   "metadata": {},
   "outputs": [],
   "source": [
    "filedir = '/gpfs/amarolab/monolayers/'"
   ]
  },
  {
   "cell_type": "code",
   "execution_count": 5,
   "metadata": {},
   "outputs": [],
   "source": [
    "mix1_1 = md.load(filedir+'MIX1_NaCl0.4_GMX/SA20-3_100ns/concat.trr', top=filedir+'MIX1_NaCl0.4_GMX/SA20-3_100ns/step9_1.gro')"
   ]
  },
  {
   "cell_type": "code",
   "execution_count": 4,
   "metadata": {},
   "outputs": [],
   "source": [
    "mix1_2 = md.load(filedir+'MIX1_NaCl0.4_GMX/SA20_20ns/step9_1.trr', top=filedir+'MIX1_NaCl0.4_GMX/SA20_20ns/step9_1.gro')"
   ]
  },
  {
   "cell_type": "code",
   "execution_count": 6,
   "metadata": {},
   "outputs": [],
   "source": [
    "mix1_3 = md.load(filedir+'MIX1_NaCl0.4_GMX/SA20-2_20ns/step9_1.trr', top=filedir+'MIX1_NaCl0.4_GMX/SA20_20ns/step9_1.gro')"
   ]
  },
  {
   "cell_type": "code",
   "execution_count": 9,
   "metadata": {},
   "outputs": [],
   "source": [
    "filedir1 = '/gpfs/amarolab/abbyflabby/'\n",
    "mix1_4 = md.load(filedir1+'MIX/MIX1234_NaCl0.4_NAMD/SA20/charmm-gui/namd/step7.1_production.dcd', top=filedir1+'MIX/MIX1234_NaCl0.4_NAMD/SA20/charmm-gui/step5_assembly.xplor_ext.psf')"
   ]
  },
  {
   "cell_type": "code",
   "execution_count": 13,
   "metadata": {},
   "outputs": [],
   "source": [
    "dcds_mix1_5 = [filedir1+'MIX/MIX1234_NaCl0.4_NAMD/SA20-2/charmm-gui/namd/step7.2_production.dcd', filedir1+'MIX/MIX1234_NaCl0.4_NAMD/SA20-2/charmm-gui/namd/step7.3_production.inp.dcd', filedir1+'MIX/MIX1234_NaCl0.4_NAMD/SA20-2/charmm-gui/namd/step7.31_production.inp.dcd', filedir1+'MIX/MIX1234_NaCl0.4_NAMD/SA20-2/charmm-gui/namd/step7.32_production.inp.dcd', filedir1+'MIX/MIX1234_NaCl0.4_NAMD/SA20-2/charmm-gui/namd/step7.33_production.dcd']\n",
    "mix1_5 = md.load(dcds_mix1_5, top=filedir1+'MIX/MIX1234_NaCl0.4_NAMD/SA20/charmm-gui/step5_assembly.xplor_ext.psf')     \n"
   ]
  },
  {
   "cell_type": "code",
   "execution_count": 14,
   "metadata": {},
   "outputs": [],
   "source": [
    "dcds_mix1_6 = [filedir1+'MIX/MIX1234_NaCl0.4_NAMD/SA20-3/charmm-gui/namd/step7.1_production.dcd', \n",
    "               filedir1+'MIX/MIX1234_NaCl0.4_NAMD/SA20-3/charmm-gui/namd/step7.2_production.dcd', \n",
    "               filedir1+'MIX/MIX1234_NaCl0.4_NAMD/SA20-3/charmm-gui/namd/step7.3_production.inp.dcd', \n",
    "               filedir1+'MIX/MIX1234_NaCl0.4_NAMD/SA20-3/charmm-gui/namd/step7.31_production.inp.dcd', \n",
    "               filedir1+'MIX/MIX1234_NaCl0.4_NAMD/SA20-3/charmm-gui/namd/step7.32_production.inp.dcd', \n",
    "               filedir1+'MIX/MIX1234_NaCl0.4_NAMD/SA20-3/charmm-gui/namd/step7.33_production.dcd',\n",
    "               filedir1+'MIX/MIX1234_NaCl0.4_NAMD/SA20-3/charmm-gui/namd/step7.34_production.dcd',\n",
    "               filedir1+'MIX/MIX1234_NaCl0.4_NAMD/SA20-3/charmm-gui/namd/step7.35_production.dcd']\n",
    "mix1_6 = md.load(dcds_mix1_5, top=filedir1+'MIX/MIX1234_NaCl0.4_NAMD/SA20-3/charmm-gui/step5_assembly.xplor_ext.psf') "
   ]
  },
  {
   "cell_type": "code",
   "execution_count": 75,
   "metadata": {},
   "outputs": [],
   "source": [
    "def get_nematic_orders(traj):\n",
    "    traj.center_coordinates()\n",
    "    residues = [residue.index for residue in traj.top.residues if residue.name =='PALP' or residue.name == 'MYRP' or residue.name=='LAUP' or residue.name=='STEP']\n",
    "    atoms = []\n",
    "    for i in residues:\n",
    "        atoms.append([atom.index for atom in traj.top.atoms if atom.residue.index == residues[i] and traj.xyz[0][atom.index][2]<0 and atom.element.symbol == 'C'])\n",
    "    return(md.compute_nematic_order(traj, indices=atoms))\n",
    "no6 = get_nematic_orders(mix1_6)\n",
    "no7 = get_nematic_orders(mix1_5)\n",
    "no8 = get_nematic_orders(mix1_4)\n",
    "no9 = get_nematic_orders(mix1_3)\n",
    "no10 = get_nematic_orders(mix1_2)\n",
    "no11 = get_nematic_orders(mix1_1)"
   ]
  },
  {
   "cell_type": "code",
   "execution_count": 76,
   "metadata": {},
   "outputs": [
    {
     "name": "stdout",
     "output_type": "stream",
     "text": [
      "0.30196279277234306\n",
      "0.3019627927825196\n",
      "0.2995649011083628\n",
      "0.2869519578460875\n",
      "0.28689771834092515\n",
      "0.2863010298226997\n"
     ]
    }
   ],
   "source": [
    "print(np.mean(no6))\n",
    "print(np.mean(no7))\n",
    "print(np.mean(no8))\n",
    "print(np.mean(no9))\n",
    "print(np.mean(no10))\n",
    "print(np.mean(no11))"
   ]
  },
  {
   "cell_type": "code",
   "execution_count": 77,
   "metadata": {},
   "outputs": [],
   "source": [
    "def get_nematic_orders_chains(traj):\n",
    "    traj.center_coordinates()\n",
    "    residues = [residue.index for residue in traj.top.residues if residue.name =='PALP' or residue.name == 'MYRP' or residue.name=='LAUP' or residue.name=='STEP']\n",
    "    atoms = []\n",
    "    for i in residues:\n",
    "        atoms.append([atom.index for atom in traj.top.atoms if atom.residue.index == residues[i] and traj.xyz[0][atom.index][2]>0])\n",
    "    return(md.compute_nematic_order(traj, indices=atoms))\n",
    "no6C = get_nematic_orders_chains(mix1_6)\n",
    "no7C = get_nematic_orders_chains(mix1_5)\n",
    "no8C = get_nematic_orders_chains(mix1_4)\n",
    "no9C = get_nematic_orders_chains(mix1_3)\n",
    "no10C = get_nematic_orders_chains(mix1_2)\n",
    "no11C = get_nematic_orders_chains(mix1_1)"
   ]
  },
  {
   "cell_type": "code",
   "execution_count": 78,
   "metadata": {},
   "outputs": [
    {
     "name": "stdout",
     "output_type": "stream",
     "text": [
      "0.3500819499403099\n",
      "0.35008194994052383\n",
      "0.3600483691026408\n",
      "0.31515231373216374\n",
      "0.3141653082776828\n",
      "0.3159111596804887\n"
     ]
    }
   ],
   "source": [
    "print(np.mean(no6C))\n",
    "print(np.mean(no7C))\n",
    "print(np.mean(no8C))\n",
    "print(np.mean(no9C))\n",
    "print(np.mean(no10C))\n",
    "print(np.mean(no11C))"
   ]
  },
  {
   "cell_type": "code",
   "execution_count": 79,
   "metadata": {},
   "outputs": [],
   "source": [
    "datas = np.array([no6C, no7C, no8C, no9C, no10C, no11C])"
   ]
  },
  {
   "cell_type": "code",
   "execution_count": 80,
   "metadata": {},
   "outputs": [],
   "source": [
    "def writeToCSV(data):\n",
    "    l = len(data)\n",
    "    for i, d in enumerate(data):\n",
    "        with open('/gpfs/amarolab/monolayers/Monolayer_Sims_Raw_Data/MIX1_NaCl0.4_SA20_pH2/NematicOrder_'+str(i+6)+'.csv','w') as csv:\n",
    "            for dat in d:\n",
    "                csv.write(str(dat)+\"\\n\")\n",
    "writeToCSV(datas)"
   ]
  },
  {
   "cell_type": "code",
   "execution_count": null,
   "metadata": {},
   "outputs": [],
   "source": []
  }
 ],
 "metadata": {
  "kernelspec": {
   "display_name": "Python 3",
   "language": "python",
   "name": "python3"
  },
  "language_info": {
   "codemirror_mode": {
    "name": "ipython",
    "version": 3
   },
   "file_extension": ".py",
   "mimetype": "text/x-python",
   "name": "python",
   "nbconvert_exporter": "python",
   "pygments_lexer": "ipython3",
   "version": "3.6.1"
  }
 },
 "nbformat": 4,
 "nbformat_minor": 2
}
