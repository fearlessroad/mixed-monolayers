{
 "cells": [
  {
   "cell_type": "code",
   "execution_count": 1,
   "metadata": {
    "collapsed": true
   },
   "outputs": [],
   "source": [
    "import numpy as np\n",
    "import mdtraj as md\n",
    "import matplotlib.pyplot as plt\n",
    "%matplotlib inline \n",
    "#new stuff 7/9 for automating process\n",
    "import os\n",
    "import os.path\n",
    "from pathlib2 import Path"
   ]
  },
  {
   "cell_type": "code",
   "execution_count": 2,
   "metadata": {},
   "outputs": [
    {
     "name": "stdout",
     "output_type": "stream",
     "text": [
      "[['/gpfs/amarolab/monolayers/MIX1_NaCl0.4_GMX/SA19-1_20ns/step9_1', '/gpfs/amarolab/monolayers/MIX1_NaCl0.4_GMX/SA19-1_20ns/step9_2'], ['/gpfs/amarolab/monolayers/MIX1_NaCl0.4_GMX/SA19-2_100ns/step9_1', '/gpfs/amarolab/monolayers/MIX1_NaCl0.4_GMX/SA19-2_100ns/step9_2', '/gpfs/amarolab/monolayers/MIX1_NaCl0.4_GMX/SA19-2_100ns/step9_3', '/gpfs/amarolab/monolayers/MIX1_NaCl0.4_GMX/SA19-2_100ns/step9_4', '/gpfs/amarolab/monolayers/MIX1_NaCl0.4_GMX/SA19-2_100ns/step9_5', '/gpfs/amarolab/monolayers/MIX1_NaCl0.4_GMX/SA19-2_100ns/step9_6', '/gpfs/amarolab/monolayers/MIX1_NaCl0.4_GMX/SA19-2_100ns/step9_7', '/gpfs/amarolab/monolayers/MIX1_NaCl0.4_GMX/SA19-2_100ns/step9_8', '/gpfs/amarolab/monolayers/MIX1_NaCl0.4_GMX/SA19-2_100ns/step9_9', '/gpfs/amarolab/monolayers/MIX1_NaCl0.4_GMX/SA19-2_100ns/step9_10', '/gpfs/amarolab/monolayers/MIX1_NaCl0.4_GMX/SA19-2_100ns/step9_11', '/gpfs/amarolab/monolayers/MIX1_NaCl0.4_GMX/SA19-2_100ns/step9_12', '/gpfs/amarolab/monolayers/MIX1_NaCl0.4_GMX/SA19-2_100ns/step9_13', '/gpfs/amarolab/monolayers/MIX1_NaCl0.4_GMX/SA19-2_100ns/step9_14', '/gpfs/amarolab/monolayers/MIX1_NaCl0.4_GMX/SA19-2_100ns/step9_15', '/gpfs/amarolab/monolayers/MIX1_NaCl0.4_GMX/SA19-2_100ns/step9_16', '/gpfs/amarolab/monolayers/MIX1_NaCl0.4_GMX/SA19-2_100ns/step9_17', '/gpfs/amarolab/monolayers/MIX1_NaCl0.4_GMX/SA19-2_100ns/step9_18', '/gpfs/amarolab/monolayers/MIX1_NaCl0.4_GMX/SA19-2_100ns/step9_19', '/gpfs/amarolab/monolayers/MIX1_NaCl0.4_GMX/SA19-2_100ns/step9_20'], ['/gpfs/amarolab/monolayers/MIX1_NaCl0.4_GMX/SA19-3_20ns/step9_1', '/gpfs/amarolab/monolayers/MIX1_NaCl0.4_GMX/SA19-3_20ns/step9_2'], ['/gpfs/amarolab/monolayers/MIX1_NaCl0.4_GMX/SA19.5_100ns/step9_1', '/gpfs/amarolab/monolayers/MIX1_NaCl0.4_GMX/SA19.5_100ns/step9_2', '/gpfs/amarolab/monolayers/MIX1_NaCl0.4_GMX/SA19.5_100ns/step9_3', '/gpfs/amarolab/monolayers/MIX1_NaCl0.4_GMX/SA19.5_100ns/step9_4', '/gpfs/amarolab/monolayers/MIX1_NaCl0.4_GMX/SA19.5_100ns/step9_5'], ['/gpfs/amarolab/monolayers/MIX1_NaCl0.4_GMX/SA19.5-2_20ns/step9_1'], ['/gpfs/amarolab/monolayers/MIX1_NaCl0.4_GMX/SA19.5-3_20ns/step9_1'], ['/gpfs/amarolab/monolayers/MIX1_NaCl0.4_GMX/SA20_20ns/step9_1', '/gpfs/amarolab/monolayers/MIX1_NaCl0.4_GMX/SA20_20ns/step9_2'], ['/gpfs/amarolab/monolayers/MIX1_NaCl0.4_GMX/SA20-2_20ns/step9_1'], ['/gpfs/amarolab/monolayers/MIX1_NaCl0.4_GMX/SA20-3_100ns/step9_1', '/gpfs/amarolab/monolayers/MIX1_NaCl0.4_GMX/SA20-3_100ns/step9_2'], ['/gpfs/amarolab/monolayers/MIX1_NaCl0.4_GMX/SA21_100ns/step9_1', '/gpfs/amarolab/monolayers/MIX1_NaCl0.4_GMX/SA21_100ns/step9_2', '/gpfs/amarolab/monolayers/MIX1_NaCl0.4_GMX/SA21_100ns/step9_3', '/gpfs/amarolab/monolayers/MIX1_NaCl0.4_GMX/SA21_100ns/step9_4'], ['/gpfs/amarolab/monolayers/MIX1_NaCl0.4_GMX/SA21-2_20ns/step9_1'], ['/gpfs/amarolab/monolayers/MIX1_NaCl0.4_GMX/SA21-3_20ns/step9_1'], ['/gpfs/amarolab/monolayers/MIX1_NaCl0.4_GMX/SA22_20ns/step9_1'], ['/gpfs/amarolab/monolayers/MIX1_NaCl0.4_GMX/SA22-2_20ns/step9_1'], ['/gpfs/amarolab/monolayers/MIX1_NaCl0.4_GMX/SA22-3_100ns/step9_1', '/gpfs/amarolab/monolayers/MIX1_NaCl0.4_GMX/SA22-3_100ns/step9_2'], ['/gpfs/amarolab/monolayers/MIX1_NaCl0.4_GMX/SA24_20ns/step9_1'], ['/gpfs/amarolab/monolayers/MIX1_NaCl0.4_GMX/SA24-2_20ns/step9_1'], ['/gpfs/amarolab/monolayers/MIX1_NaCl0.4_GMX/SA24-3_100ns/step9_1', '/gpfs/amarolab/monolayers/MIX1_NaCl0.4_GMX/SA24-3_100ns/step9_2']]\n"
     ]
    }
   ],
   "source": [
    "gmx_surface_areas = ['SA19-1_20ns', 'SA19-2_100ns', 'SA19-3_20ns',\n",
    "                 'SA19.5_100ns', 'SA19.5-2_20ns', 'SA19.5-3_20ns',\n",
    "                 'SA20_20ns', 'SA20-2_20ns', 'SA20-3_100ns',\n",
    "                 'SA21_100ns', 'SA21-2_20ns', 'SA21-3_20ns', \n",
    "                 'SA22_20ns', 'SA22-2_20ns', 'SA22-3_100ns', \n",
    "                 'SA24_20ns', 'SA24-2_20ns', 'SA24-3_100ns']\n",
    "namd_surface_areas = ['SA19','SA19-2', 'SA19-3', \n",
    "                   'SA19.5','SA19.5-2', 'SA19.5-3',\n",
    "                   'SA20','SA20-2', 'SA20-3',\n",
    "                   'SA20.5', 'SA20.5-2', 'SA20.5-3',\n",
    "                   'SA21','SA21-2', 'SA21-3',\n",
    "                   'SA22','SA22-2', 'SA22-3',\n",
    "                   'SA23','SA23-2', 'SA23-3',\n",
    "                   'SA24', 'SA24-2', 'SA24-3']\n",
    "namd_filenames = ['step7.1', 'step7.2', 'step7.21', 'step7.3', 'step7.31', 'step7.32', 'step7.33', 'step7.34',\n",
    "               'step7.35','step7.4', 'step7.41', 'step7.42', 'step7.43', 'step7.44', 'step7.45']\n",
    "gmx_filenames = []\n",
    "for g in range(1,21):\n",
    "    gmx_filenames.append('step9_'+str(g))\n",
    "filedir_g = '/gpfs/amarolab/monolayers/MIX1_NaCl0.4_GMX/'\n",
    "filedir_n = '/gpfs/amarolab/abbyflabby/MIX/MIX1234_NaCl0.4_NAMD/'\n",
    "logfiles_n = []\n",
    "logfiles_g = []\n",
    "trr_files = []\n",
    "dcd_files = []\n",
    "\n",
    "for area in namd_surface_areas:\n",
    "    logchunk = []\n",
    "    dcdchunk = []\n",
    "    for i in namd_filenames:\n",
    "        log = Path(filedir_n+area+'/charmm-gui/namd/'+i+'_production.log')\n",
    "        dcd = Path(filedir_n+area+'/charmm-gui/namd/'+i+'_production.dcd')\n",
    "        if log.exists():\n",
    "            logchunk.append(filedir_n+area+'/charmm-gui/namd/'+i+'_production.log')\n",
    "        if dcd.exists():\n",
    "            dcdchunk.append(filedir_n+area+'/charmm-gui/namd/'+i+'_production.dcd')\n",
    "    if len(logchunk)>0:\n",
    "        logfiles_n.append(logchunk)\n",
    "        dcd_files.append(dcdchunk)\n",
    "#xvgfiles = [] #list of xvg filenames\n",
    "pres = []\n",
    "times = []\n",
    "areas = []\n",
    "trr_files = []\n",
    "#for narea in n_surface_areas:\n",
    "#    logchunk = []\n",
    "    \n",
    "for area in gmx_surface_areas:\n",
    "    xvgchunk = []\n",
    "    trajchunk = []\n",
    "    for i in range(1, 21):\n",
    "        xvg = Path(filedir_g+area+'/step9_'+str(i)+'.xvg')\n",
    "        traj = Path(filedir_g+area+'/step9_'+str(i)+'.trr')\n",
    "        if xvg.exists():\n",
    "            xvgchunk.append(filedir_g+area+'/step9_'+str(i)+'.xvg')\n",
    "        if traj.exists():\n",
    "            trajchunk.append(filedir_g+area+'/step9_'+str(i))\n",
    "    #print(xvgchunk)\n",
    "    for p, x in enumerate(xvgchunk):\n",
    "        if p == 0:\n",
    "            #arr = np.array(timesteps)\n",
    "            #timesteps in nanoseconds\n",
    "            timesteps = np.genfromtxt(x, dtype='float', skip_header=24)[:,0]/1000\n",
    "            #np.append(timesteps, new_ts)\n",
    "            pressures = np.genfromtxt(x, dtype='float', skip_header=24)[:,1]/20\n",
    "            #np.append(pressures, new_pr)\n",
    "            #print(pressures)\n",
    "        else:\n",
    "            time = np.genfromtxt(x,dtype='float', skip_header=24)[:,0]/1000\n",
    "            #print(time)\n",
    "            timesteps = np.append(timesteps, time)\n",
    "      #      #print(time)\n",
    "      #      #t = time.tolist()\n",
    "      #      timesteps.append(time)\n",
    "      #      print(timesteps)\n",
    "            pr = np.genfromtxt(x, dtype='float', skip_header=24)[:,1]/20\n",
    "            pressures = np.append(pressures, pr)\n",
    "    if len(xvgchunk)>0:\n",
    "        pres.append(70.5-np.array(pressures))\n",
    "        times.append(timesteps)\n",
    "        areas.append(area)\n",
    "        logfiles_g.append(xvgchunk)\n",
    "        trr_files.append(trajchunk)\n",
    "print(trr_files)"
   ]
  },
  {
   "cell_type": "code",
   "execution_count": 3,
   "metadata": {},
   "outputs": [
    {
     "name": "stdout",
     "output_type": "stream",
     "text": [
      "<mdtraj.Trajectory with 2002 frames, 47628 atoms, 7669 residues, and unitcells>\n"
     ]
    }
   ],
   "source": [
    "selection = trr_files[0]\n",
    "trrs = []\n",
    "for s in selection:\n",
    "    trrs.append(s+'.trr')\n",
    "traj = md.load(trrs, top=selection[0]+'.gro')\n",
    "print(traj)"
   ]
  },
  {
   "cell_type": "code",
   "execution_count": 16,
   "metadata": {},
   "outputs": [
    {
     "ename": "MemoryError",
     "evalue": "",
     "output_type": "error",
     "traceback": [
      "\u001b[0;31m---------------------------------------------------------------------------\u001b[0m",
      "\u001b[0;31mMemoryError\u001b[0m                               Traceback (most recent call last)",
      "\u001b[0;32m<ipython-input-16-4403a9c9ad1d>\u001b[0m in \u001b[0;36m<module>\u001b[0;34m()\u001b[0m\n\u001b[1;32m      5\u001b[0m \u001b[0mpairs\u001b[0m \u001b[0;34m=\u001b[0m \u001b[0mtraj\u001b[0m\u001b[0;34m.\u001b[0m\u001b[0mtop\u001b[0m\u001b[0;34m.\u001b[0m\u001b[0mselect_pairs\u001b[0m\u001b[0;34m(\u001b[0m\u001b[0msel1\u001b[0m\u001b[0;34m,\u001b[0m \u001b[0msel2\u001b[0m\u001b[0;34m)\u001b[0m\u001b[0;34m\u001b[0m\u001b[0m\n\u001b[1;32m      6\u001b[0m \u001b[0;34m\u001b[0m\u001b[0m\n\u001b[0;32m----> 7\u001b[0;31m \u001b[0mhi\u001b[0m \u001b[0;34m=\u001b[0m \u001b[0mmd\u001b[0m\u001b[0;34m.\u001b[0m\u001b[0mcompute_rdf\u001b[0m\u001b[0;34m(\u001b[0m\u001b[0mtraj\u001b[0m\u001b[0;34m,\u001b[0m \u001b[0mpairs\u001b[0m\u001b[0;34m)\u001b[0m\u001b[0;34m\u001b[0m\u001b[0m\n\u001b[0m",
      "\u001b[0;32m/home/adommer/anaconda3/envs/py27/lib/python2.7/site-packages/mdtraj/geometry/rdf.pyc\u001b[0m in \u001b[0;36mcompute_rdf\u001b[0;34m(traj, pairs, r_range, bin_width, n_bins, periodic, opt)\u001b[0m\n\u001b[1;32m     78\u001b[0m         \u001b[0mn_bins\u001b[0m \u001b[0;34m=\u001b[0m \u001b[0mint\u001b[0m\u001b[0;34m(\u001b[0m\u001b[0;34m(\u001b[0m\u001b[0mr_range\u001b[0m\u001b[0;34m[\u001b[0m\u001b[0;36m1\u001b[0m\u001b[0;34m]\u001b[0m \u001b[0;34m-\u001b[0m \u001b[0mr_range\u001b[0m\u001b[0;34m[\u001b[0m\u001b[0;36m0\u001b[0m\u001b[0;34m]\u001b[0m\u001b[0;34m)\u001b[0m \u001b[0;34m/\u001b[0m \u001b[0mbin_width\u001b[0m\u001b[0;34m)\u001b[0m\u001b[0;34m\u001b[0m\u001b[0m\n\u001b[1;32m     79\u001b[0m \u001b[0;34m\u001b[0m\u001b[0m\n\u001b[0;32m---> 80\u001b[0;31m     \u001b[0mdistances\u001b[0m \u001b[0;34m=\u001b[0m \u001b[0mcompute_distances\u001b[0m\u001b[0;34m(\u001b[0m\u001b[0mtraj\u001b[0m\u001b[0;34m,\u001b[0m \u001b[0mpairs\u001b[0m\u001b[0;34m,\u001b[0m \u001b[0mperiodic\u001b[0m\u001b[0;34m=\u001b[0m\u001b[0mperiodic\u001b[0m\u001b[0;34m,\u001b[0m \u001b[0mopt\u001b[0m\u001b[0;34m=\u001b[0m\u001b[0mopt\u001b[0m\u001b[0;34m)\u001b[0m\u001b[0;34m\u001b[0m\u001b[0m\n\u001b[0m\u001b[1;32m     81\u001b[0m     \u001b[0mg_r\u001b[0m\u001b[0;34m,\u001b[0m \u001b[0medges\u001b[0m \u001b[0;34m=\u001b[0m \u001b[0mnp\u001b[0m\u001b[0;34m.\u001b[0m\u001b[0mhistogram\u001b[0m\u001b[0;34m(\u001b[0m\u001b[0mdistances\u001b[0m\u001b[0;34m,\u001b[0m \u001b[0mrange\u001b[0m\u001b[0;34m=\u001b[0m\u001b[0mr_range\u001b[0m\u001b[0;34m,\u001b[0m \u001b[0mbins\u001b[0m\u001b[0;34m=\u001b[0m\u001b[0mn_bins\u001b[0m\u001b[0;34m)\u001b[0m\u001b[0;34m\u001b[0m\u001b[0m\n\u001b[1;32m     82\u001b[0m     \u001b[0mr\u001b[0m \u001b[0;34m=\u001b[0m \u001b[0;36m0.5\u001b[0m \u001b[0;34m*\u001b[0m \u001b[0;34m(\u001b[0m\u001b[0medges\u001b[0m\u001b[0;34m[\u001b[0m\u001b[0;36m1\u001b[0m\u001b[0;34m:\u001b[0m\u001b[0;34m]\u001b[0m \u001b[0;34m+\u001b[0m \u001b[0medges\u001b[0m\u001b[0;34m[\u001b[0m\u001b[0;34m:\u001b[0m\u001b[0;34m-\u001b[0m\u001b[0;36m1\u001b[0m\u001b[0;34m]\u001b[0m\u001b[0;34m)\u001b[0m\u001b[0;34m\u001b[0m\u001b[0m\n",
      "\u001b[0;32m/home/adommer/anaconda3/envs/py27/lib/python2.7/site-packages/mdtraj/geometry/distance.pyc\u001b[0m in \u001b[0;36mcompute_distances\u001b[0;34m(traj, atom_pairs, periodic, opt)\u001b[0m\n\u001b[1;32m     71\u001b[0m         \u001b[0morthogonal\u001b[0m \u001b[0;34m=\u001b[0m \u001b[0mnp\u001b[0m\u001b[0;34m.\u001b[0m\u001b[0mallclose\u001b[0m\u001b[0;34m(\u001b[0m\u001b[0mtraj\u001b[0m\u001b[0;34m.\u001b[0m\u001b[0munitcell_angles\u001b[0m\u001b[0;34m,\u001b[0m \u001b[0;36m90\u001b[0m\u001b[0;34m)\u001b[0m\u001b[0;34m\u001b[0m\u001b[0m\n\u001b[1;32m     72\u001b[0m         \u001b[0;32mif\u001b[0m \u001b[0mopt\u001b[0m\u001b[0;34m:\u001b[0m\u001b[0;34m\u001b[0m\u001b[0m\n\u001b[0;32m---> 73\u001b[0;31m             \u001b[0mout\u001b[0m \u001b[0;34m=\u001b[0m \u001b[0mnp\u001b[0m\u001b[0;34m.\u001b[0m\u001b[0mempty\u001b[0m\u001b[0;34m(\u001b[0m\u001b[0;34m(\u001b[0m\u001b[0mxyz\u001b[0m\u001b[0;34m.\u001b[0m\u001b[0mshape\u001b[0m\u001b[0;34m[\u001b[0m\u001b[0;36m0\u001b[0m\u001b[0;34m]\u001b[0m\u001b[0;34m,\u001b[0m \u001b[0mpairs\u001b[0m\u001b[0;34m.\u001b[0m\u001b[0mshape\u001b[0m\u001b[0;34m[\u001b[0m\u001b[0;36m0\u001b[0m\u001b[0;34m]\u001b[0m\u001b[0;34m)\u001b[0m\u001b[0;34m,\u001b[0m \u001b[0mdtype\u001b[0m\u001b[0;34m=\u001b[0m\u001b[0mnp\u001b[0m\u001b[0;34m.\u001b[0m\u001b[0mfloat32\u001b[0m\u001b[0;34m)\u001b[0m\u001b[0;34m\u001b[0m\u001b[0m\n\u001b[0m\u001b[1;32m     74\u001b[0m             \u001b[0m_geometry\u001b[0m\u001b[0;34m.\u001b[0m\u001b[0m_dist_mic\u001b[0m\u001b[0;34m(\u001b[0m\u001b[0mxyz\u001b[0m\u001b[0;34m,\u001b[0m \u001b[0mpairs\u001b[0m\u001b[0;34m,\u001b[0m \u001b[0mbox\u001b[0m\u001b[0;34m.\u001b[0m\u001b[0mtranspose\u001b[0m\u001b[0;34m(\u001b[0m\u001b[0;36m0\u001b[0m\u001b[0;34m,\u001b[0m \u001b[0;36m2\u001b[0m\u001b[0;34m,\u001b[0m \u001b[0;36m1\u001b[0m\u001b[0;34m)\u001b[0m\u001b[0;34m.\u001b[0m\u001b[0mcopy\u001b[0m\u001b[0;34m(\u001b[0m\u001b[0;34m)\u001b[0m\u001b[0;34m,\u001b[0m \u001b[0mout\u001b[0m\u001b[0;34m,\u001b[0m \u001b[0morthogonal\u001b[0m\u001b[0;34m)\u001b[0m\u001b[0;34m\u001b[0m\u001b[0m\n\u001b[1;32m     75\u001b[0m             \u001b[0;32mreturn\u001b[0m \u001b[0mout\u001b[0m\u001b[0;34m\u001b[0m\u001b[0m\n",
      "\u001b[0;31mMemoryError\u001b[0m: "
     ]
    }
   ],
   "source": [
    "sel1 = traj.top.select(\"name 'C1'\")\n",
    "sel2 = traj.top.select('water')\n",
    "sel3 = traj.top.select('resname SOD')\n",
    "\n",
    "pairs = traj.top.select_pairs(sel1, sel2)\n",
    "\n",
    "hi = md.compute_rdf(traj, pairs)"
   ]
  },
  {
   "cell_type": "code",
   "execution_count": null,
   "metadata": {
    "collapsed": true
   },
   "outputs": [],
   "source": []
  }
 ],
 "metadata": {
  "kernelspec": {
   "display_name": "Python 2",
   "language": "python",
   "name": "python2"
  },
  "language_info": {
   "codemirror_mode": {
    "name": "ipython",
    "version": 2
   },
   "file_extension": ".py",
   "mimetype": "text/x-python",
   "name": "python",
   "nbconvert_exporter": "python",
   "pygments_lexer": "ipython2",
   "version": "2.7.14"
  }
 },
 "nbformat": 4,
 "nbformat_minor": 2
}
