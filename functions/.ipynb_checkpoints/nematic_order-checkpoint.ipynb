{
 "cells": [
  {
   "cell_type": "code",
   "execution_count": 54,
   "metadata": {
    "collapsed": true
   },
   "outputs": [],
   "source": [
    "import mdtraj as md\n",
    "import numpy as np\n",
    "import matplotlib.pyplot as plt\n",
    "import csv\n",
    "import xlrd\n",
    "import os\n",
    "import os.path\n",
    "from pathlib2 import Path\n",
    "from decimal import *\n",
    "%matplotlib inline"
   ]
  },
  {
   "cell_type": "markdown",
   "metadata": {
    "collapsed": true
   },
   "source": [
    "## import namd & gmx data"
   ]
  },
  {
   "cell_type": "code",
   "execution_count": 60,
   "metadata": {},
   "outputs": [],
   "source": [
    "gmx_surface_areas = ['SA19-1_20ns', 'SA19-2_100ns', 'SA19-3_20ns',\n",
    "                 'SA19.5_100ns', 'SA19.5-2_20ns', 'SA19.5-3_20ns',\n",
    "                 'SA20_20ns', 'SA20-2_20ns', 'SA20-3_100ns',\n",
    "                 'SA21_100ns', 'SA21-2_20ns', 'SA21-3_20ns', \n",
    "                 'SA22_20ns', 'SA22-2_20ns', 'SA22-3_100ns', \n",
    "                 'SA24_20ns', 'SA24-2_20ns', 'SA24-3_100ns']\n",
    "namd_surface_areas = ['SA19','SA19-2', 'SA19-3', \n",
    "                   'SA19.5','SA19.5-2', 'SA19.5-3',\n",
    "                   'SA20','SA20-2', 'SA20-3',\n",
    "                   'SA20.5', 'SA20.5-2', 'SA20.5-3',\n",
    "                   'SA21','SA21-2', 'SA21-3',\n",
    "                   'SA22','SA22-2', 'SA22-3',\n",
    "                   'SA23','SA23-2', 'SA23-3',\n",
    "                   'SA24', 'SA24-2', 'SA24-3']\n",
    "namd_filenames = ['step7.1', 'step7.2', 'step7.21', 'step7.3', 'step7.31', 'step7.32', 'step7.33', 'step7.34',\n",
    "               'step7.35','step7.4', 'step7.41', 'step7.42', 'step7.43', 'step7.44', 'step7.45']\n",
    "gmx_filenames = []\n",
    "for g in range(1,21):\n",
    "    gmx_filenames.append('step9_'+str(g))\n",
    "filedir_g = '/gpfs/amarolab/monolayers/MIX1_NaCl0.4_GMX/'\n",
    "filedir_n = '/gpfs/amarolab/abbyflabby/MIX/MIX1234_NaCl0.4_NAMD/'\n",
    "logfiles_n = []\n",
    "logfiles_g = []\n",
    "trr_files = []\n",
    "dcd_files = []\n",
    "\n",
    "for area in namd_surface_areas:\n",
    "    logchunk = []\n",
    "    dcdchunk = []\n",
    "    for i in namd_filenames:\n",
    "        log = Path(filedir_n+area+'/charmm-gui/namd/'+i+'_production.log')\n",
    "        dcd = Path(filedir_n+area+'/charmm-gui/namd/'+i+'_production.dcd')\n",
    "        if log.exists():\n",
    "            logchunk.append(filedir_n+area+'/charmm-gui/namd/'+i+'_production.log')\n",
    "        if dcd.exists():\n",
    "            dcdchunk.append(filedir_n+area+'/charmm-gui/namd/'+i+'_production.dcd')\n",
    "    if len(logchunk)>0:\n",
    "        logfiles_n.append(logchunk)\n",
    "        dcd_files.append(dcdchunk)\n",
    "#xvgfiles = [] #list of xvg filenames\n",
    "pres = []\n",
    "times = []\n",
    "areas = []\n",
    "trr_files = []\n",
    "#for narea in n_surface_areas:\n",
    "#    logchunk = []\n",
    "    \n",
    "for area in gmx_surface_areas:\n",
    "    xvgchunk = []\n",
    "    trajchunk = []\n",
    "    for i in range(1, 21):\n",
    "        xvg = Path(filedir_g+area+'/step9_'+str(i)+'.xvg')\n",
    "        traj = Path(filedir_g+area+'/step9_'+str(i)+'.trr')\n",
    "        if xvg.exists():\n",
    "            xvgchunk.append(filedir_g+area+'/step9_'+str(i)+'.xvg')\n",
    "        if traj.exists():\n",
    "            trajchunk.append(filedir_g+area+'/step9_'+str(i)+'.trr')\n",
    "    #print(xvgchunk)\n",
    "    for p, x in enumerate(xvgchunk):\n",
    "        if p == 0:\n",
    "            #arr = np.array(timesteps)\n",
    "            #timesteps in nanoseconds\n",
    "            timesteps = np.genfromtxt(x, dtype='float', skip_header=24)[:,0]/1000\n",
    "            #np.append(timesteps, new_ts)\n",
    "            pressures = np.genfromtxt(x, dtype='float', skip_header=24)[:,1]/20\n",
    "            #np.append(pressures, new_pr)\n",
    "            #print(pressures)\n",
    "        else:\n",
    "            time = np.genfromtxt(x,dtype='float', skip_header=24)[:,0]/1000\n",
    "            #print(time)\n",
    "            timesteps = np.append(timesteps, time)\n",
    "      #      #print(time)\n",
    "      #      #t = time.tolist()\n",
    "      #      timesteps.append(time)\n",
    "      #      print(timesteps)\n",
    "            pr = np.genfromtxt(x, dtype='float', skip_header=24)[:,1]/20\n",
    "            pressures = np.append(pressures, pr)\n",
    "    if len(xvgchunk)>0:\n",
    "        pres.append(70.5-np.array(pressures))\n",
    "        times.append(timesteps)\n",
    "        areas.append(area)\n",
    "        logfiles_g.append(xvgchunk)\n",
    "        trr_files.append(trajchunk)\n",
    "#print(len(xvgfiles))\n",
    "#print(xvgfiles)\n",
    "print(len(times[1]))\n",
    "#print(times[1][-1])\n",
    "print(len(pres[1]))\n",
    "#print(len(times))\n",
    "#print(areas)"
   ]
  },
  {
   "cell_type": "markdown",
   "metadata": {},
   "source": [
    "## strip trajectories of water"
   ]
  },
  {
   "cell_type": "code",
   "execution_count": 63,
   "metadata": {},
   "outputs": [],
   "source": [
    "def genStripScript():\n",
    "    with open(filedir_g+'/strip_script.sh', 'w') as file:\n",
    "        for count, area in enumerate(areas):\n",
    "            for step, t in enumerate(trr_files[count]):\n",
    "                file.write('gmx trjconv -f '+filedir_g+area+'/step9_'+str(step+1)+'.trr -o '+filedir_g+area+'/step9_'+str(step+1)+'_stripped.xtc -s '+filedir_g+area+'/step9_'+str(step+1)+'.tpr\\n')\n",
    "#genStripScript()"
   ]
  },
  {
   "cell_type": "code",
   "execution_count": 64,
   "metadata": {},
   "outputs": [],
   "source": [
    "genStripScript()"
   ]
  },
  {
   "cell_type": "code",
   "execution_count": 55,
   "metadata": {},
   "outputs": [
    {
     "name": "stdout",
     "output_type": "stream",
     "text": [
      "<mdtraj.Trajectory with 1 frames, 95875 atoms, 19025 residues, without unitcells>\n"
     ]
    }
   ],
   "source": [
    "pdbb = md.load_pdb('/scratch/abby/charmmgui/MIX/MIX1_NaCl0.4_pH8.2/charmm-gui/step5_assembly.pdb')\n",
    "print(pdbb)"
   ]
  },
  {
   "cell_type": "code",
   "execution_count": 56,
   "metadata": {},
   "outputs": [
    {
     "name": "stdout",
     "output_type": "stream",
     "text": [
      "48\n"
     ]
    }
   ],
   "source": [
    "lau_s = pdbb.top.select('resname LAU')\n",
    "lau = pdbb.atom_slice(lau_s).n_residues\n",
    "print(lau)"
   ]
  },
  {
   "cell_type": "code",
   "execution_count": 57,
   "metadata": {},
   "outputs": [
    {
     "name": "stdout",
     "output_type": "stream",
     "text": [
      "4\n"
     ]
    }
   ],
   "source": [
    "laup_s = pdbb.top.select('resname LAUP')\n",
    "laup = pdbb.atom_slice(laup_s).n_residues\n",
    "print(laup)"
   ]
  },
  {
   "cell_type": "code",
   "execution_count": 58,
   "metadata": {},
   "outputs": [
    {
     "name": "stdout",
     "output_type": "stream",
     "text": [
      "240\n"
     ]
    }
   ],
   "source": [
    "palp_s = pdbb.top.select('resname PALP')\n",
    "palp = pdbb.atom_slice(palp_s).n_residues\n",
    "print(palp)"
   ]
  },
  {
   "cell_type": "code",
   "execution_count": 59,
   "metadata": {},
   "outputs": [
    {
     "name": "stdout",
     "output_type": "stream",
     "text": [
      "192\n"
     ]
    }
   ],
   "source": [
    "pal_s = pdbb.top.select('resname PAL')\n",
    "pal = pdbb.atom_slice(pal_s).n_residues\n",
    "print(pal)"
   ]
  },
  {
   "cell_type": "code",
   "execution_count": null,
   "metadata": {
    "collapsed": true
   },
   "outputs": [],
   "source": []
  },
  {
   "cell_type": "markdown",
   "metadata": {},
   "source": [
    "## load gmx trajectories"
   ]
  },
  {
   "cell_type": "code",
   "execution_count": 69,
   "metadata": {},
   "outputs": [
    {
     "name": "stdout",
     "output_type": "stream",
     "text": [
      "16\n"
     ]
    }
   ],
   "source": [
    "gmx_traj = []\n",
    "namd_traj = []\n",
    "xtcs = []\n",
    "for trr in trr_files:\n",
    "    #print(trr_files)\n",
    "    chunk = []\n",
    "    for t in trr:\n",
    "        chunk.append(t+'_stripped.xtc')\n",
    "    xtcs.append(chunk)\n",
    "#print(xtcs)\n",
    "print(len(xtcs))\n",
    "#print(xtcs)\n",
    "#traj1 = md.load(trr_files[0], top=filedir_g+areas[0]+'/step9_1.gro')\n",
    "#for i,g in enumerate(xtcs):\n",
    "    #traj = md.load(g, top=filedir_g+areas[i]+'/step9_1.gro')\n",
    "    #gmx_traj.append(traj)#\n",
    "#print(gmx_traj)"
   ]
  },
  {
   "cell_type": "code",
   "execution_count": null,
   "metadata": {},
   "outputs": [],
   "source": [
    "ct = 0 \n",
    "for x in xtcs:\n",
    "    chunk = []\n",
    "    traj = md.load(x, top=filedir_g+areas[ct]+'/step9_1_stripped.pdb')\n",
    "    chunk.append(traj)\n",
    "    ct+=1\n",
    "    gmx_traj.append(chunk)\n",
    "print(gmx_traj)"
   ]
  },
  {
   "cell_type": "code",
   "execution_count": 71,
   "metadata": {},
   "outputs": [
    {
     "name": "stdout",
     "output_type": "stream",
     "text": [
      "<mdtraj.Trajectory with 2001 frames, 18872 atoms, 480 residues, and unitcells>\n"
     ]
    }
   ],
   "source": []
  },
  {
   "cell_type": "markdown",
   "metadata": {},
   "source": [
    "## obtain trajectories for upper and lower leaflets"
   ]
  },
  {
   "cell_type": "code",
   "execution_count": null,
   "metadata": {
    "collapsed": true
   },
   "outputs": [],
   "source": []
  },
  {
   "cell_type": "code",
   "execution_count": null,
   "metadata": {
    "collapsed": true
   },
   "outputs": [],
   "source": [
    "count = 0\n",
    "lipidTrajArray = []\n",
    "lipids = []\n",
    "ptTrajArray = []\n",
    "for traj in gmx_traj:\n",
    "    #traj = md.load(dcds[count], top=filedir1+\"SA\"+i+\"/charmm-gui/step5_assembly.xplor_ext.psf\")\n",
    "    #traj = md.load(dcds[count], top=filedir1+\"SA\"+i+\"/charmm-gui/gromacs/Trial1-100/step9_1.gro\")\n",
    "    #pttraj = pt.load(dcds[count], filedir1+\"SA\"+i+\"/charmm-gui/gromacs/Trial1-100/step9_1.gro\")\n",
    "    lipidSelection = traj.topology.select('resname PALP or resname LAUP or resname STEP or resname MYRP')\n",
    "    lipidTraj = traj.atom_slice(lipidSelection).center_coordinates()\n",
    "    lipids.append(lipidTraj)\n",
    "    C1selection = lipidTraj.topology.select('name C1')\n",
    "    C1Traj = lipidTraj.atom_slice(C1selection)\n",
    "    coords = C1Traj.xyz\n",
    "    finalCoords = coords[len(coords)-1]\n",
    "    upper_indices = ''\n",
    "    lower_indices = ''\n",
    "    count2 = 1\n",
    "    for x, y, z in finalCoords: #for each C1\n",
    "        if z > 0:\n",
    "            if len(upper_indices) == 0:\n",
    "                upper_indices += ('residue '+str(count2))\n",
    "            else:\n",
    "                upper_indices+=(' or residue '+ str(count2))\n",
    "        else:\n",
    "            if len(lower_indices) == 0:\n",
    "                lower_indices+=('residue '+str(count2))\n",
    "            else:\n",
    "                lower_indices+=(' or residue '+str(count2))\n",
    "        count2 +=1\n",
    "    #print(upper_indices)\n",
    "    upperLeafSelection = lipidTraj.topology.select(upper_indices)\n",
    "    upperLeafTraj = lipidTraj.atom_slice(upperLeafSelection)\n",
    "    lowerLeafSelection = lipidTraj.topology.select(lower_indices)\n",
    "    lowerLeafTraj = lipidTraj.atom_slice(lowerLeafSelection)\n",
    "    lipidTrajArray.append([upperLeafTraj, lowerLeafTraj])\n",
    "    #ptTrajArray.append(pttraj)\n",
    "    count +=1\n",
    "print(lipidTrajArray)\n",
    "print(lipids)"
   ]
  },
  {
   "cell_type": "markdown",
   "metadata": {},
   "source": [
    "## Nematic Order parameter calculation"
   ]
  },
  {
   "cell_type": "code",
   "execution_count": null,
   "metadata": {
    "collapsed": true
   },
   "outputs": [],
   "source": []
  },
  {
   "cell_type": "code",
   "execution_count": 5,
   "metadata": {},
   "outputs": [
    {
     "ename": "IndexError",
     "evalue": "index 18772 is out of bounds for axis 1 with size 18772",
     "output_type": "error",
     "traceback": [
      "\u001b[0;31m---------------------------------------------------------------------------\u001b[0m",
      "\u001b[0;31mIndexError\u001b[0m                                Traceback (most recent call last)",
      "\u001b[0;32m<ipython-input-5-b630aa78f43b>\u001b[0m in \u001b[0;36m<module>\u001b[0;34m()\u001b[0m\n\u001b[1;32m     51\u001b[0m             \u001b[0;32melse\u001b[0m\u001b[0;34m:\u001b[0m\u001b[0;34m\u001b[0m\u001b[0m\n\u001b[1;32m     52\u001b[0m                 \u001b[0mchunk\u001b[0m\u001b[0;34m.\u001b[0m\u001b[0mappend\u001b[0m\u001b[0;34m(\u001b[0m\u001b[0matomIdx\u001b[0m\u001b[0;34m)\u001b[0m\u001b[0;34m\u001b[0m\u001b[0m\n\u001b[0;32m---> 53\u001b[0;31m     \u001b[0ms\u001b[0m \u001b[0;34m=\u001b[0m \u001b[0mmd\u001b[0m\u001b[0;34m.\u001b[0m\u001b[0mcompute_nematic_order\u001b[0m\u001b[0;34m(\u001b[0m\u001b[0mt\u001b[0m\u001b[0;34m,\u001b[0m \u001b[0mindices\u001b[0m \u001b[0;34m=\u001b[0m \u001b[0mnemOrderIdx\u001b[0m\u001b[0;34m)\u001b[0m\u001b[0;34m\u001b[0m\u001b[0m\n\u001b[0m\u001b[1;32m     54\u001b[0m     \u001b[0mnemData\u001b[0m\u001b[0;34m.\u001b[0m\u001b[0mappend\u001b[0m\u001b[0;34m(\u001b[0m\u001b[0ms\u001b[0m\u001b[0;34m)\u001b[0m\u001b[0;34m\u001b[0m\u001b[0m\n\u001b[1;32m     55\u001b[0m     \u001b[0mcount\u001b[0m\u001b[0;34m+=\u001b[0m\u001b[0;36m1\u001b[0m\u001b[0;34m\u001b[0m\u001b[0m\n",
      "\u001b[0;32m/home/adommer/anaconda3/lib/python3.6/site-packages/mdtraj/geometry/order.py\u001b[0m in \u001b[0;36mcompute_nematic_order\u001b[0;34m(traj, indices)\u001b[0m\n\u001b[1;32m     93\u001b[0m     \"\"\"\n\u001b[1;32m     94\u001b[0m     \u001b[0;31m# Compute the directors for each compound for each frame.\u001b[0m\u001b[0;34m\u001b[0m\u001b[0;34m\u001b[0m\u001b[0m\n\u001b[0;32m---> 95\u001b[0;31m     \u001b[0mall_directors\u001b[0m \u001b[0;34m=\u001b[0m \u001b[0mcompute_directors\u001b[0m\u001b[0;34m(\u001b[0m\u001b[0mtraj\u001b[0m\u001b[0;34m,\u001b[0m \u001b[0mindices\u001b[0m\u001b[0;34m)\u001b[0m\u001b[0;34m\u001b[0m\u001b[0m\n\u001b[0m\u001b[1;32m     96\u001b[0m \u001b[0;34m\u001b[0m\u001b[0m\n\u001b[1;32m     97\u001b[0m     \u001b[0;31m# From the directors, compute the Q-tensor and nematic order parameter, S2.\u001b[0m\u001b[0;34m\u001b[0m\u001b[0;34m\u001b[0m\u001b[0m\n",
      "\u001b[0;32m/home/adommer/anaconda3/lib/python3.6/site-packages/mdtraj/geometry/order.py\u001b[0m in \u001b[0;36mcompute_directors\u001b[0;34m(traj, indices)\u001b[0m\n\u001b[1;32m    156\u001b[0m                              dtype=np.float64)\n\u001b[1;32m    157\u001b[0m     \u001b[0;32mfor\u001b[0m \u001b[0mi\u001b[0m\u001b[0;34m,\u001b[0m \u001b[0mids\u001b[0m \u001b[0;32min\u001b[0m \u001b[0menumerate\u001b[0m\u001b[0;34m(\u001b[0m\u001b[0mindices\u001b[0m\u001b[0;34m)\u001b[0m\u001b[0;34m:\u001b[0m\u001b[0;34m\u001b[0m\u001b[0m\n\u001b[0;32m--> 158\u001b[0;31m         \u001b[0msub_traj\u001b[0m \u001b[0;34m=\u001b[0m \u001b[0mtraj\u001b[0m\u001b[0;34m.\u001b[0m\u001b[0matom_slice\u001b[0m\u001b[0;34m(\u001b[0m\u001b[0mids\u001b[0m\u001b[0;34m)\u001b[0m\u001b[0;34m\u001b[0m\u001b[0m\n\u001b[0m\u001b[1;32m    159\u001b[0m         \u001b[0mdirector\u001b[0m \u001b[0;34m=\u001b[0m \u001b[0m_compute_director\u001b[0m\u001b[0;34m(\u001b[0m\u001b[0msub_traj\u001b[0m\u001b[0;34m)\u001b[0m\u001b[0;34m\u001b[0m\u001b[0m\n\u001b[1;32m    160\u001b[0m         \u001b[0mall_directors\u001b[0m\u001b[0;34m[\u001b[0m\u001b[0;34m:\u001b[0m\u001b[0;34m,\u001b[0m \u001b[0mi\u001b[0m\u001b[0;34m,\u001b[0m \u001b[0;34m:\u001b[0m\u001b[0;34m]\u001b[0m \u001b[0;34m=\u001b[0m \u001b[0mdirector\u001b[0m\u001b[0;34m\u001b[0m\u001b[0m\n",
      "\u001b[0;32m/home/adommer/anaconda3/lib/python3.6/site-packages/mdtraj/core/trajectory.py\u001b[0m in \u001b[0;36matom_slice\u001b[0;34m(self, atom_indices, inplace)\u001b[0m\n\u001b[1;32m   1712\u001b[0m         \u001b[0mstack\u001b[0m \u001b[0;34m:\u001b[0m \u001b[0mstack\u001b[0m \u001b[0mmultiple\u001b[0m \u001b[0mtrajectories\u001b[0m \u001b[0malong\u001b[0m \u001b[0mthe\u001b[0m \u001b[0matom\u001b[0m \u001b[0maxis\u001b[0m\u001b[0;34m\u001b[0m\u001b[0m\n\u001b[1;32m   1713\u001b[0m         \"\"\"\n\u001b[0;32m-> 1714\u001b[0;31m         \u001b[0mxyz\u001b[0m \u001b[0;34m=\u001b[0m \u001b[0mnp\u001b[0m\u001b[0;34m.\u001b[0m\u001b[0marray\u001b[0m\u001b[0;34m(\u001b[0m\u001b[0mself\u001b[0m\u001b[0;34m.\u001b[0m\u001b[0mxyz\u001b[0m\u001b[0;34m[\u001b[0m\u001b[0;34m:\u001b[0m\u001b[0;34m,\u001b[0m \u001b[0matom_indices\u001b[0m\u001b[0;34m]\u001b[0m\u001b[0;34m,\u001b[0m \u001b[0morder\u001b[0m\u001b[0;34m=\u001b[0m\u001b[0;34m'C'\u001b[0m\u001b[0;34m)\u001b[0m\u001b[0;34m\u001b[0m\u001b[0m\n\u001b[0m\u001b[1;32m   1715\u001b[0m         \u001b[0mtopology\u001b[0m \u001b[0;34m=\u001b[0m \u001b[0;32mNone\u001b[0m\u001b[0;34m\u001b[0m\u001b[0m\n\u001b[1;32m   1716\u001b[0m         \u001b[0;32mif\u001b[0m \u001b[0mself\u001b[0m\u001b[0;34m.\u001b[0m\u001b[0m_topology\u001b[0m \u001b[0;32mis\u001b[0m \u001b[0;32mnot\u001b[0m \u001b[0;32mNone\u001b[0m\u001b[0;34m:\u001b[0m\u001b[0;34m\u001b[0m\u001b[0m\n",
      "\u001b[0;31mIndexError\u001b[0m: index 18772 is out of bounds for axis 1 with size 18772"
     ]
    }
   ],
   "source": [
    "## need to create an array of arrays with the indices of EACH atom in each residue\n",
    "##[[atom indices for res#1], [atom indices for res#2]] ...etc\n",
    "nemData = []\n",
    "count = 0\n",
    "#surface_areas = [\"19\"]\n",
    "for ct, area in enumerate(areas):\n",
    "    nemOrderIdx = []\n",
    "    resID = []\n",
    "    chunk = []\n",
    "    #t_all = md.load(dcds[count], top=filedir1+\"SA\"+area+\"/charmm-gui/step5_assembly.xplor_ext.psf\")\n",
    "    #t_all = md.load(trajfiles[count], top=filedir+area+\"/step9_1.gro\")\n",
    "    upper_pdb = lipidTrajArray[ct][0][-1].save_pdb(filedir_g+area+'/upper_PDB.pdb')\n",
    "    lower_pdb = lipidTrajArray[ct][1][-1].save_pdb(filedir_g+area+'/lower_PDB.pdb')\n",
    "    #lip = t_all.topology.select('resname LAUP or resname MYRP or resname PALP or resname STEP')\n",
    "    #t = t_all.atom_slice(lip)\n",
    "    pu = md.load_pdb(filedir_g+area+'/upper_PDB.pdb')\n",
    "    pl = md.load_pdb(filedir_g+area+'/lower_PDB.pdb')\n",
    "    #p = md.load_pdb(filedir1+\"/SA19_last_rm.pdb\")\n",
    "    for leaflet in [pu, pl]\n",
    "        resNum =pu.n_residues \n",
    "        lines = open('PDB.pdb', \"r\")\n",
    "        #lines = open(filedir1+\"/SA19_last_rm.pdb\", \"r\")\n",
    "        for line in lines:\n",
    "            if line[0] == \"A\":\n",
    "                #print(line[6:11]) #atom index\n",
    "                #print(line[23:26])##residue sequence number\n",
    "                resIDCur = line[23:26]\n",
    "                #print(resIDCur)\n",
    "                resID.append(resIDCur)\n",
    "                atomIdx = int(line[6:11].replace(\" \", \"\"))\n",
    "                #print(atomIdx)\n",
    "                if len(resID) > 1:\n",
    "                    if len(resID) == resNum - 1:\n",
    "                        chunk.append(atomIdx)\n",
    "                        nemOrderIdx.append(chunk)\n",
    "                    #print(resID[-1])\n",
    "                    #print(resID[-2])\n",
    "                    #print('END')\n",
    "                    elif resID[-1] == resID[-2]: #if the last thing added to the resID guy is the same \n",
    "                    #as the previous guy added, then there has been no change in the residue, so we should keep \n",
    "                    #adding indices to chunk\n",
    "                        #print('here')\n",
    "                        chunk.append(atomIdx)\n",
    "                        #print(chunk)\n",
    "                    #else, we need to append the chunk to the nematic order index and start a new chunk\n",
    "                    else:\n",
    "                        nemOrderIdx.append(chunk)\n",
    "                        chunk = []\n",
    "                        chunk.append(atomIdx)\n",
    "                    #if resSeqCur != resSeq: \n",
    "                    #    nemOrderIdx.append(chunk)\n",
    "                    #else:\n",
    "                    #    chunk.append(atomIdx)\n",
    "                else:\n",
    "                    chunk.append(atomIdx)\n",
    "        s = md.compute_nematic_order(t, indices = nemOrderIdx)\n",
    "    nemData.append(s)\n",
    "    count+=1"
   ]
  },
  {
   "cell_type": "code",
   "execution_count": null,
   "metadata": {
    "collapsed": true
   },
   "outputs": [],
   "source": []
  }
 ],
 "metadata": {
  "kernelspec": {
   "display_name": "Python 3",
   "language": "python",
   "name": "python3"
  },
  "language_info": {
   "codemirror_mode": {
    "name": "ipython",
    "version": 3
   },
   "file_extension": ".py",
   "mimetype": "text/x-python",
   "name": "python",
   "nbconvert_exporter": "python",
   "pygments_lexer": "ipython3",
   "version": "3.6.1"
  }
 },
 "nbformat": 4,
 "nbformat_minor": 2
}
