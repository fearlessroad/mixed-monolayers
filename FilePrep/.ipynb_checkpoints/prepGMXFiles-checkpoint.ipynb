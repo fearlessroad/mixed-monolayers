{
 "cells": [
  {
   "cell_type": "code",
   "execution_count": 10,
   "metadata": {},
   "outputs": [],
   "source": [
    "import csv\n",
    "import numpy as np\n",
    "import mdtraj as md\n",
    "import os\n",
    "import os.path\n",
    "from pathlib2 import Path"
   ]
  },
  {
   "cell_type": "code",
   "execution_count": 11,
   "metadata": {},
   "outputs": [],
   "source": [
    "baseDir = '/extra/moana/amarolab1/cloudlady/'\n",
    "mix1 = 'MIX1_monolayers'\n",
    "mix2 = 'MIX2_monolayers'\n",
    "mix3 = 'MIX3_monolayers'\n",
    "laup = 'LAUP_monolayers'\n",
    "palp = 'PALP_monolayers'\n",
    "types = [mix1, mix2, mix3, laup, palp]\n",
    "SA = '20'"
   ]
  },
  {
   "cell_type": "code",
   "execution_count": 26,
   "metadata": {},
   "outputs": [
    {
     "name": "stdout",
     "output_type": "stream",
     "text": [
      "[['/extra/moana/amarolab1/cloudlady/MIX1_monolayers/SA20-1_100ns/step9_1.trr', '/extra/moana/amarolab1/cloudlady/MIX1_monolayers/SA20-1_100ns/step9_2.trr', '/extra/moana/amarolab1/cloudlady/MIX1_monolayers/SA20-1_100ns/step9_3.trr', '/extra/moana/amarolab1/cloudlady/MIX1_monolayers/SA20-1_100ns/step9_4.trr'], ['/extra/moana/amarolab1/cloudlady/MIX1_monolayers/SA20-2_100ns/step9_1.trr', '/extra/moana/amarolab1/cloudlady/MIX1_monolayers/SA20-2_100ns/step9_2.trr', '/extra/moana/amarolab1/cloudlady/MIX1_monolayers/SA20-2_100ns/step9_3.trr', '/extra/moana/amarolab1/cloudlady/MIX1_monolayers/SA20-2_100ns/step9_4.trr'], ['/extra/moana/amarolab1/cloudlady/MIX1_monolayers/SA20-3_100ns/step9_1.trr', '/extra/moana/amarolab1/cloudlady/MIX1_monolayers/SA20-3_100ns/step9_2.trr'], ['/extra/moana/amarolab1/cloudlady/MIX2_monolayers/SA20-1_100ns/step9_1.trr'], ['/extra/moana/amarolab1/cloudlady/MIX2_monolayers/SA20-2_100ns/step9_1.trr', '/extra/moana/amarolab1/cloudlady/MIX2_monolayers/SA20-2_100ns/step9_2.trr', '/extra/moana/amarolab1/cloudlady/MIX2_monolayers/SA20-2_100ns/step9_3.trr', '/extra/moana/amarolab1/cloudlady/MIX2_monolayers/SA20-2_100ns/step9_4.trr'], ['/extra/moana/amarolab1/cloudlady/MIX2_monolayers/SA20-3_100ns/step9_1.trr', '/extra/moana/amarolab1/cloudlady/MIX2_monolayers/SA20-3_100ns/step9_2.trr', '/extra/moana/amarolab1/cloudlady/MIX2_monolayers/SA20-3_100ns/step9_3.trr', '/extra/moana/amarolab1/cloudlady/MIX2_monolayers/SA20-3_100ns/step9_4.trr'], ['/extra/moana/amarolab1/cloudlady/MIX3_monolayers/SA20-1_100ns/step9_1.trr'], ['/extra/moana/amarolab1/cloudlady/MIX3_monolayers/SA20-2_100ns/step9_1.trr', '/extra/moana/amarolab1/cloudlady/MIX3_monolayers/SA20-2_100ns/step9_2.trr', '/extra/moana/amarolab1/cloudlady/MIX3_monolayers/SA20-2_100ns/step9_3.trr', '/extra/moana/amarolab1/cloudlady/MIX3_monolayers/SA20-2_100ns/step9_4.trr'], ['/extra/moana/amarolab1/cloudlady/MIX3_monolayers/SA20-3_100ns/step9_1.trr', '/extra/moana/amarolab1/cloudlady/MIX3_monolayers/SA20-3_100ns/step9_2.trr', '/extra/moana/amarolab1/cloudlady/MIX3_monolayers/SA20-3_100ns/step9_3.trr', '/extra/moana/amarolab1/cloudlady/MIX3_monolayers/SA20-3_100ns/step9_4.trr'], ['/extra/moana/amarolab1/cloudlady/LAUP_monolayers/SA20-1_100ns/step9_1.trr'], ['/extra/moana/amarolab1/cloudlady/LAUP_monolayers/SA20-2_100ns/step9_1.trr'], ['/extra/moana/amarolab1/cloudlady/LAUP_monolayers/SA20-3_100ns/step9_1.trr', '/extra/moana/amarolab1/cloudlady/LAUP_monolayers/SA20-3_100ns/step9_2.trr', '/extra/moana/amarolab1/cloudlady/LAUP_monolayers/SA20-3_100ns/step9_3.trr', '/extra/moana/amarolab1/cloudlady/LAUP_monolayers/SA20-3_100ns/step9_4.trr'], ['/extra/moana/amarolab1/cloudlady/PALP_monolayers/SA20-1_100ns/step9_1.trr', '/extra/moana/amarolab1/cloudlady/PALP_monolayers/SA20-1_100ns/step9_2.trr', '/extra/moana/amarolab1/cloudlady/PALP_monolayers/SA20-1_100ns/step9_3.trr', '/extra/moana/amarolab1/cloudlady/PALP_monolayers/SA20-1_100ns/step9_4.trr'], ['/extra/moana/amarolab1/cloudlady/PALP_monolayers/SA20-2_100ns/step9_1.trr', '/extra/moana/amarolab1/cloudlady/PALP_monolayers/SA20-2_100ns/step9_2.trr', '/extra/moana/amarolab1/cloudlady/PALP_monolayers/SA20-2_100ns/step9_3.trr']]\n"
     ]
    }
   ],
   "source": [
    "trials = ['1','2','3']\n",
    "filenames = []\n",
    "for i in range(1, 5):\n",
    "    filenames.append('step9_'+str(i)+'.trr')\n",
    "dcds = []\n",
    "for typ in types:\n",
    "    for trial in trials:\n",
    "        chunk = []\n",
    "        for file in filenames:\n",
    "            p = baseDir+typ+'/SA'+SA+\"-\"+trial+\"_100ns/\"+file\n",
    "            dcd = Path(p)\n",
    "            if dcd.exists():\n",
    "                chunk.append(p)\n",
    "        if len(chunk)>0:\n",
    "            dcds.append(chunk)\n",
    "print(dcds)"
   ]
  },
  {
   "cell_type": "markdown",
   "metadata": {},
   "source": [
    "## Concat GMX trajectories & strip water"
   ]
  },
  {
   "cell_type": "code",
   "execution_count": null,
   "metadata": {},
   "outputs": [],
   "source": []
  }
 ],
 "metadata": {
  "kernelspec": {
   "display_name": "Python 3",
   "language": "python",
   "name": "python3"
  },
  "language_info": {
   "codemirror_mode": {
    "name": "ipython",
    "version": 3
   },
   "file_extension": ".py",
   "mimetype": "text/x-python",
   "name": "python",
   "nbconvert_exporter": "python",
   "pygments_lexer": "ipython3",
   "version": "3.6.1"
  }
 },
 "nbformat": 4,
 "nbformat_minor": 2
}
